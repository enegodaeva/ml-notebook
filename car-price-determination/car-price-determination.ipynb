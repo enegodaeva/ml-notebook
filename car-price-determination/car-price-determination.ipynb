{
 "cells": [
  {
   "cell_type": "markdown",
   "metadata": {
    "id": "lDEdhC4Zlk9N"
   },
   "source": [
    "# Определение стоимости автомобилей"
   ]
  },
  {
   "cell_type": "markdown",
   "metadata": {
    "id": "8EsCaUTLlk9V"
   },
   "source": [
    "В целях привлечения новых клиентов сервис по продаже автомобилей с пробегом\n",
    "разрабатывает приложение для расчёта рыночной стоимости автомобиля\n",
    "Необходимо построить модель, которая будет определять стоимость автомобиля по его характеристикам\n",
    "\n",
    "Заказчику важны:\n",
    "- качество предсказания;\n",
    "- скорость предсказания;\n",
    "- время обучения."
   ]
  },
  {
   "cell_type": "markdown",
   "metadata": {
    "id": "5J1mFVVklk9a"
   },
   "source": [
    "## Подготовка данных"
   ]
  },
  {
   "cell_type": "markdown",
   "metadata": {
    "id": "vFZ2jTcAlk9b"
   },
   "source": [
    "### Обзор данных"
   ]
  },
  {
   "cell_type": "code",
   "execution_count": 1,
   "metadata": {
    "id": "fY7hw8PElk9c"
   },
   "outputs": [],
   "source": [
    "import pandas as pd\n",
    "import numpy as np\n",
    "import matplotlib.pyplot as plt\n",
    "import lightgbm as lgb\n",
    "\n",
    "from sklearn.linear_model import LinearRegression\n",
    "from sklearn.tree import DecisionTreeRegressor\n",
    "from sklearn.ensemble import RandomForestRegressor\n",
    "\n",
    "from sklearn.model_selection import cross_val_score, train_test_split, GridSearchCV\n",
    "from sklearn.preprocessing import StandardScaler\n",
    "from category_encoders.binary import BinaryEncoder\n",
    "from sklearn.metrics import mean_squared_error, make_scorer\n",
    "\n",
    "pd.options.mode.chained_assignment = None\n",
    "\n",
    "def df_common_info(df):\n",
    "    \"\"\"\n",
    "    Выводит общую информацию по датафрейму\n",
    "    \"\"\"\n",
    "    display(df.head())\n",
    "    \n",
    "    print(\"\\nОбщая информация:\")\n",
    "    display(df.info())\n",
    "    display(df.shape)\n",
    "    display(df.columns)\n",
    "    \n",
    "    \n",
    "    print('\\nСтатистики:')\n",
    "    display(df.describe(include=['float', 'int']).T)\n",
    "    \n",
    "    print('\\nДубликаты:')\n",
    "    display(df.duplicated().sum())\n",
    "    display(df[df.duplicated()])\n",
    "    \n",
    "    return"
   ]
  },
  {
   "cell_type": "code",
   "execution_count": 2,
   "metadata": {
    "colab": {
     "base_uri": "https://localhost:8080/",
     "height": 1000
    },
    "id": "IBmlPtzclk9e",
    "outputId": "d366633b-99b7-4e33-cea5-b68f28f1a6a9",
    "scrolled": false
   },
   "outputs": [
    {
     "data": {
      "text/plain": "           DateCrawled  Price VehicleType  RegistrationYear Gearbox  Power  \\\n0  2016-03-24 11:52:17    480         NaN              1993  manual      0   \n1  2016-03-24 10:58:45  18300       coupe              2011  manual    190   \n2  2016-03-14 12:52:21   9800         suv              2004    auto    163   \n3  2016-03-17 16:54:04   1500       small              2001  manual     75   \n4  2016-03-31 17:25:20   3600       small              2008  manual     69   \n\n   Model  Kilometer  RegistrationMonth  FuelType       Brand Repaired  \\\n0   golf     150000                  0    petrol  volkswagen      NaN   \n1    NaN     125000                  5  gasoline        audi      yes   \n2  grand     125000                  8  gasoline        jeep      NaN   \n3   golf     150000                  6    petrol  volkswagen       no   \n4  fabia      90000                  7  gasoline       skoda       no   \n\n           DateCreated  NumberOfPictures  PostalCode             LastSeen  \n0  2016-03-24 00:00:00                 0       70435  2016-04-07 03:16:57  \n1  2016-03-24 00:00:00                 0       66954  2016-04-07 01:46:50  \n2  2016-03-14 00:00:00                 0       90480  2016-04-05 12:47:46  \n3  2016-03-17 00:00:00                 0       91074  2016-03-17 17:40:17  \n4  2016-03-31 00:00:00                 0       60437  2016-04-06 10:17:21  ",
      "text/html": "<div>\n<style scoped>\n    .dataframe tbody tr th:only-of-type {\n        vertical-align: middle;\n    }\n\n    .dataframe tbody tr th {\n        vertical-align: top;\n    }\n\n    .dataframe thead th {\n        text-align: right;\n    }\n</style>\n<table border=\"1\" class=\"dataframe\">\n  <thead>\n    <tr style=\"text-align: right;\">\n      <th></th>\n      <th>DateCrawled</th>\n      <th>Price</th>\n      <th>VehicleType</th>\n      <th>RegistrationYear</th>\n      <th>Gearbox</th>\n      <th>Power</th>\n      <th>Model</th>\n      <th>Kilometer</th>\n      <th>RegistrationMonth</th>\n      <th>FuelType</th>\n      <th>Brand</th>\n      <th>Repaired</th>\n      <th>DateCreated</th>\n      <th>NumberOfPictures</th>\n      <th>PostalCode</th>\n      <th>LastSeen</th>\n    </tr>\n  </thead>\n  <tbody>\n    <tr>\n      <th>0</th>\n      <td>2016-03-24 11:52:17</td>\n      <td>480</td>\n      <td>NaN</td>\n      <td>1993</td>\n      <td>manual</td>\n      <td>0</td>\n      <td>golf</td>\n      <td>150000</td>\n      <td>0</td>\n      <td>petrol</td>\n      <td>volkswagen</td>\n      <td>NaN</td>\n      <td>2016-03-24 00:00:00</td>\n      <td>0</td>\n      <td>70435</td>\n      <td>2016-04-07 03:16:57</td>\n    </tr>\n    <tr>\n      <th>1</th>\n      <td>2016-03-24 10:58:45</td>\n      <td>18300</td>\n      <td>coupe</td>\n      <td>2011</td>\n      <td>manual</td>\n      <td>190</td>\n      <td>NaN</td>\n      <td>125000</td>\n      <td>5</td>\n      <td>gasoline</td>\n      <td>audi</td>\n      <td>yes</td>\n      <td>2016-03-24 00:00:00</td>\n      <td>0</td>\n      <td>66954</td>\n      <td>2016-04-07 01:46:50</td>\n    </tr>\n    <tr>\n      <th>2</th>\n      <td>2016-03-14 12:52:21</td>\n      <td>9800</td>\n      <td>suv</td>\n      <td>2004</td>\n      <td>auto</td>\n      <td>163</td>\n      <td>grand</td>\n      <td>125000</td>\n      <td>8</td>\n      <td>gasoline</td>\n      <td>jeep</td>\n      <td>NaN</td>\n      <td>2016-03-14 00:00:00</td>\n      <td>0</td>\n      <td>90480</td>\n      <td>2016-04-05 12:47:46</td>\n    </tr>\n    <tr>\n      <th>3</th>\n      <td>2016-03-17 16:54:04</td>\n      <td>1500</td>\n      <td>small</td>\n      <td>2001</td>\n      <td>manual</td>\n      <td>75</td>\n      <td>golf</td>\n      <td>150000</td>\n      <td>6</td>\n      <td>petrol</td>\n      <td>volkswagen</td>\n      <td>no</td>\n      <td>2016-03-17 00:00:00</td>\n      <td>0</td>\n      <td>91074</td>\n      <td>2016-03-17 17:40:17</td>\n    </tr>\n    <tr>\n      <th>4</th>\n      <td>2016-03-31 17:25:20</td>\n      <td>3600</td>\n      <td>small</td>\n      <td>2008</td>\n      <td>manual</td>\n      <td>69</td>\n      <td>fabia</td>\n      <td>90000</td>\n      <td>7</td>\n      <td>gasoline</td>\n      <td>skoda</td>\n      <td>no</td>\n      <td>2016-03-31 00:00:00</td>\n      <td>0</td>\n      <td>60437</td>\n      <td>2016-04-06 10:17:21</td>\n    </tr>\n  </tbody>\n</table>\n</div>"
     },
     "metadata": {},
     "output_type": "display_data"
    },
    {
     "name": "stdout",
     "output_type": "stream",
     "text": [
      "\n",
      "Общая информация:\n",
      "<class 'pandas.core.frame.DataFrame'>\n",
      "RangeIndex: 354369 entries, 0 to 354368\n",
      "Data columns (total 16 columns):\n",
      " #   Column             Non-Null Count   Dtype \n",
      "---  ------             --------------   ----- \n",
      " 0   DateCrawled        354369 non-null  object\n",
      " 1   Price              354369 non-null  int64 \n",
      " 2   VehicleType        316879 non-null  object\n",
      " 3   RegistrationYear   354369 non-null  int64 \n",
      " 4   Gearbox            334536 non-null  object\n",
      " 5   Power              354369 non-null  int64 \n",
      " 6   Model              334664 non-null  object\n",
      " 7   Kilometer          354369 non-null  int64 \n",
      " 8   RegistrationMonth  354369 non-null  int64 \n",
      " 9   FuelType           321474 non-null  object\n",
      " 10  Brand              354369 non-null  object\n",
      " 11  Repaired           283215 non-null  object\n",
      " 12  DateCreated        354369 non-null  object\n",
      " 13  NumberOfPictures   354369 non-null  int64 \n",
      " 14  PostalCode         354369 non-null  int64 \n",
      " 15  LastSeen           354369 non-null  object\n",
      "dtypes: int64(7), object(9)\n",
      "memory usage: 43.3+ MB\n"
     ]
    },
    {
     "data": {
      "text/plain": "None"
     },
     "metadata": {},
     "output_type": "display_data"
    },
    {
     "data": {
      "text/plain": "(354369, 16)"
     },
     "metadata": {},
     "output_type": "display_data"
    },
    {
     "data": {
      "text/plain": "Index(['DateCrawled', 'Price', 'VehicleType', 'RegistrationYear', 'Gearbox',\n       'Power', 'Model', 'Kilometer', 'RegistrationMonth', 'FuelType', 'Brand',\n       'Repaired', 'DateCreated', 'NumberOfPictures', 'PostalCode',\n       'LastSeen'],\n      dtype='object')"
     },
     "metadata": {},
     "output_type": "display_data"
    },
    {
     "name": "stdout",
     "output_type": "stream",
     "text": [
      "\n",
      "Статистики:\n"
     ]
    },
    {
     "data": {
      "text/plain": "                      count           mean           std     min       25%  \\\nPrice              354369.0    4416.656776   4514.158514     0.0    1050.0   \nRegistrationYear   354369.0    2004.234448     90.227958  1000.0    1999.0   \nPower              354369.0     110.094337    189.850405     0.0      69.0   \nKilometer          354369.0  128211.172535  37905.341530  5000.0  125000.0   \nRegistrationMonth  354369.0       5.714645      3.726421     0.0       3.0   \nNumberOfPictures   354369.0       0.000000      0.000000     0.0       0.0   \nPostalCode         354369.0   50508.689087  25783.096248  1067.0   30165.0   \n\n                        50%       75%       max  \nPrice                2700.0    6400.0   20000.0  \nRegistrationYear     2003.0    2008.0    9999.0  \nPower                 105.0     143.0   20000.0  \nKilometer          150000.0  150000.0  150000.0  \nRegistrationMonth       6.0       9.0      12.0  \nNumberOfPictures        0.0       0.0       0.0  \nPostalCode          49413.0   71083.0   99998.0  ",
      "text/html": "<div>\n<style scoped>\n    .dataframe tbody tr th:only-of-type {\n        vertical-align: middle;\n    }\n\n    .dataframe tbody tr th {\n        vertical-align: top;\n    }\n\n    .dataframe thead th {\n        text-align: right;\n    }\n</style>\n<table border=\"1\" class=\"dataframe\">\n  <thead>\n    <tr style=\"text-align: right;\">\n      <th></th>\n      <th>count</th>\n      <th>mean</th>\n      <th>std</th>\n      <th>min</th>\n      <th>25%</th>\n      <th>50%</th>\n      <th>75%</th>\n      <th>max</th>\n    </tr>\n  </thead>\n  <tbody>\n    <tr>\n      <th>Price</th>\n      <td>354369.0</td>\n      <td>4416.656776</td>\n      <td>4514.158514</td>\n      <td>0.0</td>\n      <td>1050.0</td>\n      <td>2700.0</td>\n      <td>6400.0</td>\n      <td>20000.0</td>\n    </tr>\n    <tr>\n      <th>RegistrationYear</th>\n      <td>354369.0</td>\n      <td>2004.234448</td>\n      <td>90.227958</td>\n      <td>1000.0</td>\n      <td>1999.0</td>\n      <td>2003.0</td>\n      <td>2008.0</td>\n      <td>9999.0</td>\n    </tr>\n    <tr>\n      <th>Power</th>\n      <td>354369.0</td>\n      <td>110.094337</td>\n      <td>189.850405</td>\n      <td>0.0</td>\n      <td>69.0</td>\n      <td>105.0</td>\n      <td>143.0</td>\n      <td>20000.0</td>\n    </tr>\n    <tr>\n      <th>Kilometer</th>\n      <td>354369.0</td>\n      <td>128211.172535</td>\n      <td>37905.341530</td>\n      <td>5000.0</td>\n      <td>125000.0</td>\n      <td>150000.0</td>\n      <td>150000.0</td>\n      <td>150000.0</td>\n    </tr>\n    <tr>\n      <th>RegistrationMonth</th>\n      <td>354369.0</td>\n      <td>5.714645</td>\n      <td>3.726421</td>\n      <td>0.0</td>\n      <td>3.0</td>\n      <td>6.0</td>\n      <td>9.0</td>\n      <td>12.0</td>\n    </tr>\n    <tr>\n      <th>NumberOfPictures</th>\n      <td>354369.0</td>\n      <td>0.000000</td>\n      <td>0.000000</td>\n      <td>0.0</td>\n      <td>0.0</td>\n      <td>0.0</td>\n      <td>0.0</td>\n      <td>0.0</td>\n    </tr>\n    <tr>\n      <th>PostalCode</th>\n      <td>354369.0</td>\n      <td>50508.689087</td>\n      <td>25783.096248</td>\n      <td>1067.0</td>\n      <td>30165.0</td>\n      <td>49413.0</td>\n      <td>71083.0</td>\n      <td>99998.0</td>\n    </tr>\n  </tbody>\n</table>\n</div>"
     },
     "metadata": {},
     "output_type": "display_data"
    },
    {
     "name": "stdout",
     "output_type": "stream",
     "text": [
      "\n",
      "Дубликаты:\n"
     ]
    },
    {
     "data": {
      "text/plain": "4"
     },
     "metadata": {},
     "output_type": "display_data"
    },
    {
     "data": {
      "text/plain": "                DateCrawled  Price VehicleType  RegistrationYear Gearbox  \\\n171088  2016-03-08 18:42:48   1799       coupe              1999    auto   \n231258  2016-03-28 00:56:10   1000       small              2002  manual   \n258109  2016-04-03 09:01:15   4699       coupe              2003    auto   \n325651  2016-03-18 18:46:15   1999       wagon              2001  manual   \n\n        Power   Model  Kilometer  RegistrationMonth  FuelType          Brand  \\\n171088    193     clk      20000                  7    petrol  mercedes_benz   \n231258     83   other     150000                  1    petrol         suzuki   \n258109    218     clk     125000                  6    petrol  mercedes_benz   \n325651    131  passat     150000                  7  gasoline     volkswagen   \n\n       Repaired          DateCreated  NumberOfPictures  PostalCode  \\\n171088       no  2016-03-08 00:00:00                 0       89518   \n231258       no  2016-03-28 00:00:00                 0       66589   \n258109      yes  2016-04-03 00:00:00                 0       75196   \n325651       no  2016-03-18 00:00:00                 0       36391   \n\n                   LastSeen  \n171088  2016-03-09 09:46:57  \n231258  2016-03-28 08:46:21  \n258109  2016-04-07 09:44:54  \n325651  2016-03-18 18:46:15  ",
      "text/html": "<div>\n<style scoped>\n    .dataframe tbody tr th:only-of-type {\n        vertical-align: middle;\n    }\n\n    .dataframe tbody tr th {\n        vertical-align: top;\n    }\n\n    .dataframe thead th {\n        text-align: right;\n    }\n</style>\n<table border=\"1\" class=\"dataframe\">\n  <thead>\n    <tr style=\"text-align: right;\">\n      <th></th>\n      <th>DateCrawled</th>\n      <th>Price</th>\n      <th>VehicleType</th>\n      <th>RegistrationYear</th>\n      <th>Gearbox</th>\n      <th>Power</th>\n      <th>Model</th>\n      <th>Kilometer</th>\n      <th>RegistrationMonth</th>\n      <th>FuelType</th>\n      <th>Brand</th>\n      <th>Repaired</th>\n      <th>DateCreated</th>\n      <th>NumberOfPictures</th>\n      <th>PostalCode</th>\n      <th>LastSeen</th>\n    </tr>\n  </thead>\n  <tbody>\n    <tr>\n      <th>171088</th>\n      <td>2016-03-08 18:42:48</td>\n      <td>1799</td>\n      <td>coupe</td>\n      <td>1999</td>\n      <td>auto</td>\n      <td>193</td>\n      <td>clk</td>\n      <td>20000</td>\n      <td>7</td>\n      <td>petrol</td>\n      <td>mercedes_benz</td>\n      <td>no</td>\n      <td>2016-03-08 00:00:00</td>\n      <td>0</td>\n      <td>89518</td>\n      <td>2016-03-09 09:46:57</td>\n    </tr>\n    <tr>\n      <th>231258</th>\n      <td>2016-03-28 00:56:10</td>\n      <td>1000</td>\n      <td>small</td>\n      <td>2002</td>\n      <td>manual</td>\n      <td>83</td>\n      <td>other</td>\n      <td>150000</td>\n      <td>1</td>\n      <td>petrol</td>\n      <td>suzuki</td>\n      <td>no</td>\n      <td>2016-03-28 00:00:00</td>\n      <td>0</td>\n      <td>66589</td>\n      <td>2016-03-28 08:46:21</td>\n    </tr>\n    <tr>\n      <th>258109</th>\n      <td>2016-04-03 09:01:15</td>\n      <td>4699</td>\n      <td>coupe</td>\n      <td>2003</td>\n      <td>auto</td>\n      <td>218</td>\n      <td>clk</td>\n      <td>125000</td>\n      <td>6</td>\n      <td>petrol</td>\n      <td>mercedes_benz</td>\n      <td>yes</td>\n      <td>2016-04-03 00:00:00</td>\n      <td>0</td>\n      <td>75196</td>\n      <td>2016-04-07 09:44:54</td>\n    </tr>\n    <tr>\n      <th>325651</th>\n      <td>2016-03-18 18:46:15</td>\n      <td>1999</td>\n      <td>wagon</td>\n      <td>2001</td>\n      <td>manual</td>\n      <td>131</td>\n      <td>passat</td>\n      <td>150000</td>\n      <td>7</td>\n      <td>gasoline</td>\n      <td>volkswagen</td>\n      <td>no</td>\n      <td>2016-03-18 00:00:00</td>\n      <td>0</td>\n      <td>36391</td>\n      <td>2016-03-18 18:46:15</td>\n    </tr>\n  </tbody>\n</table>\n</div>"
     },
     "metadata": {},
     "output_type": "display_data"
    }
   ],
   "source": [
    "data = pd.read_csv(\"../datasets/autos.csv\")\n",
    "df_common_info(data)"
   ]
  },
  {
   "cell_type": "markdown",
   "metadata": {
    "id": "qDCNGfFZlk9g"
   },
   "source": [
    "**Вывод:**\n",
    "* Необходимо удалить полные дубликаты\n",
    "* Столбцы VehicleType, Gearbox, Model, FuelType, Brand, NotRepaired - необходимо проверить на неявные дубликаты\n",
    "* В столбцах VehicleType, Gearbox, Model, FuelType, NotRepaired - пропуски \n",
    "* В столбце NumberOfPictures только 0 - удалим этот столбец\n",
    "* Столбцы DateCrawled, LastSeen - не влияют на модель - удалим эти столбцы.\n",
    "* Столбец RegistrationYear, Power, RegistrationMonth - есть выбросы\n",
    "* Признак PostalCode - категориальный, но столбец имеет числовой тип, необходимо его преобразовать"
   ]
  },
  {
   "cell_type": "markdown",
   "metadata": {
    "id": "JzkVrlNWlk9h"
   },
   "source": [
    "### Обработка пропусков и дубликатов"
   ]
  },
  {
   "cell_type": "markdown",
   "metadata": {
    "id": "HbV_JwEIlk9i"
   },
   "source": [
    "Удалим явные дубликаты"
   ]
  },
  {
   "cell_type": "code",
   "execution_count": 3,
   "metadata": {
    "colab": {
     "base_uri": "https://localhost:8080/"
    },
    "id": "zISeBBN7lk9j",
    "outputId": "bae3ecdf-ff81-49f2-f626-d8207458f36b"
   },
   "outputs": [
    {
     "name": "stdout",
     "output_type": "stream",
     "text": [
      "Было строк:  354369\n",
      "Осталось строк:  354365\n"
     ]
    }
   ],
   "source": [
    "print('Было строк: ', data.shape[0])\n",
    "\n",
    "data = data.drop_duplicates()\n",
    "print('Осталось строк: ', data.shape[0])"
   ]
  },
  {
   "cell_type": "markdown",
   "metadata": {
    "id": "9leWHRomlk9k"
   },
   "source": [
    "#### Столбец VehicleType"
   ]
  },
  {
   "cell_type": "code",
   "execution_count": 4,
   "metadata": {
    "colab": {
     "base_uri": "https://localhost:8080/"
    },
    "id": "Ws96TSfolk9k",
    "outputId": "ad1b401f-9434-491e-e924-f8161cda2e51"
   },
   "outputs": [
    {
     "name": "stdout",
     "output_type": "stream",
     "text": [
      "[nan 'coupe' 'suv' 'small' 'sedan' 'convertible' 'bus' 'wagon' 'other']\n"
     ]
    },
    {
     "data": {
      "text/plain": "0.10579487251844849"
     },
     "execution_count": 4,
     "metadata": {},
     "output_type": "execute_result"
    }
   ],
   "source": [
    "print(data['VehicleType'].unique())\n",
    "data['VehicleType'].isna().mean()"
   ]
  },
  {
   "cell_type": "markdown",
   "metadata": {
    "id": "M1KtRy8elk9l"
   },
   "source": [
    "* Неявных дубликатов нет\n",
    "* Пропусков около 10%. Довольно много, поэтому удалять пропуски не будем, а заполним их. Поскольку машины одной модели могут выпускаться с разным кузовом, заполним пропуски новым значением 'unknown'. Использовать значение 'other'не будем, поскольку 'other' подразумевает, значение отличное от предложенных ('coupe' 'suv' 'small' 'sedan' 'convertible' 'bus' 'wagon')"
   ]
  },
  {
   "cell_type": "code",
   "execution_count": 5,
   "metadata": {
    "id": "Q2Gib9I_lk9m"
   },
   "outputs": [],
   "source": [
    "data['VehicleType'].fillna('unknown', inplace=True)"
   ]
  },
  {
   "cell_type": "markdown",
   "metadata": {
    "id": "RLvYWFcolk9n"
   },
   "source": [
    "#### Столбец Gearbox"
   ]
  },
  {
   "cell_type": "code",
   "execution_count": 6,
   "metadata": {
    "colab": {
     "base_uri": "https://localhost:8080/"
    },
    "id": "lZ7EDpdzlk9o",
    "outputId": "6a923a8d-9686-4376-c5bb-64aa8969aa3c"
   },
   "outputs": [
    {
     "name": "stdout",
     "output_type": "stream",
     "text": [
      "['manual' 'auto' nan]\n"
     ]
    },
    {
     "data": {
      "text/plain": "0.05596771690206426"
     },
     "execution_count": 6,
     "metadata": {},
     "output_type": "execute_result"
    }
   ],
   "source": [
    "print(data['Gearbox'].unique())\n",
    "data['Gearbox'].isna().mean()"
   ]
  },
  {
   "cell_type": "markdown",
   "metadata": {
    "id": "kdnzw-jrlk9p"
   },
   "source": [
    "* Неявных дубликатов нет\n",
    "* Пропусков около 5%. Довольно много, поэтому удалять пропуски не будем, а заполним их значением 'unknown'"
   ]
  },
  {
   "cell_type": "code",
   "execution_count": 7,
   "metadata": {
    "id": "iD9JjZfOlk9q"
   },
   "outputs": [],
   "source": [
    "data['Gearbox'].fillna('unknown', inplace=True)"
   ]
  },
  {
   "cell_type": "markdown",
   "metadata": {
    "id": "IsxLTCyylk9q"
   },
   "source": [
    "#### Столбец Model"
   ]
  },
  {
   "cell_type": "code",
   "execution_count": 8,
   "metadata": {
    "colab": {
     "base_uri": "https://localhost:8080/"
    },
    "id": "rksSS1Lulk9q",
    "outputId": "704cba3d-711c-4c18-dd5e-12f0e54757f9"
   },
   "outputs": [
    {
     "name": "stdout",
     "output_type": "stream",
     "text": [
      "['golf' nan 'grand' 'fabia' '3er' '2_reihe' 'other' 'c_max' '3_reihe'\n",
      " 'passat' 'navara' 'ka' 'polo' 'twingo' 'a_klasse' 'scirocco' '5er'\n",
      " 'meriva' 'arosa' 'c4' 'civic' 'transporter' 'punto' 'e_klasse' 'clio'\n",
      " 'kadett' 'kangoo' 'corsa' 'one' 'fortwo' '1er' 'b_klasse' 'signum'\n",
      " 'astra' 'a8' 'jetta' 'fiesta' 'c_klasse' 'micra' 'vito' 'sprinter' '156'\n",
      " 'escort' 'forester' 'xc_reihe' 'scenic' 'a4' 'a1' 'insignia' 'combo'\n",
      " 'focus' 'tt' 'a6' 'jazz' 'omega' 'slk' '7er' '80' '147' '100' 'z_reihe'\n",
      " 'sportage' 'sorento' 'v40' 'ibiza' 'mustang' 'eos' 'touran' 'getz' 'a3'\n",
      " 'almera' 'megane' 'lupo' 'r19' 'zafira' 'caddy' 'mondeo' 'cordoba' 'colt'\n",
      " 'impreza' 'vectra' 'berlingo' 'tiguan' 'i_reihe' 'espace' 'sharan'\n",
      " '6_reihe' 'panda' 'up' 'seicento' 'ceed' '5_reihe' 'yeti' 'octavia' 'mii'\n",
      " 'rx_reihe' '6er' 'modus' 'fox' 'matiz' 'beetle' 'c1' 'rio' 'touareg'\n",
      " 'logan' 'spider' 'cuore' 's_max' 'a2' 'galaxy' 'c3' 'viano' 's_klasse'\n",
      " '1_reihe' 'avensis' 'roomster' 'sl' 'kaefer' 'santa' 'cooper' 'leon'\n",
      " '4_reihe' 'a5' '500' 'laguna' 'ptcruiser' 'clk' 'primera' 'x_reihe'\n",
      " 'exeo' '159' 'transit' 'juke' 'qashqai' 'carisma' 'accord' 'corolla'\n",
      " 'lanos' 'phaeton' 'verso' 'swift' 'rav' 'picanto' 'boxster' 'kalos'\n",
      " 'superb' 'stilo' 'alhambra' 'mx_reihe' 'roadster' 'ypsilon' 'cayenne'\n",
      " 'galant' 'justy' '90' 'sirion' 'crossfire' 'agila' 'duster' 'cr_reihe'\n",
      " 'v50' 'c_reihe' 'v_klasse' 'm_klasse' 'yaris' 'c5' 'aygo' 'cc' 'carnival'\n",
      " 'fusion' '911' 'bora' 'forfour' 'm_reihe' 'cl' 'tigra' '300c' 'spark'\n",
      " 'v70' 'kuga' 'x_type' 'ducato' 's_type' 'x_trail' 'toledo' 'altea'\n",
      " 'voyager' 'calibra' 'bravo' 'antara' 'tucson' 'citigo' 'jimny' 'wrangler'\n",
      " 'lybra' 'q7' 'lancer' 'captiva' 'c2' 'discovery' 'freelander' 'sandero'\n",
      " 'note' '900' 'cherokee' 'clubman' 'samara' 'defender' '601' 'cx_reihe'\n",
      " 'legacy' 'pajero' 'auris' 'niva' 's60' 'nubira' 'vivaro' 'g_klasse'\n",
      " 'lodgy' '850' 'range_rover' 'q3' 'serie_2' 'glk' 'charade' 'croma'\n",
      " 'outlander' 'doblo' 'musa' 'move' '9000' 'v60' '145' 'aveo' '200' 'b_max'\n",
      " 'range_rover_sport' 'terios' 'rangerover' 'q5' 'range_rover_evoque'\n",
      " 'materia' 'delta' 'gl' 'kalina' 'amarok' 'elefantino' 'i3' 'kappa'\n",
      " 'serie_3' 'serie_1']\n"
     ]
    },
    {
     "data": {
      "text/plain": "0.05560650741467131"
     },
     "execution_count": 8,
     "metadata": {},
     "output_type": "execute_result"
    }
   ],
   "source": [
    "print(data['Model'].unique())\n",
    "data['Model'].isna().mean()"
   ]
  },
  {
   "cell_type": "markdown",
   "metadata": {
    "id": "QzfQbIhQlk9r"
   },
   "source": [
    "* Неявных дубликатов нет\n",
    "* Пропусков около 5%. Довольно много, поэтому удалять пропуски не будем, а заполним их значением 'unknown'"
   ]
  },
  {
   "cell_type": "code",
   "execution_count": 9,
   "metadata": {
    "id": "hN02ZtqElk9r"
   },
   "outputs": [],
   "source": [
    "data['Model'].fillna('unknown', inplace=True)"
   ]
  },
  {
   "cell_type": "markdown",
   "metadata": {
    "id": "uDT-kerflk9s"
   },
   "source": [
    "#### Столбец FuelType"
   ]
  },
  {
   "cell_type": "code",
   "execution_count": 10,
   "metadata": {
    "colab": {
     "base_uri": "https://localhost:8080/"
    },
    "id": "ecji0Ctqlk9s",
    "outputId": "4334e562-0ae6-4d2e-e268-c3b61439a22a"
   },
   "outputs": [
    {
     "name": "stdout",
     "output_type": "stream",
     "text": [
      "['petrol' 'gasoline' nan 'lpg' 'other' 'hybrid' 'cng' 'electric']\n"
     ]
    },
    {
     "data": {
      "text/plain": "0.09282801631086592"
     },
     "execution_count": 10,
     "metadata": {},
     "output_type": "execute_result"
    }
   ],
   "source": [
    "print(data['FuelType'].unique())\n",
    "data['FuelType'].isna().mean()"
   ]
  },
  {
   "cell_type": "markdown",
   "metadata": {
    "id": "MQkjHcoZlk9t"
   },
   "source": [
    "* Неявных дубликатов нет\n",
    "* Пропусков около 9%. Довольно много, поэтому удалять пропуски не будем, а заполним их значением 'unknown'"
   ]
  },
  {
   "cell_type": "code",
   "execution_count": 11,
   "metadata": {
    "id": "X2_plXeOlk9t"
   },
   "outputs": [],
   "source": [
    "data['FuelType'].fillna('unknown', inplace=True)"
   ]
  },
  {
   "cell_type": "markdown",
   "metadata": {
    "id": "lEuqRcuIlk9t"
   },
   "source": [
    "#### Столбец Repaired"
   ]
  },
  {
   "cell_type": "code",
   "execution_count": 12,
   "metadata": {
    "colab": {
     "base_uri": "https://localhost:8080/"
    },
    "id": "Ccgw4jYwlk9u",
    "outputId": "0717ade4-8a75-49d2-cd08-7adbffc239ad"
   },
   "outputs": [
    {
     "name": "stdout",
     "output_type": "stream",
     "text": [
      "[nan 'yes' 'no']\n"
     ]
    },
    {
     "data": {
      "text/plain": "0.2007929677027923"
     },
     "execution_count": 12,
     "metadata": {},
     "output_type": "execute_result"
    }
   ],
   "source": [
    "print(data['Repaired'].unique())\n",
    "data['Repaired'].isna().mean()"
   ]
  },
  {
   "cell_type": "markdown",
   "metadata": {
    "id": "quSf8SlMlk9u"
   },
   "source": [
    "* Неявных дубликатов нет\n",
    "* Пропусков около 2%. Удалять пропуски не будем, а заполним их значением 'unknown'"
   ]
  },
  {
   "cell_type": "code",
   "execution_count": 13,
   "metadata": {
    "id": "6oEHyCOxlk9u"
   },
   "outputs": [],
   "source": [
    "data['Repaired'].fillna('unknown', inplace=True)"
   ]
  },
  {
   "cell_type": "code",
   "execution_count": 14,
   "metadata": {
    "colab": {
     "base_uri": "https://localhost:8080/"
    },
    "id": "fAITs0pflk9v",
    "outputId": "e6b43e1d-0f07-4bc1-b75e-27192ff4ccac"
   },
   "outputs": [
    {
     "name": "stdout",
     "output_type": "stream",
     "text": [
      "<class 'pandas.core.frame.DataFrame'>\n",
      "Int64Index: 354365 entries, 0 to 354368\n",
      "Data columns (total 16 columns):\n",
      " #   Column             Non-Null Count   Dtype \n",
      "---  ------             --------------   ----- \n",
      " 0   DateCrawled        354365 non-null  object\n",
      " 1   Price              354365 non-null  int64 \n",
      " 2   VehicleType        354365 non-null  object\n",
      " 3   RegistrationYear   354365 non-null  int64 \n",
      " 4   Gearbox            354365 non-null  object\n",
      " 5   Power              354365 non-null  int64 \n",
      " 6   Model              354365 non-null  object\n",
      " 7   Kilometer          354365 non-null  int64 \n",
      " 8   RegistrationMonth  354365 non-null  int64 \n",
      " 9   FuelType           354365 non-null  object\n",
      " 10  Brand              354365 non-null  object\n",
      " 11  Repaired           354365 non-null  object\n",
      " 12  DateCreated        354365 non-null  object\n",
      " 13  NumberOfPictures   354365 non-null  int64 \n",
      " 14  PostalCode         354365 non-null  int64 \n",
      " 15  LastSeen           354365 non-null  object\n",
      "dtypes: int64(7), object(9)\n",
      "memory usage: 46.0+ MB\n"
     ]
    }
   ],
   "source": [
    "data.info()"
   ]
  },
  {
   "cell_type": "markdown",
   "metadata": {
    "id": "ygZ8ZSzhlk9v"
   },
   "source": [
    "**Вывод:** Пропусков в данных нет"
   ]
  },
  {
   "cell_type": "markdown",
   "metadata": {
    "id": "oqRI9g37lk9w"
   },
   "source": [
    "#### Столбец RegistrationYear"
   ]
  },
  {
   "cell_type": "code",
   "execution_count": 15,
   "metadata": {
    "colab": {
     "base_uri": "https://localhost:8080/"
    },
    "id": "PgwH5qg5lk9w",
    "outputId": "b6e596b5-930e-482d-8301-d102fa4f9714"
   },
   "outputs": [
    {
     "data": {
      "text/plain": "count    354365.000000\nmean       2004.234481\nstd          90.228466\nmin        1000.000000\n25%        1999.000000\n50%        2003.000000\n75%        2008.000000\nmax        9999.000000\nName: RegistrationYear, dtype: float64"
     },
     "execution_count": 15,
     "metadata": {},
     "output_type": "execute_result"
    }
   ],
   "source": [
    "data['RegistrationYear'].describe()"
   ]
  },
  {
   "cell_type": "markdown",
   "metadata": {
    "id": "04SlCv_t4Uxu"
   },
   "source": [
    "В данном столбце есть аномальные значения. Отсечём их по 99процентилю"
   ]
  },
  {
   "cell_type": "code",
   "execution_count": 16,
   "outputs": [
    {
     "data": {
      "text/plain": "count    346236.000000\nmean       2003.295021\nstd           6.394669\nmin        1981.000000\n25%        1999.000000\n50%        2003.000000\n75%        2007.000000\nmax        2017.000000\nName: RegistrationYear, dtype: float64"
     },
     "execution_count": 16,
     "metadata": {},
     "output_type": "execute_result"
    }
   ],
   "source": [
    "data = data[(data['RegistrationYear'] < data['RegistrationYear'].quantile(.99)) & (data['RegistrationYear'] > data['RegistrationYear'].quantile(.01))]\n",
    "data['RegistrationYear'].describe()"
   ],
   "metadata": {
    "collapsed": false
   }
  },
  {
   "cell_type": "markdown",
   "metadata": {},
   "source": [
    "Аномальные значения отфильтрованы. Удалим записи, где год создания объявления меньше, чем год регистрации авто."
   ]
  },
  {
   "cell_type": "code",
   "execution_count": 17,
   "metadata": {},
   "outputs": [
    {
     "name": "stdout",
     "output_type": "stream",
     "text": [
      "Количество удаленных записей: 10441\n"
     ]
    }
   ],
   "source": [
    "data['DateCreated'] = pd.to_datetime(data['DateCreated'], format='%Y-%m-%d %H:%M:%S')\n",
    "\n",
    "print('Количество удаленных записей:', \n",
    "      len(data.query(\"DateCreated.dt.year < RegistrationYear\")))\n",
    "\n",
    "data = data.drop(data.query(\"DateCreated.dt.year < RegistrationYear\").index)"
   ]
  },
  {
   "cell_type": "code",
   "execution_count": 18,
   "outputs": [
    {
     "data": {
      "text/plain": "count    335795.000000\nmean       2002.868887\nstd           6.011780\nmin        1981.000000\n25%        1999.000000\n50%        2003.000000\n75%        2007.000000\nmax        2016.000000\nName: RegistrationYear, dtype: float64"
     },
     "execution_count": 18,
     "metadata": {},
     "output_type": "execute_result"
    }
   ],
   "source": [
    "data['RegistrationYear'].describe()"
   ],
   "metadata": {
    "collapsed": false
   }
  },
  {
   "cell_type": "code",
   "execution_count": 19,
   "metadata": {
    "colab": {
     "base_uri": "https://localhost:8080/",
     "height": 294
    },
    "id": "cmR84QB9lk9y",
    "outputId": "30ee06e4-2233-49a1-89e4-d0e7a2e17506"
   },
   "outputs": [
    {
     "data": {
      "text/plain": "<Figure size 640x480 with 1 Axes>",
      "image/png": "[encoded data removed]"
     },
     "metadata": {},
     "output_type": "display_data"
    }
   ],
   "source": [
    "data.plot(\n",
    "    kind='hist',\n",
    "    y='RegistrationYear',\n",
    "    bins = 30,\n",
    "    legend=False\n",
    ")\n",
    "plt.title(\"Распределение машин по году регистрации\", fontsize=12)\n",
    "plt.xlabel(\"год регистрации (м^2)\")\n",
    "plt.ylabel(\"количество машин (шт)\")\n",
    "plt.show()"
   ]
  },
  {
   "cell_type": "markdown",
   "metadata": {
    "id": "OacgwXw840EJ"
   },
   "source": [
    "Распределение похоже на нормальное, подозрительных всплесков нет"
   ]
  },
  {
   "cell_type": "markdown",
   "metadata": {
    "id": "wxdi1LK3lk9z"
   },
   "source": [
    "#### Столбец Power"
   ]
  },
  {
   "cell_type": "code",
   "execution_count": 20,
   "metadata": {
    "colab": {
     "base_uri": "https://localhost:8080/",
     "height": 281
    },
    "id": "uxjafGoClk9z",
    "outputId": "e2d11aac-d368-4324-a977-2fd04edf2a5b"
   },
   "outputs": [
    {
     "data": {
      "text/plain": "<Figure size 640x480 with 1 Axes>",
      "image/png": "[encoded data removed]"
     },
     "metadata": {},
     "output_type": "display_data"
    }
   ],
   "source": [
    "data.boxplot('Power') \n",
    "plt.ylim(0, 700)\n",
    "plt.title(\"Распределение машин по мощности двигателя\", fontsize=12)\n",
    "plt.show()"
   ]
  },
  {
   "cell_type": "markdown",
   "metadata": {
    "id": "B-tGGvpSlk9z"
   },
   "source": [
    "Посмотрим долю автомобилей с мощностью двигателя свыше 300"
   ]
  },
  {
   "cell_type": "code",
   "execution_count": 21,
   "metadata": {
    "colab": {
     "base_uri": "https://localhost:8080/"
    },
    "id": "lOT3tUF1lk9z",
    "outputId": "b0345591-2988-44bf-d777-d1944fbea570"
   },
   "outputs": [
    {
     "data": {
      "text/plain": "0.00988996262600694"
     },
     "execution_count": 21,
     "metadata": {},
     "output_type": "execute_result"
    }
   ],
   "source": [
    "len(data.query('Power > 300')) / len(data)"
   ]
  },
  {
   "cell_type": "markdown",
   "metadata": {
    "id": "-Taz4oV5lk90"
   },
   "source": [
    "Таких машин мало (0.9%). Удалим эти строки."
   ]
  },
  {
   "cell_type": "code",
   "execution_count": 22,
   "metadata": {
    "id": "XqTfYXdalk90"
   },
   "outputs": [],
   "source": [
    "data = data.drop(data.query('Power > 300').index)"
   ]
  },
  {
   "cell_type": "code",
   "execution_count": 23,
   "metadata": {
    "colab": {
     "base_uri": "https://localhost:8080/",
     "height": 294
    },
    "id": "J5QcW5BGlk90",
    "outputId": "68e52af5-b8a5-4996-da4e-a981cc7ab677"
   },
   "outputs": [
    {
     "data": {
      "text/plain": "<Figure size 640x480 with 1 Axes>",
      "image/png": "[encoded data removed]"
     },
     "metadata": {},
     "output_type": "display_data"
    }
   ],
   "source": [
    "data.plot(\n",
    "    kind='hist',\n",
    "    y='Power',\n",
    "    bins = 30,\n",
    "    legend=False\n",
    ")\n",
    "plt.title(\"Распределение машин по мощности двигателя\", fontsize=12)\n",
    "plt.xlabel(\"год регистрации\")\n",
    "plt.ylabel(\"количество машин (шт)\")\n",
    "plt.show()"
   ]
  },
  {
   "cell_type": "markdown",
   "metadata": {
    "id": "RzB0x4MGlk91"
   },
   "source": [
    "Заметен скачок автомобилей с мощностью 0, скорее всего это автомобили с неуказанной мощностью. Удалим записи с мощностью меньше 40"
   ]
  },
  {
   "cell_type": "code",
   "execution_count": 24,
   "metadata": {},
   "outputs": [
    {
     "name": "stdout",
     "output_type": "stream",
     "text": [
      "Количество удаленных строк: 36039\n"
     ]
    }
   ],
   "source": [
    "print('Количество удаленных строк:', len(data.query('Power < 40')))\n",
    "data = data.drop(data.query('Power < 40').index)"
   ]
  },
  {
   "cell_type": "markdown",
   "metadata": {
    "id": "6p44WFPtvsCe"
   },
   "source": [
    "**Вывод:** \n",
    "* Удалено 4 полных дубликата\n",
    "* Неявных дубликатов не обнаружено\n",
    "* В столбцах VehicleType, Gearbox, Model, FuelType, Repaired пропусков довольно много,корректно восстановить их не возможно, поэтому заполнили значениями 'unknown'\n",
    "* Удалены аномалии в RegistrationYear. В результате остались строки с годом регистрации от 1981 по 2016.\n",
    "* Удалены строки со значениями в столбце Power выше 300 и ниже 40. Таких строк немного около 0.9%, поэтому они существенно на модели не повлияют\n",
    "\n",
    "Всего удалено около 16% строк"
   ]
  },
  {
   "cell_type": "markdown",
   "metadata": {
    "id": "9hu3lXeNlk94"
   },
   "source": [
    "## Простые модели"
   ]
  },
  {
   "cell_type": "markdown",
   "metadata": {
    "id": "xK7AsC-Mlk94"
   },
   "source": [
    "### Подготовка признаков"
   ]
  },
  {
   "cell_type": "markdown",
   "metadata": {
    "id": "XbS4kAEQlk95"
   },
   "source": [
    "#### Отбор признаков влияющих на модель"
   ]
  },
  {
   "cell_type": "markdown",
   "metadata": {
    "id": "AYtcP4CUlk95"
   },
   "source": [
    "Удалим столбцы NumberOfPictures, DateCrawled, LastSeen, DateCreated, RegistrationMonth т.к. они не влияют на стоимость"
   ]
  },
  {
   "cell_type": "code",
   "execution_count": 25,
   "metadata": {
    "colab": {
     "base_uri": "https://localhost:8080/"
    },
    "id": "e1NiGCtJlk95",
    "outputId": "aaefe461-6d8a-441b-b067-9c66a9435d06"
   },
   "outputs": [
    {
     "data": {
      "text/plain": "Index(['Price', 'VehicleType', 'RegistrationYear', 'Gearbox', 'Power', 'Model',\n       'Kilometer', 'FuelType', 'Brand', 'Repaired', 'PostalCode'],\n      dtype='object')"
     },
     "execution_count": 25,
     "metadata": {},
     "output_type": "execute_result"
    }
   ],
   "source": [
    "data = data.drop(['NumberOfPictures', 'DateCrawled', 'LastSeen', 'DateCreated', 'RegistrationMonth'], axis=1)\n",
    "data.columns"
   ]
  },
  {
   "cell_type": "markdown",
   "metadata": {
    "id": "a-FXALEglk95"
   },
   "source": [
    "Посмотрим количество значений в столбце PostalCode"
   ]
  },
  {
   "cell_type": "code",
   "execution_count": 26,
   "metadata": {
    "colab": {
     "base_uri": "https://localhost:8080/"
    },
    "id": "2BUSO_DLlk96",
    "outputId": "c4c3aeb3-e920-4e00-a650-127894841083"
   },
   "outputs": [
    {
     "data": {
      "text/plain": "8115"
     },
     "execution_count": 26,
     "metadata": {},
     "output_type": "execute_result"
    }
   ],
   "source": [
    "data['PostalCode'].nunique()"
   ]
  },
  {
   "cell_type": "markdown",
   "metadata": {
    "id": "8URwAk4flk96"
   },
   "source": [
    "PostalCode - категориальный признак, значений много (8141), закодировать техникой OHE не получится. Поэтому удалим этот столбец."
   ]
  },
  {
   "cell_type": "code",
   "execution_count": 27,
   "metadata": {
    "id": "HRlQdUbulk96"
   },
   "outputs": [],
   "source": [
    "data = data.drop(columns=['PostalCode'])"
   ]
  },
  {
   "cell_type": "markdown",
   "metadata": {
    "id": "m_Uauq5Glk96"
   },
   "source": [
    "Посмотрим нет ли линейной зависимости между количественными признаками"
   ]
  },
  {
   "cell_type": "code",
   "execution_count": 28,
   "metadata": {
    "colab": {
     "base_uri": "https://localhost:8080/",
     "height": 202
    },
    "id": "8Zhkcx6elk97",
    "outputId": "83a8c286-c5a1-476a-a5ff-10e0059cd849"
   },
   "outputs": [
    {
     "name": "stderr",
     "output_type": "stream",
     "text": [
      "C:\\Users\\User\\AppData\\Local\\Temp\\ipykernel_1568\\1185648202.py:1: FutureWarning: The default value of numeric_only in DataFrame.corr is deprecated. In a future version, it will default to False. Select only valid columns or specify the value of numeric_only to silence this warning.\n",
      "  data.corr()\n"
     ]
    },
    {
     "data": {
      "text/plain": "                     Price  RegistrationYear     Power  Kilometer\nPrice             1.000000          0.579720  0.495186  -0.395817\nRegistrationYear  0.579720          1.000000  0.141211  -0.376468\nPower             0.495186          0.141211  1.000000   0.094803\nKilometer        -0.395817         -0.376468  0.094803   1.000000",
      "text/html": "<div>\n<style scoped>\n    .dataframe tbody tr th:only-of-type {\n        vertical-align: middle;\n    }\n\n    .dataframe tbody tr th {\n        vertical-align: top;\n    }\n\n    .dataframe thead th {\n        text-align: right;\n    }\n</style>\n<table border=\"1\" class=\"dataframe\">\n  <thead>\n    <tr style=\"text-align: right;\">\n      <th></th>\n      <th>Price</th>\n      <th>RegistrationYear</th>\n      <th>Power</th>\n      <th>Kilometer</th>\n    </tr>\n  </thead>\n  <tbody>\n    <tr>\n      <th>Price</th>\n      <td>1.000000</td>\n      <td>0.579720</td>\n      <td>0.495186</td>\n      <td>-0.395817</td>\n    </tr>\n    <tr>\n      <th>RegistrationYear</th>\n      <td>0.579720</td>\n      <td>1.000000</td>\n      <td>0.141211</td>\n      <td>-0.376468</td>\n    </tr>\n    <tr>\n      <th>Power</th>\n      <td>0.495186</td>\n      <td>0.141211</td>\n      <td>1.000000</td>\n      <td>0.094803</td>\n    </tr>\n    <tr>\n      <th>Kilometer</th>\n      <td>-0.395817</td>\n      <td>-0.376468</td>\n      <td>0.094803</td>\n      <td>1.000000</td>\n    </tr>\n  </tbody>\n</table>\n</div>"
     },
     "execution_count": 28,
     "metadata": {},
     "output_type": "execute_result"
    }
   ],
   "source": [
    "data.corr()"
   ]
  },
  {
   "cell_type": "markdown",
   "metadata": {
    "id": "_xNfIdvtlk97"
   },
   "source": [
    "Линейной зависимости между признаками нет"
   ]
  },
  {
   "cell_type": "markdown",
   "metadata": {
    "id": "NPrgnrFglk97"
   },
   "source": [
    "#### Выделение целевого признака"
   ]
  },
  {
   "cell_type": "code",
   "execution_count": 29,
   "metadata": {
    "id": "fwu2dye-lk97"
   },
   "outputs": [],
   "source": [
    "features = data.drop(['Price'], axis=1)\n",
    "target = data['Price']"
   ]
  },
  {
   "cell_type": "markdown",
   "metadata": {
    "id": "zj9es97Blk98"
   },
   "source": [
    "#### Разбиение данных на тестовую и обучающую выборку"
   ]
  },
  {
   "cell_type": "code",
   "execution_count": 30,
   "metadata": {
    "colab": {
     "base_uri": "https://localhost:8080/"
    },
    "id": "2JiBw77wlk98",
    "outputId": "7ad4d444-be6f-49d3-9463-353fe9fa253e"
   },
   "outputs": [
    {
     "name": "stdout",
     "output_type": "stream",
     "text": [
      "Размер обучающей выборки: 222326\n",
      "Размер тестовой выборки: 74109\n"
     ]
    }
   ],
   "source": [
    "features_train, features_test, target_train, target_test = train_test_split(\n",
    "    features, target, test_size=0.25, random_state=12345\n",
    ")\n",
    "\n",
    "print('Размер обучающей выборки:', len(features_train))\n",
    "print('Размер тестовой выборки:', len(features_test))"
   ]
  },
  {
   "cell_type": "markdown",
   "metadata": {
    "id": "jz0s1iUllk98"
   },
   "source": [
    "#### Масштабирование количественных признаков"
   ]
  },
  {
   "cell_type": "code",
   "execution_count": 31,
   "metadata": {
    "id": "nRGMVCNylk99"
   },
   "outputs": [],
   "source": [
    "numeric = ['RegistrationYear', 'Power', 'Kilometer']\n",
    "scaler = StandardScaler()\n",
    "scaler.fit(features_train[numeric]) \n",
    "\n",
    "features_train[numeric] = scaler.transform(features_train[numeric])\n",
    "features_test[numeric] = scaler.transform(features_test[numeric])"
   ]
  },
  {
   "cell_type": "markdown",
   "metadata": {
    "id": "qArzM78wlk99"
   },
   "source": [
    "#### Кодирование категориальных признаков"
   ]
  },
  {
   "cell_type": "code",
   "execution_count": 32,
   "metadata": {
    "colab": {
     "base_uri": "https://localhost:8080/"
    },
    "id": "ClAMsTKtlk99",
    "outputId": "b09a8ccb-24cf-4729-9048-4d5c150926d3"
   },
   "outputs": [
    {
     "name": "stdout",
     "output_type": "stream",
     "text": [
      "VehicleType: 9\n",
      "Gearbox: 3\n",
      "Model:  249\n",
      "Brand:  40\n",
      "NotRepaired: 3\n"
     ]
    }
   ],
   "source": [
    "print('VehicleType:', data.VehicleType.nunique())\n",
    "print('Gearbox:', data.Gearbox.nunique())\n",
    "print('Model: ', data.Model.nunique())\n",
    "print('Brand: ', data.Brand.nunique())\n",
    "print('NotRepaired:', data.Repaired.nunique())"
   ]
  },
  {
   "cell_type": "markdown",
   "metadata": {
    "id": "TQ_0RtDflk99"
   },
   "source": [
    "Признаки 'FuelType', 'VehicleType', 'Gearbox', 'Repaired', закодируем техникой OHE, поскольку у этих признаков не много уникальных значений"
   ]
  },
  {
   "cell_type": "code",
   "execution_count": 33,
   "metadata": {
    "colab": {
     "base_uri": "https://localhost:8080/"
    },
    "id": "eh8NZKtOlk9-",
    "outputId": "57fee7d6-65da-41d8-f352-baa329de260f"
   },
   "outputs": [
    {
     "name": "stdout",
     "output_type": "stream",
     "text": [
      "Количество признаков в обучающей выборке: 24\n",
      "Количество признаков в тестовой выборке: 24\n"
     ]
    }
   ],
   "source": [
    "features_train = pd.get_dummies(features_train, drop_first=True, columns=['FuelType', 'VehicleType', 'Gearbox', 'Repaired'])\n",
    "print('Количество признаков в обучающей выборке:', features_train.shape[1])\n",
    "\n",
    "features_test = pd.get_dummies(features_test, drop_first=True, columns=['FuelType', 'VehicleType', 'Gearbox', 'Repaired'])\n",
    "print('Количество признаков в тестовой выборке:', features_train.shape[1])\n"
   ]
  },
  {
   "cell_type": "markdown",
   "metadata": {
    "id": "ZHVixIXxlk9-"
   },
   "source": [
    "Признаки 'Model', 'Brand' закодируем при помощи BinaryEncoder, поскольку много уникальных значений"
   ]
  },
  {
   "cell_type": "code",
   "execution_count": 34,
   "metadata": {
    "colab": {
     "base_uri": "https://localhost:8080/"
    },
    "id": "eiXWAvADlk9-",
    "outputId": "6fb5bd0f-1a24-43c3-cc59-6af911ec73df"
   },
   "outputs": [
    {
     "name": "stdout",
     "output_type": "stream",
     "text": [
      "Количество признаков в обучающей выборке: 36\n",
      "Количество признаков в тестовой выборке 36\n"
     ]
    }
   ],
   "source": [
    "bn = BinaryEncoder()\n",
    "df_tmp = bn.fit_transform(features_train[['Model','Brand']])\n",
    "features_train = pd.concat([features_train, df_tmp], axis=1)\n",
    "features_train = features_train.drop(['Model','Brand'], axis=1)\n",
    "print('Количество признаков в обучающей выборке:', features_train.shape[1])\n",
    "\n",
    "df_tmp = bn.transform(features_test[['Model','Brand']])\n",
    "features_test = pd.concat([features_test, df_tmp], axis=1)\n",
    "features_test = features_test.drop(['Model','Brand'], axis=1)\n",
    "print('Количество признаков в тестовой выборке', features_test.shape[1])\n"
   ]
  },
  {
   "cell_type": "markdown",
   "metadata": {
    "id": "l_rwMWGhQNd2"
   },
   "source": [
    "**Вывод:** \n",
    "* Удалены признаки NumberOfPictures, DateCrawled, LastSeen, 'RegistrationMonth', DateCreated и PostalCode\n",
    "* Выделен целевой признак\n",
    "* Данные разбиты на обучающую и тестовую выборку в соотношении\n",
    "* Количественные признаки 'RegistrationYear', 'Power', 'Kilometer' масштабированы\n",
    "* Категориальные признаки 'FuelType', 'VehicleType', 'Gearbox', 'Repaired', закодированы техникой OHE\n",
    "* Категориальные признаки 'Model', 'Brand' закодированы при помощи BinaryEncoder"
   ]
  },
  {
   "cell_type": "markdown",
   "metadata": {
    "id": "JZFkocOclk9_"
   },
   "source": [
    "### Подбор параметров моделей"
   ]
  },
  {
   "cell_type": "code",
   "execution_count": 35,
   "outputs": [],
   "source": [
    "def rMSE(y_true, y_pred, **kwargs):\n",
    "    return mean_squared_error(y_true, y_pred) ** 0.5\n",
    "\n",
    "rMSE_scorer = make_scorer(rMSE, greater_is_better=False)"
   ],
   "metadata": {
    "collapsed": false
   }
  },
  {
   "cell_type": "markdown",
   "metadata": {
    "id": "eSaIqOMrlk9_"
   },
   "source": [
    "#### Линейная регрессия"
   ]
  },
  {
   "cell_type": "code",
   "execution_count": 36,
   "metadata": {
    "colab": {
     "base_uri": "https://localhost:8080/"
    },
    "id": "DNHAAfO4lk9_",
    "outputId": "8686ce98-47ba-4449-fb61-382d2bda31f6"
   },
   "outputs": [
    {
     "name": "stdout",
     "output_type": "stream",
     "text": [
      "Усреднённое RMSE модели: 2635.870355836115\n",
      "CPU times: total: 3.81 s\n",
      "Wall time: 1.81 s\n"
     ]
    }
   ],
   "source": [
    "%%time\n",
    "model = LinearRegression()\n",
    "\n",
    "mean_rmse = -cross_val_score(model, features_train, target_train, scoring=rMSE_scorer, cv=5).mean()\n",
    "print(\"Усреднённое RMSE модели:\", mean_rmse)"
   ]
  },
  {
   "cell_type": "markdown",
   "metadata": {
    "id": "hMfyalont4GW"
   },
   "source": [
    "Усреднённое RMSE модели: 2635"
   ]
  },
  {
   "cell_type": "markdown",
   "metadata": {
    "id": "tlVxcx67lk-A"
   },
   "source": [
    "#### Дерево решений"
   ]
  },
  {
   "cell_type": "code",
   "execution_count": 38,
   "metadata": {
    "id": "Td3H_Vjelk-A"
   },
   "outputs": [
    {
     "name": "stdout",
     "output_type": "stream",
     "text": [
      "Лучшие параметры {'max_depth': 15}\n",
      "Усредненное RMSE: 1897.97904668009\n"
     ]
    }
   ],
   "source": [
    "model = DecisionTreeRegressor(random_state=1234)\n",
    "parameters = {'max_depth': range (1, 20, 2)}\n",
    "\n",
    "grid = GridSearchCV(model, parameters, scoring = rMSE_scorer, cv=5)\n",
    "grid.fit(features_train, target_train)\n",
    "\n",
    "print('Лучшие параметры', grid.best_params_)\n",
    "print('Усредненное RMSE:', -grid.best_score_)"
   ]
  },
  {
   "cell_type": "markdown",
   "metadata": {
    "id": "fNhLh2SAlk-A"
   },
   "source": [
    "Лучшее усредненное значение RMSE на тестовой выборке достигается при параметрах {'max_depth': 13} и равняется 1898"
   ]
  },
  {
   "cell_type": "markdown",
   "metadata": {
    "id": "W-Niy-Wjlk-A"
   },
   "source": [
    "#### Случайный лес"
   ]
  },
  {
   "cell_type": "code",
   "execution_count": 39,
   "metadata": {
    "id": "ad95gzQelk-B"
   },
   "outputs": [
    {
     "name": "stdout",
     "output_type": "stream",
     "text": [
      "Fitting 5 folds for each of 15 candidates, totalling 75 fits\n",
      "[CV 1/5; 1/15] START max_depth=10, n_estimators=30..............................\n",
      "[CV 1/5; 1/15] END max_depth=10, n_estimators=30;, score=-1885.540 total time=  11.8s\n",
      "[CV 2/5; 1/15] START max_depth=10, n_estimators=30..............................\n",
      "[CV 2/5; 1/15] END max_depth=10, n_estimators=30;, score=-1923.526 total time=  10.9s\n",
      "[CV 3/5; 1/15] START max_depth=10, n_estimators=30..............................\n",
      "[CV 3/5; 1/15] END max_depth=10, n_estimators=30;, score=-1920.007 total time=  10.9s\n",
      "[CV 4/5; 1/15] START max_depth=10, n_estimators=30..............................\n",
      "[CV 4/5; 1/15] END max_depth=10, n_estimators=30;, score=-1906.758 total time=  10.8s\n",
      "[CV 5/5; 1/15] START max_depth=10, n_estimators=30..............................\n",
      "[CV 5/5; 1/15] END max_depth=10, n_estimators=30;, score=-1890.839 total time=  11.0s\n",
      "[CV 1/5; 2/15] START max_depth=10, n_estimators=40..............................\n",
      "[CV 1/5; 2/15] END max_depth=10, n_estimators=40;, score=-1883.256 total time=  14.6s\n",
      "[CV 2/5; 2/15] START max_depth=10, n_estimators=40..............................\n",
      "[CV 2/5; 2/15] END max_depth=10, n_estimators=40;, score=-1922.469 total time=  14.5s\n",
      "[CV 3/5; 2/15] START max_depth=10, n_estimators=40..............................\n",
      "[CV 3/5; 2/15] END max_depth=10, n_estimators=40;, score=-1920.073 total time=  14.6s\n",
      "[CV 4/5; 2/15] START max_depth=10, n_estimators=40..............................\n",
      "[CV 4/5; 2/15] END max_depth=10, n_estimators=40;, score=-1905.567 total time=  15.3s\n",
      "[CV 5/5; 2/15] START max_depth=10, n_estimators=40..............................\n",
      "[CV 5/5; 2/15] END max_depth=10, n_estimators=40;, score=-1890.023 total time=  33.0s\n",
      "[CV 1/5; 3/15] START max_depth=10, n_estimators=50..............................\n",
      "[CV 1/5; 3/15] END max_depth=10, n_estimators=50;, score=-1881.545 total time=  40.9s\n",
      "[CV 2/5; 3/15] START max_depth=10, n_estimators=50..............................\n",
      "[CV 2/5; 3/15] END max_depth=10, n_estimators=50;, score=-1921.815 total time=  40.6s\n",
      "[CV 3/5; 3/15] START max_depth=10, n_estimators=50..............................\n",
      "[CV 3/5; 3/15] END max_depth=10, n_estimators=50;, score=-1919.299 total time=  22.9s\n",
      "[CV 4/5; 3/15] START max_depth=10, n_estimators=50..............................\n",
      "[CV 4/5; 3/15] END max_depth=10, n_estimators=50;, score=-1904.085 total time=  18.8s\n",
      "[CV 5/5; 3/15] START max_depth=10, n_estimators=50..............................\n",
      "[CV 5/5; 3/15] END max_depth=10, n_estimators=50;, score=-1889.505 total time=  18.2s\n",
      "[CV 1/5; 4/15] START max_depth=10, n_estimators=60..............................\n",
      "[CV 1/5; 4/15] END max_depth=10, n_estimators=60;, score=-1881.007 total time=  21.7s\n",
      "[CV 2/5; 4/15] START max_depth=10, n_estimators=60..............................\n",
      "[CV 2/5; 4/15] END max_depth=10, n_estimators=60;, score=-1921.335 total time=  22.7s\n",
      "[CV 3/5; 4/15] START max_depth=10, n_estimators=60..............................\n",
      "[CV 3/5; 4/15] END max_depth=10, n_estimators=60;, score=-1919.617 total time=  21.4s\n",
      "[CV 4/5; 4/15] START max_depth=10, n_estimators=60..............................\n",
      "[CV 4/5; 4/15] END max_depth=10, n_estimators=60;, score=-1903.131 total time=  21.4s\n",
      "[CV 5/5; 4/15] START max_depth=10, n_estimators=60..............................\n",
      "[CV 5/5; 4/15] END max_depth=10, n_estimators=60;, score=-1888.880 total time=  21.4s\n",
      "[CV 1/5; 5/15] START max_depth=10, n_estimators=70..............................\n",
      "[CV 1/5; 5/15] END max_depth=10, n_estimators=70;, score=-1880.394 total time=  25.5s\n",
      "[CV 2/5; 5/15] START max_depth=10, n_estimators=70..............................\n",
      "[CV 2/5; 5/15] END max_depth=10, n_estimators=70;, score=-1919.029 total time=  25.2s\n",
      "[CV 3/5; 5/15] START max_depth=10, n_estimators=70..............................\n",
      "[CV 3/5; 5/15] END max_depth=10, n_estimators=70;, score=-1919.108 total time=  25.5s\n",
      "[CV 4/5; 5/15] START max_depth=10, n_estimators=70..............................\n",
      "[CV 4/5; 5/15] END max_depth=10, n_estimators=70;, score=-1902.319 total time=  25.4s\n",
      "[CV 5/5; 5/15] START max_depth=10, n_estimators=70..............................\n",
      "[CV 5/5; 5/15] END max_depth=10, n_estimators=70;, score=-1888.863 total time=  25.5s\n",
      "[CV 1/5; 6/15] START max_depth=12, n_estimators=30..............................\n",
      "[CV 1/5; 6/15] END max_depth=12, n_estimators=30;, score=-1760.709 total time=  12.4s\n",
      "[CV 2/5; 6/15] START max_depth=12, n_estimators=30..............................\n",
      "[CV 2/5; 6/15] END max_depth=12, n_estimators=30;, score=-1797.390 total time=  12.4s\n",
      "[CV 3/5; 6/15] START max_depth=12, n_estimators=30..............................\n",
      "[CV 3/5; 6/15] END max_depth=12, n_estimators=30;, score=-1801.357 total time=  12.5s\n",
      "[CV 4/5; 6/15] START max_depth=12, n_estimators=30..............................\n",
      "[CV 4/5; 6/15] END max_depth=12, n_estimators=30;, score=-1781.696 total time=  12.5s\n",
      "[CV 5/5; 6/15] START max_depth=12, n_estimators=30..............................\n",
      "[CV 5/5; 6/15] END max_depth=12, n_estimators=30;, score=-1770.383 total time=  12.6s\n",
      "[CV 1/5; 7/15] START max_depth=12, n_estimators=40..............................\n",
      "[CV 1/5; 7/15] END max_depth=12, n_estimators=40;, score=-1756.963 total time=  16.6s\n",
      "[CV 2/5; 7/15] START max_depth=12, n_estimators=40..............................\n",
      "[CV 2/5; 7/15] END max_depth=12, n_estimators=40;, score=-1796.996 total time=  16.5s\n",
      "[CV 3/5; 7/15] START max_depth=12, n_estimators=40..............................\n",
      "[CV 3/5; 7/15] END max_depth=12, n_estimators=40;, score=-1800.954 total time=  16.6s\n",
      "[CV 4/5; 7/15] START max_depth=12, n_estimators=40..............................\n",
      "[CV 4/5; 7/15] END max_depth=12, n_estimators=40;, score=-1779.342 total time=  17.0s\n",
      "[CV 5/5; 7/15] START max_depth=12, n_estimators=40..............................\n",
      "[CV 5/5; 7/15] END max_depth=12, n_estimators=40;, score=-1768.979 total time=  16.9s\n",
      "[CV 1/5; 8/15] START max_depth=12, n_estimators=50..............................\n",
      "[CV 1/5; 8/15] END max_depth=12, n_estimators=50;, score=-1755.333 total time=  20.7s\n",
      "[CV 2/5; 8/15] START max_depth=12, n_estimators=50..............................\n",
      "[CV 2/5; 8/15] END max_depth=12, n_estimators=50;, score=-1795.806 total time=  20.8s\n",
      "[CV 3/5; 8/15] START max_depth=12, n_estimators=50..............................\n",
      "[CV 3/5; 8/15] END max_depth=12, n_estimators=50;, score=-1799.373 total time=  20.7s\n",
      "[CV 4/5; 8/15] START max_depth=12, n_estimators=50..............................\n",
      "[CV 4/5; 8/15] END max_depth=12, n_estimators=50;, score=-1778.414 total time=  20.7s\n",
      "[CV 5/5; 8/15] START max_depth=12, n_estimators=50..............................\n",
      "[CV 5/5; 8/15] END max_depth=12, n_estimators=50;, score=-1767.320 total time=  20.9s\n",
      "[CV 1/5; 9/15] START max_depth=12, n_estimators=60..............................\n",
      "[CV 1/5; 9/15] END max_depth=12, n_estimators=60;, score=-1754.740 total time=  24.9s\n",
      "[CV 2/5; 9/15] START max_depth=12, n_estimators=60..............................\n",
      "[CV 2/5; 9/15] END max_depth=12, n_estimators=60;, score=-1794.558 total time=  24.8s\n",
      "[CV 3/5; 9/15] START max_depth=12, n_estimators=60..............................\n",
      "[CV 3/5; 9/15] END max_depth=12, n_estimators=60;, score=-1799.372 total time=  25.0s\n",
      "[CV 4/5; 9/15] START max_depth=12, n_estimators=60..............................\n",
      "[CV 4/5; 9/15] END max_depth=12, n_estimators=60;, score=-1776.926 total time=  24.9s\n",
      "[CV 5/5; 9/15] START max_depth=12, n_estimators=60..............................\n",
      "[CV 5/5; 9/15] END max_depth=12, n_estimators=60;, score=-1766.178 total time=  25.5s\n",
      "[CV 1/5; 10/15] START max_depth=12, n_estimators=70.............................\n",
      "[CV 1/5; 10/15] END max_depth=12, n_estimators=70;, score=-1754.136 total time=  29.0s\n",
      "[CV 2/5; 10/15] START max_depth=12, n_estimators=70.............................\n",
      "[CV 2/5; 10/15] END max_depth=12, n_estimators=70;, score=-1791.818 total time=  29.1s\n",
      "[CV 3/5; 10/15] START max_depth=12, n_estimators=70.............................\n",
      "[CV 3/5; 10/15] END max_depth=12, n_estimators=70;, score=-1798.821 total time=  29.0s\n",
      "[CV 4/5; 10/15] START max_depth=12, n_estimators=70.............................\n",
      "[CV 4/5; 10/15] END max_depth=12, n_estimators=70;, score=-1776.272 total time=  29.0s\n",
      "[CV 5/5; 10/15] START max_depth=12, n_estimators=70.............................\n",
      "[CV 5/5; 10/15] END max_depth=12, n_estimators=70;, score=-1765.681 total time=  29.1s\n",
      "[CV 1/5; 11/15] START max_depth=14, n_estimators=30.............................\n",
      "[CV 1/5; 11/15] END max_depth=14, n_estimators=30;, score=-1663.173 total time=  13.9s\n",
      "[CV 2/5; 11/15] START max_depth=14, n_estimators=30.............................\n",
      "[CV 2/5; 11/15] END max_depth=14, n_estimators=30;, score=-1712.094 total time=  13.8s\n",
      "[CV 3/5; 11/15] START max_depth=14, n_estimators=30.............................\n",
      "[CV 3/5; 11/15] END max_depth=14, n_estimators=30;, score=-1712.191 total time=  13.8s\n",
      "[CV 4/5; 11/15] START max_depth=14, n_estimators=30.............................\n",
      "[CV 4/5; 11/15] END max_depth=14, n_estimators=30;, score=-1690.340 total time=  13.9s\n",
      "[CV 5/5; 11/15] START max_depth=14, n_estimators=30.............................\n",
      "[CV 5/5; 11/15] END max_depth=14, n_estimators=30;, score=-1678.952 total time=  13.9s\n",
      "[CV 1/5; 12/15] START max_depth=14, n_estimators=40.............................\n",
      "[CV 1/5; 12/15] END max_depth=14, n_estimators=40;, score=-1659.514 total time=  18.6s\n",
      "[CV 2/5; 12/15] START max_depth=14, n_estimators=40.............................\n",
      "[CV 2/5; 12/15] END max_depth=14, n_estimators=40;, score=-1709.634 total time=  19.4s\n",
      "[CV 3/5; 12/15] START max_depth=14, n_estimators=40.............................\n",
      "[CV 3/5; 12/15] END max_depth=14, n_estimators=40;, score=-1710.302 total time=  18.4s\n",
      "[CV 4/5; 12/15] START max_depth=14, n_estimators=40.............................\n",
      "[CV 4/5; 12/15] END max_depth=14, n_estimators=40;, score=-1686.161 total time=  18.3s\n",
      "[CV 5/5; 12/15] START max_depth=14, n_estimators=40.............................\n",
      "[CV 5/5; 12/15] END max_depth=14, n_estimators=40;, score=-1675.599 total time=  18.4s\n",
      "[CV 1/5; 13/15] START max_depth=14, n_estimators=50.............................\n",
      "[CV 1/5; 13/15] END max_depth=14, n_estimators=50;, score=-1657.547 total time=  22.9s\n",
      "[CV 2/5; 13/15] START max_depth=14, n_estimators=50.............................\n",
      "[CV 2/5; 13/15] END max_depth=14, n_estimators=50;, score=-1707.280 total time=  25.6s\n",
      "[CV 3/5; 13/15] START max_depth=14, n_estimators=50.............................\n",
      "[CV 3/5; 13/15] END max_depth=14, n_estimators=50;, score=-1708.438 total time=  23.1s\n",
      "[CV 4/5; 13/15] START max_depth=14, n_estimators=50.............................\n",
      "[CV 4/5; 13/15] END max_depth=14, n_estimators=50;, score=-1685.266 total time=  23.5s\n",
      "[CV 5/5; 13/15] START max_depth=14, n_estimators=50.............................\n",
      "[CV 5/5; 13/15] END max_depth=14, n_estimators=50;, score=-1673.735 total time=  23.1s\n",
      "[CV 1/5; 14/15] START max_depth=14, n_estimators=60.............................\n",
      "[CV 1/5; 14/15] END max_depth=14, n_estimators=60;, score=-1656.661 total time=  27.8s\n",
      "[CV 2/5; 14/15] START max_depth=14, n_estimators=60.............................\n",
      "[CV 2/5; 14/15] END max_depth=14, n_estimators=60;, score=-1706.496 total time=  27.7s\n",
      "[CV 3/5; 14/15] START max_depth=14, n_estimators=60.............................\n",
      "[CV 3/5; 14/15] END max_depth=14, n_estimators=60;, score=-1707.828 total time=  27.7s\n",
      "[CV 4/5; 14/15] START max_depth=14, n_estimators=60.............................\n",
      "[CV 4/5; 14/15] END max_depth=14, n_estimators=60;, score=-1683.627 total time=  27.9s\n",
      "[CV 5/5; 14/15] START max_depth=14, n_estimators=60.............................\n",
      "[CV 5/5; 14/15] END max_depth=14, n_estimators=60;, score=-1672.802 total time=  27.8s\n",
      "[CV 1/5; 15/15] START max_depth=14, n_estimators=70.............................\n",
      "[CV 1/5; 15/15] END max_depth=14, n_estimators=70;, score=-1656.079 total time=  32.5s\n",
      "[CV 2/5; 15/15] START max_depth=14, n_estimators=70.............................\n",
      "[CV 2/5; 15/15] END max_depth=14, n_estimators=70;, score=-1703.761 total time=  32.5s\n",
      "[CV 3/5; 15/15] START max_depth=14, n_estimators=70.............................\n",
      "[CV 3/5; 15/15] END max_depth=14, n_estimators=70;, score=-1707.250 total time=  32.4s\n",
      "[CV 4/5; 15/15] START max_depth=14, n_estimators=70.............................\n",
      "[CV 4/5; 15/15] END max_depth=14, n_estimators=70;, score=-1683.397 total time=  32.3s\n",
      "[CV 5/5; 15/15] START max_depth=14, n_estimators=70.............................\n",
      "[CV 5/5; 15/15] END max_depth=14, n_estimators=70;, score=-1672.297 total time=  32.5s\n",
      "Лучшие параметры {'max_depth': 14, 'n_estimators': 70}\n",
      "RMSE 1684.5569645212909\n"
     ]
    }
   ],
   "source": [
    "model = RandomForestRegressor(random_state=1234)\n",
    "parameters = {'n_estimators': range (30, 80, 10), 'max_depth': range (10, 15, 2)}\n",
    "grid = GridSearchCV(model, parameters, scoring = rMSE_scorer, cv=5, verbose=10)\n",
    "grid.fit(features_train, target_train)\n",
    "\n",
    "print('Лучшие параметры', grid.best_params_)\n",
    "print('RMSE', -grid.best_score_)"
   ]
  },
  {
   "cell_type": "markdown",
   "metadata": {
    "id": "e2_Zet59lk-B"
   },
   "source": [
    "Лучшее усреднённое значение RMSE достигается при параметрах {'max_depth': 14, 'n_estimators': 70} и равняется 1684"
   ]
  },
  {
   "cell_type": "markdown",
   "metadata": {
    "id": "8n2-pgm_RGr3"
   },
   "source": [
    "**Вывод:**\n",
    "* Для модели Линейная регрессия RMSE на тестовой выборке равен 2638\n",
    "* Для модели Решающее дерево Лучшее усредненное значение RMSE на тестовой выборке достигается при параметрах {'max_depth': 13} и равен 1898\n",
    "* Для модели Случайный лес лучшее усредненное значение RMSE на тестовой выборке достигается при параметрах {'max_depth': 14, 'n_estimators': 70} и равен 1684"
   ]
  },
  {
   "cell_type": "markdown",
   "metadata": {
    "id": "UibhYA38lk-B"
   },
   "source": [
    "## Модели градиентного бустинга"
   ]
  },
  {
   "cell_type": "markdown",
   "metadata": {
    "id": "r265-nRmlk-B"
   },
   "source": [
    "### Подготовка признаков"
   ]
  },
  {
   "cell_type": "markdown",
   "metadata": {
    "id": "rURn6P6olk-C"
   },
   "source": [
    "Приведем категориальные признаки к типу category"
   ]
  },
  {
   "cell_type": "code",
   "execution_count": 42,
   "metadata": {
    "id": "HAamrC53lk-C"
   },
   "outputs": [],
   "source": [
    "boost_features = features.astype({\n",
    "    'FuelType': 'category', \n",
    "    'VehicleType': 'category', \n",
    "    'Gearbox': 'category',  \n",
    "    'Repaired': 'category',\n",
    "    'Model': 'category', \n",
    "    'Brand': 'category'\n",
    "})"
   ]
  },
  {
   "cell_type": "markdown",
   "metadata": {
    "id": "60ASaB7Qlk-D"
   },
   "source": [
    "Разобьём данные на тестовую и обучающую выборки"
   ]
  },
  {
   "cell_type": "code",
   "execution_count": 43,
   "metadata": {
    "colab": {
     "base_uri": "https://localhost:8080/"
    },
    "id": "vhA9_Q7Ulk-D",
    "outputId": "64be4f75-a786-4e05-ae95-32f6eee04cc9"
   },
   "outputs": [
    {
     "name": "stdout",
     "output_type": "stream",
     "text": [
      "Размер обучающей выборки: 222326\n",
      "Размер тестовой выборки: 74109\n"
     ]
    }
   ],
   "source": [
    "boost_features_train, boost_features_test, boost_target_train, boost_target_test = train_test_split(\n",
    "    boost_features, target, test_size=0.25, random_state=12345\n",
    ")\n",
    "\n",
    "print('Размер обучающей выборки:', len(boost_features_train))\n",
    "print('Размер тестовой выборки:', len(boost_features_test))"
   ]
  },
  {
   "cell_type": "markdown",
   "metadata": {
    "id": "R2eZOOQAlk-E"
   },
   "source": [
    "### LGBMRegressor"
   ]
  },
  {
   "cell_type": "markdown",
   "metadata": {
    "id": "t23KtvNxlk-E"
   },
   "source": [
    "Определим вспомогательные функции"
   ]
  },
  {
   "cell_type": "code",
   "execution_count": 44,
   "metadata": {
    "id": "INcJjJ6jlk-E"
   },
   "outputs": [],
   "source": [
    "def evaluate_model(model, X, y):\n",
    "    \"\"\"\n",
    "    Методом кросс-валидации оценивает модель model \n",
    "    метрикой 'neg_root_mean_squared_error'\n",
    "    на данных X, с целевым признаком y.\n",
    "    Возвращает список оценок\n",
    "    \"\"\"\n",
    "    print (model)\n",
    "    scores = cross_val_score(model, X, y,  scoring='neg_root_mean_squared_error', cv=5, n_jobs=-1)\n",
    "    return scores\n",
    "\n",
    "\n",
    "def show_models_performance(models, X, y):\n",
    "    \"\"\"\n",
    "    Показывает разброс метрик rMSE моделей из models.\n",
    "    \"\"\"\n",
    "    # evaluate the models and store results\n",
    "    results, names = list(), list()\n",
    "\n",
    "    for name, model in models.items():\n",
    "        scores = evaluate_model(model, X, y)\n",
    "        results.append(scores)\n",
    "        names.append(name)\n",
    "        print('>%s %.3f (%.3f)' % (name, np.mean(scores), np.std(scores)))\n",
    "  \n",
    "    # plot model performance for comparison\n",
    "    plt.boxplot(results, labels=names, showmeans=True)\n",
    "    plt.show()\n",
    "    return"
   ]
  },
  {
   "cell_type": "markdown",
   "metadata": {
    "id": "vmaKTnuRlk-G"
   },
   "source": [
    "#### Исследование скорости обучения"
   ]
  },
  {
   "cell_type": "code",
   "execution_count": 45,
   "metadata": {
    "colab": {
     "base_uri": "https://localhost:8080/",
     "height": 513
    },
    "id": "DLolJmU0lk-G",
    "outputId": "9a7b8811-a8fd-45f6-d7c4-5ded7f1468c5",
    "scrolled": true
   },
   "outputs": [
    {
     "name": "stdout",
     "output_type": "stream",
     "text": [
      "LGBMRegressor(learning_rate=0.0001, random_state=12345)\n",
      ">0.0001 -4510.607 (20.939)\n",
      "LGBMRegressor(learning_rate=0.001, random_state=12345)\n",
      ">0.0010 -4224.329 (20.335)\n",
      "LGBMRegressor(learning_rate=0.01, random_state=12345)\n",
      ">0.0100 -2546.310 (13.882)\n",
      "LGBMRegressor(random_state=12345)\n",
      ">0.1000 -1620.671 (16.226)\n",
      "LGBMRegressor(learning_rate=0.3, random_state=12345)\n",
      ">0.3000 -1601.121 (19.356)\n",
      "LGBMRegressor(learning_rate=0.5, random_state=12345)\n",
      ">0.5000 -1614.362 (14.311)\n",
      "LGBMRegressor(learning_rate=1.0, random_state=12345)\n",
      ">1.0000 -1702.927 (15.699)\n"
     ]
    },
    {
     "data": {
      "text/plain": "<Figure size 640x480 with 1 Axes>",
      "image/png": "[encoded data removed]"
     },
     "metadata": {},
     "output_type": "display_data"
    }
   ],
   "source": [
    "models = dict()\n",
    "rates = [0.0001, 0.001, 0.01, 0.1, 0.3, 0.5, 1.0]\n",
    "for r in rates:\n",
    "    key = '%.4f' % r\n",
    "    models[key] = lgb.LGBMRegressor(random_state=12345, learning_rate=r)\n",
    "\n",
    "show_models_performance(models, boost_features_train, boost_target_train)"
   ]
  },
  {
   "cell_type": "markdown",
   "metadata": {
    "id": "1Hl9u0L5ZbkV"
   },
   "source": [
    "**Вывод:** при learning_rate=0.3 достигается минимум метрики RMSE(1601) среди перебираемых значений "
   ]
  },
  {
   "cell_type": "markdown",
   "metadata": {
    "id": "lfSnv0bzlk-F"
   },
   "source": [
    "#### Исследование количества деревьев  "
   ]
  },
  {
   "cell_type": "code",
   "execution_count": 46,
   "metadata": {
    "colab": {
     "base_uri": "https://localhost:8080/",
     "height": 584
    },
    "id": "L-AS-nIflk-F",
    "outputId": "f4f8ef70-dcef-4d63-f18b-42909ab9cf48"
   },
   "outputs": [
    {
     "name": "stdout",
     "output_type": "stream",
     "text": [
      "LGBMRegressor(learning_rate=0.3, n_estimators=10, random_state=12345)\n",
      ">10 -1765.623 (13.975)\n",
      "LGBMRegressor(learning_rate=0.3, n_estimators=50, random_state=12345)\n",
      ">50 -1626.371 (18.627)\n",
      "LGBMRegressor(learning_rate=0.3, random_state=12345)\n",
      ">100 -1601.121 (19.356)\n",
      "LGBMRegressor(learning_rate=0.3, n_estimators=150, random_state=12345)\n",
      ">150 -1589.528 (18.797)\n",
      "LGBMRegressor(learning_rate=0.3, n_estimators=200, random_state=12345)\n",
      ">200 -1583.174 (19.586)\n",
      "LGBMRegressor(learning_rate=0.3, n_estimators=250, random_state=12345)\n",
      ">250 -1577.478 (19.829)\n",
      "LGBMRegressor(learning_rate=0.3, n_estimators=300, random_state=12345)\n",
      ">300 -1573.638 (20.274)\n",
      "LGBMRegressor(learning_rate=0.3, n_estimators=400, random_state=12345)\n",
      ">400 -1569.722 (20.399)\n"
     ]
    },
    {
     "data": {
      "text/plain": "<Figure size 640x480 with 1 Axes>",
      "image/png": "[encoded data removed]"
     },
     "metadata": {},
     "output_type": "display_data"
    },
    {
     "name": "stdout",
     "output_type": "stream",
     "text": [
      "CPU times: total: 812 ms\n",
      "Wall time: 22.3 s\n"
     ]
    }
   ],
   "source": [
    "%%time\n",
    "models = dict()\n",
    "trees = [10, 50, 100, 150, 200, 250, 300, 400]\n",
    "for n in trees:\n",
    "    models[str(n)] = lgb.LGBMRegressor(random_state=12345, n_estimators=n, learning_rate=0.3)\n",
    "\n",
    "show_models_performance(models, boost_features_train, boost_target_train)"
   ]
  },
  {
   "cell_type": "markdown",
   "metadata": {
    "id": "eThPGh-uSPGO"
   },
   "source": [
    "При количестве деревьев более 50 ощутимого улучшения модели не наблюдается. Дальнейшее исследование будем проводить для модели с n_estimators=150 (Усреднённое RMSE=1589)"
   ]
  },
  {
   "cell_type": "markdown",
   "metadata": {
    "id": "_PXUHM6_lk-G"
   },
   "source": [
    "#### Исследование глубины деревьев"
   ]
  },
  {
   "cell_type": "code",
   "execution_count": 47,
   "metadata": {
    "colab": {
     "base_uri": "https://localhost:8080/",
     "height": 904
    },
    "id": "c7DfrIl0lk-G",
    "outputId": "55cb1304-3ab5-46a1-aa73-44445a358bdc"
   },
   "outputs": [
    {
     "name": "stdout",
     "output_type": "stream",
     "text": [
      "LGBMRegressor(learning_rate=0.3, max_depth=1, n_estimators=150,\n",
      "              random_state=12345)\n",
      ">1 -2059.953 (9.335)\n",
      "LGBMRegressor(learning_rate=0.3, max_depth=2, n_estimators=150,\n",
      "              random_state=12345)\n",
      ">2 -1752.896 (13.103)\n",
      "LGBMRegressor(learning_rate=0.3, max_depth=3, n_estimators=150,\n",
      "              random_state=12345)\n",
      ">3 -1674.440 (14.835)\n",
      "LGBMRegressor(learning_rate=0.3, max_depth=4, n_estimators=150,\n",
      "              random_state=12345)\n",
      ">4 -1632.278 (12.309)\n",
      "LGBMRegressor(learning_rate=0.3, max_depth=5, n_estimators=150,\n",
      "              random_state=12345)\n",
      ">5 -1605.203 (15.734)\n",
      "LGBMRegressor(learning_rate=0.3, max_depth=6, n_estimators=150,\n",
      "              random_state=12345)\n",
      ">6 -1595.369 (17.979)\n",
      "LGBMRegressor(learning_rate=0.3, max_depth=7, n_estimators=150,\n",
      "              random_state=12345)\n",
      ">7 -1593.019 (14.598)\n",
      "LGBMRegressor(learning_rate=0.3, max_depth=8, n_estimators=150,\n",
      "              random_state=12345)\n",
      ">8 -1592.071 (15.961)\n",
      "LGBMRegressor(learning_rate=0.3, max_depth=9, n_estimators=150,\n",
      "              random_state=12345)\n",
      ">9 -1589.915 (17.323)\n",
      "LGBMRegressor(learning_rate=0.3, max_depth=10, n_estimators=150,\n",
      "              random_state=12345)\n",
      ">10 -1588.658 (19.458)\n",
      "LGBMRegressor(learning_rate=0.3, max_depth=11, n_estimators=150,\n",
      "              random_state=12345)\n",
      ">11 -1585.813 (18.920)\n",
      "LGBMRegressor(learning_rate=0.3, max_depth=12, n_estimators=150,\n",
      "              random_state=12345)\n",
      ">12 -1587.578 (17.344)\n"
     ]
    },
    {
     "data": {
      "text/plain": "<Figure size 640x480 with 1 Axes>",
      "image/png": "[encoded data removed]"
     },
     "metadata": {},
     "output_type": "display_data"
    }
   ],
   "source": [
    "models = dict()\n",
    "for i in range(1,13):\n",
    "    models[str(i)] = lgb.LGBMRegressor(random_state=12345, n_estimators=150, max_depth=i, learning_rate=0.3)\n",
    "\n",
    "show_models_performance(models, boost_features_train, boost_target_train)"
   ]
  },
  {
   "cell_type": "markdown",
   "metadata": {
    "id": "VmdZR9fDWrPw"
   },
   "source": [
    "При максимальной глубине деревьев более 8 улучшения модели не наблюдается. Таким образом выберем следующие гиперпараметры для модели LGBMRegressor следующие: learning_rate=0.3, max_depth=8, n_estimators=150. Усредненное RMSE = 1589"
   ]
  },
  {
   "cell_type": "markdown",
   "metadata": {
    "id": "j3lpl3G-0T56"
   },
   "source": [
    "#### Подбор параметров через GridSearchCV"
   ]
  },
  {
   "cell_type": "code",
   "execution_count": 48,
   "metadata": {
    "colab": {
     "base_uri": "https://localhost:8080/"
    },
    "id": "rUBWBZ2o0idk",
    "outputId": "05321d63-7cf7-4c99-cd14-17048ab0f90e"
   },
   "outputs": [
    {
     "name": "stdout",
     "output_type": "stream",
     "text": [
      "Fitting 5 folds for each of 280 candidates, totalling 1400 fits\n",
      "{'learning_rate': 0.20000000000000004, 'max_depth': 10, 'n_estimators': 160}\n"
     ]
    }
   ],
   "source": [
    "model_LGBM = lgb.LGBMRegressor(random_state = 12345)\n",
    "lgbm_params = {'n_estimators': range(80, 170, 20),\n",
    "               'max_depth': range(3, 11),\n",
    "               'learning_rate': np.arange(0.1, 0.41, 0.05)\n",
    "               }\n",
    "\n",
    "grid_lgbm = GridSearchCV(estimator = model_LGBM, param_grid = lgbm_params, n_jobs = -1, scoring = rMSE_scorer, cv=5, verbose=10)\n",
    "grid_lgbm.fit(boost_features_train, boost_target_train)\n",
    "print(grid_lgbm.best_params_)"
   ]
  },
  {
   "cell_type": "code",
   "execution_count": 49,
   "metadata": {
    "colab": {
     "base_uri": "https://localhost:8080/"
    },
    "id": "jMFNq5sYHD6d",
    "outputId": "7359f19f-ea99-44ff-b644-34d2cce07227"
   },
   "outputs": [
    {
     "name": "stdout",
     "output_type": "stream",
     "text": [
      "-1586.4697600682787\n"
     ]
    }
   ],
   "source": [
    "print(grid_lgbm.best_score_)"
   ]
  },
  {
   "cell_type": "markdown",
   "metadata": {
    "id": "gXNyGnetOlHP"
   },
   "source": [
    "GridSearchCV выдал похожие результаты: наилучшие параметры 'learning_rate': 0.2, 'max_depth': 10, 'n_estimators': 160, усредненное RMSE: 1585"
   ]
  },
  {
   "cell_type": "markdown",
   "metadata": {
    "id": "5ia3wdeslk-H"
   },
   "source": [
    "## Анализ моделей"
   ]
  },
  {
   "cell_type": "markdown",
   "metadata": {
    "id": "bpciCsxxlk-H"
   },
   "source": [
    "### Линейная регрессия"
   ]
  },
  {
   "cell_type": "code",
   "execution_count": 50,
   "metadata": {
    "colab": {
     "base_uri": "https://localhost:8080/"
    },
    "id": "5G--G6Amlk-H",
    "outputId": "75535cb2-cc8a-442f-ff73-ce14a21996dc"
   },
   "outputs": [
    {
     "name": "stdout",
     "output_type": "stream",
     "text": [
      "CPU times: total: 1.19 s\n",
      "Wall time: 420 ms\n"
     ]
    },
    {
     "data": {
      "text/plain": "LinearRegression()",
      "text/html": "<style>#sk-container-id-1 {color: black;background-color: white;}#sk-container-id-1 pre{padding: 0;}#sk-container-id-1 div.sk-toggleable {background-color: white;}#sk-container-id-1 label.sk-toggleable__label {cursor: pointer;display: block;width: 100%;margin-bottom: 0;padding: 0.3em;box-sizing: border-box;text-align: center;}#sk-container-id-1 label.sk-toggleable__label-arrow:before {content: \"▸\";float: left;margin-right: 0.25em;color: #696969;}#sk-container-id-1 label.sk-toggleable__label-arrow:hover:before {color: black;}#sk-container-id-1 div.sk-estimator:hover label.sk-toggleable__label-arrow:before {color: black;}#sk-container-id-1 div.sk-toggleable__content {max-height: 0;max-width: 0;overflow: hidden;text-align: left;background-color: #f0f8ff;}#sk-container-id-1 div.sk-toggleable__content pre {margin: 0.2em;color: black;border-radius: 0.25em;background-color: #f0f8ff;}#sk-container-id-1 input.sk-toggleable__control:checked~div.sk-toggleable__content {max-height: 200px;max-width: 100%;overflow: auto;}#sk-container-id-1 input.sk-toggleable__control:checked~label.sk-toggleable__label-arrow:before {content: \"▾\";}#sk-container-id-1 div.sk-estimator input.sk-toggleable__control:checked~label.sk-toggleable__label {background-color: #d4ebff;}#sk-container-id-1 div.sk-label input.sk-toggleable__control:checked~label.sk-toggleable__label {background-color: #d4ebff;}#sk-container-id-1 input.sk-hidden--visually {border: 0;clip: rect(1px 1px 1px 1px);clip: rect(1px, 1px, 1px, 1px);height: 1px;margin: -1px;overflow: hidden;padding: 0;position: absolute;width: 1px;}#sk-container-id-1 div.sk-estimator {font-family: monospace;background-color: #f0f8ff;border: 1px dotted black;border-radius: 0.25em;box-sizing: border-box;margin-bottom: 0.5em;}#sk-container-id-1 div.sk-estimator:hover {background-color: #d4ebff;}#sk-container-id-1 div.sk-parallel-item::after {content: \"\";width: 100%;border-bottom: 1px solid gray;flex-grow: 1;}#sk-container-id-1 div.sk-label:hover label.sk-toggleable__label {background-color: #d4ebff;}#sk-container-id-1 div.sk-serial::before {content: \"\";position: absolute;border-left: 1px solid gray;box-sizing: border-box;top: 0;bottom: 0;left: 50%;z-index: 0;}#sk-container-id-1 div.sk-serial {display: flex;flex-direction: column;align-items: center;background-color: white;padding-right: 0.2em;padding-left: 0.2em;position: relative;}#sk-container-id-1 div.sk-item {position: relative;z-index: 1;}#sk-container-id-1 div.sk-parallel {display: flex;align-items: stretch;justify-content: center;background-color: white;position: relative;}#sk-container-id-1 div.sk-item::before, #sk-container-id-1 div.sk-parallel-item::before {content: \"\";position: absolute;border-left: 1px solid gray;box-sizing: border-box;top: 0;bottom: 0;left: 50%;z-index: -1;}#sk-container-id-1 div.sk-parallel-item {display: flex;flex-direction: column;z-index: 1;position: relative;background-color: white;}#sk-container-id-1 div.sk-parallel-item:first-child::after {align-self: flex-end;width: 50%;}#sk-container-id-1 div.sk-parallel-item:last-child::after {align-self: flex-start;width: 50%;}#sk-container-id-1 div.sk-parallel-item:only-child::after {width: 0;}#sk-container-id-1 div.sk-dashed-wrapped {border: 1px dashed gray;margin: 0 0.4em 0.5em 0.4em;box-sizing: border-box;padding-bottom: 0.4em;background-color: white;}#sk-container-id-1 div.sk-label label {font-family: monospace;font-weight: bold;display: inline-block;line-height: 1.2em;}#sk-container-id-1 div.sk-label-container {text-align: center;}#sk-container-id-1 div.sk-container {/* jupyter's `normalize.less` sets `[hidden] { display: none; }` but bootstrap.min.css set `[hidden] { display: none !important; }` so we also need the `!important` here to be able to override the default hidden behavior on the sphinx rendered scikit-learn.org. See: https://github.com/scikit-learn/scikit-learn/issues/21755 */display: inline-block !important;position: relative;}#sk-container-id-1 div.sk-text-repr-fallback {display: none;}</style><div id=\"sk-container-id-1\" class=\"sk-top-container\"><div class=\"sk-text-repr-fallback\"><pre>LinearRegression()</pre><b>In a Jupyter environment, please rerun this cell to show the HTML representation or trust the notebook. <br />On GitHub, the HTML representation is unable to render, please try loading this page with nbviewer.org.</b></div><div class=\"sk-container\" hidden><div class=\"sk-item\"><div class=\"sk-estimator sk-toggleable\"><input class=\"sk-toggleable__control sk-hidden--visually\" id=\"sk-estimator-id-1\" type=\"checkbox\" checked><label for=\"sk-estimator-id-1\" class=\"sk-toggleable__label sk-toggleable__label-arrow\">LinearRegression</label><div class=\"sk-toggleable__content\"><pre>LinearRegression()</pre></div></div></div></div></div>"
     },
     "execution_count": 50,
     "metadata": {},
     "output_type": "execute_result"
    }
   ],
   "source": [
    "%%time\n",
    "model = LinearRegression() \n",
    "model.fit(features_train, target_train)"
   ]
  },
  {
   "cell_type": "code",
   "execution_count": 51,
   "metadata": {},
   "outputs": [
    {
     "name": "stdout",
     "output_type": "stream",
     "text": [
      "CPU times: total: 0 ns\n",
      "Wall time: 0 ns\n",
      "RMSE модели на тестовой выборке: 2638.443320533374\n"
     ]
    }
   ],
   "source": [
    "%time\n",
    "predictions = model.predict(features_test)\n",
    "rmse =  rMSE(target_test, predictions)\n",
    "print(\"RMSE модели на тестовой выборке:\", rmse)"
   ]
  },
  {
   "cell_type": "markdown",
   "metadata": {
    "id": "JSjbbKYM7kSC"
   },
   "source": [
    "RMSE: 2638, время обучения: 815мс, время предсказания 9 µs"
   ]
  },
  {
   "cell_type": "markdown",
   "metadata": {
    "id": "DBbfriW1lk-I"
   },
   "source": [
    "### Дерево решений"
   ]
  },
  {
   "cell_type": "code",
   "execution_count": 52,
   "metadata": {
    "colab": {
     "base_uri": "https://localhost:8080/"
    },
    "id": "oU_JNMP5lk-I",
    "outputId": "776d1440-528d-4c87-8496-bf2e82010e77"
   },
   "outputs": [
    {
     "name": "stdout",
     "output_type": "stream",
     "text": [
      "CPU times: total: 1.22 s\n",
      "Wall time: 1.26 s\n"
     ]
    },
    {
     "data": {
      "text/plain": "DecisionTreeRegressor(max_depth=13, random_state=1234)",
      "text/html": "<style>#sk-container-id-2 {color: black;background-color: white;}#sk-container-id-2 pre{padding: 0;}#sk-container-id-2 div.sk-toggleable {background-color: white;}#sk-container-id-2 label.sk-toggleable__label {cursor: pointer;display: block;width: 100%;margin-bottom: 0;padding: 0.3em;box-sizing: border-box;text-align: center;}#sk-container-id-2 label.sk-toggleable__label-arrow:before {content: \"▸\";float: left;margin-right: 0.25em;color: #696969;}#sk-container-id-2 label.sk-toggleable__label-arrow:hover:before {color: black;}#sk-container-id-2 div.sk-estimator:hover label.sk-toggleable__label-arrow:before {color: black;}#sk-container-id-2 div.sk-toggleable__content {max-height: 0;max-width: 0;overflow: hidden;text-align: left;background-color: #f0f8ff;}#sk-container-id-2 div.sk-toggleable__content pre {margin: 0.2em;color: black;border-radius: 0.25em;background-color: #f0f8ff;}#sk-container-id-2 input.sk-toggleable__control:checked~div.sk-toggleable__content {max-height: 200px;max-width: 100%;overflow: auto;}#sk-container-id-2 input.sk-toggleable__control:checked~label.sk-toggleable__label-arrow:before {content: \"▾\";}#sk-container-id-2 div.sk-estimator input.sk-toggleable__control:checked~label.sk-toggleable__label {background-color: #d4ebff;}#sk-container-id-2 div.sk-label input.sk-toggleable__control:checked~label.sk-toggleable__label {background-color: #d4ebff;}#sk-container-id-2 input.sk-hidden--visually {border: 0;clip: rect(1px 1px 1px 1px);clip: rect(1px, 1px, 1px, 1px);height: 1px;margin: -1px;overflow: hidden;padding: 0;position: absolute;width: 1px;}#sk-container-id-2 div.sk-estimator {font-family: monospace;background-color: #f0f8ff;border: 1px dotted black;border-radius: 0.25em;box-sizing: border-box;margin-bottom: 0.5em;}#sk-container-id-2 div.sk-estimator:hover {background-color: #d4ebff;}#sk-container-id-2 div.sk-parallel-item::after {content: \"\";width: 100%;border-bottom: 1px solid gray;flex-grow: 1;}#sk-container-id-2 div.sk-label:hover label.sk-toggleable__label {background-color: #d4ebff;}#sk-container-id-2 div.sk-serial::before {content: \"\";position: absolute;border-left: 1px solid gray;box-sizing: border-box;top: 0;bottom: 0;left: 50%;z-index: 0;}#sk-container-id-2 div.sk-serial {display: flex;flex-direction: column;align-items: center;background-color: white;padding-right: 0.2em;padding-left: 0.2em;position: relative;}#sk-container-id-2 div.sk-item {position: relative;z-index: 1;}#sk-container-id-2 div.sk-parallel {display: flex;align-items: stretch;justify-content: center;background-color: white;position: relative;}#sk-container-id-2 div.sk-item::before, #sk-container-id-2 div.sk-parallel-item::before {content: \"\";position: absolute;border-left: 1px solid gray;box-sizing: border-box;top: 0;bottom: 0;left: 50%;z-index: -1;}#sk-container-id-2 div.sk-parallel-item {display: flex;flex-direction: column;z-index: 1;position: relative;background-color: white;}#sk-container-id-2 div.sk-parallel-item:first-child::after {align-self: flex-end;width: 50%;}#sk-container-id-2 div.sk-parallel-item:last-child::after {align-self: flex-start;width: 50%;}#sk-container-id-2 div.sk-parallel-item:only-child::after {width: 0;}#sk-container-id-2 div.sk-dashed-wrapped {border: 1px dashed gray;margin: 0 0.4em 0.5em 0.4em;box-sizing: border-box;padding-bottom: 0.4em;background-color: white;}#sk-container-id-2 div.sk-label label {font-family: monospace;font-weight: bold;display: inline-block;line-height: 1.2em;}#sk-container-id-2 div.sk-label-container {text-align: center;}#sk-container-id-2 div.sk-container {/* jupyter's `normalize.less` sets `[hidden] { display: none; }` but bootstrap.min.css set `[hidden] { display: none !important; }` so we also need the `!important` here to be able to override the default hidden behavior on the sphinx rendered scikit-learn.org. See: https://github.com/scikit-learn/scikit-learn/issues/21755 */display: inline-block !important;position: relative;}#sk-container-id-2 div.sk-text-repr-fallback {display: none;}</style><div id=\"sk-container-id-2\" class=\"sk-top-container\"><div class=\"sk-text-repr-fallback\"><pre>DecisionTreeRegressor(max_depth=13, random_state=1234)</pre><b>In a Jupyter environment, please rerun this cell to show the HTML representation or trust the notebook. <br />On GitHub, the HTML representation is unable to render, please try loading this page with nbviewer.org.</b></div><div class=\"sk-container\" hidden><div class=\"sk-item\"><div class=\"sk-estimator sk-toggleable\"><input class=\"sk-toggleable__control sk-hidden--visually\" id=\"sk-estimator-id-2\" type=\"checkbox\" checked><label for=\"sk-estimator-id-2\" class=\"sk-toggleable__label sk-toggleable__label-arrow\">DecisionTreeRegressor</label><div class=\"sk-toggleable__content\"><pre>DecisionTreeRegressor(max_depth=13, random_state=1234)</pre></div></div></div></div></div>"
     },
     "execution_count": 52,
     "metadata": {},
     "output_type": "execute_result"
    }
   ],
   "source": [
    "%%time\n",
    "model = DecisionTreeRegressor(max_depth=13, random_state=1234)\n",
    "model.fit(features_train, target_train)"
   ]
  },
  {
   "cell_type": "code",
   "execution_count": 54,
   "metadata": {},
   "outputs": [
    {
     "name": "stdout",
     "output_type": "stream",
     "text": [
      "CPU times: total: 0 ns\n",
      "Wall time: 0 ns\n",
      "RMSE модели на тестовой выборке: 1900.6973516745895\n"
     ]
    }
   ],
   "source": [
    "%time\n",
    "predictions = model.predict(features_test)\n",
    "rmse =  rMSE(target_test, predictions)\n",
    "print(\"RMSE модели на тестовой выборке:\", rmse)"
   ]
  },
  {
   "cell_type": "markdown",
   "metadata": {
    "id": "PH1UzuO57yYl"
   },
   "source": [
    "RMSE: 1900, время обучения: 1.87 s, время предсказания 4 µs"
   ]
  },
  {
   "cell_type": "markdown",
   "metadata": {
    "id": "whOZUYaQlk-I"
   },
   "source": [
    "### Случайный лес"
   ]
  },
  {
   "cell_type": "code",
   "execution_count": 55,
   "metadata": {
    "colab": {
     "base_uri": "https://localhost:8080/"
    },
    "id": "06XRf-NRlk-I",
    "outputId": "7ac233b9-ec63-4145-ecaf-ed6e36c2587f"
   },
   "outputs": [
    {
     "name": "stdout",
     "output_type": "stream",
     "text": [
      "CPU times: total: 42.5 s\n",
      "Wall time: 42.7 s\n"
     ]
    },
    {
     "data": {
      "text/plain": "RandomForestRegressor(max_depth=14, n_estimators=70, random_state=1234)",
      "text/html": "<style>#sk-container-id-3 {color: black;background-color: white;}#sk-container-id-3 pre{padding: 0;}#sk-container-id-3 div.sk-toggleable {background-color: white;}#sk-container-id-3 label.sk-toggleable__label {cursor: pointer;display: block;width: 100%;margin-bottom: 0;padding: 0.3em;box-sizing: border-box;text-align: center;}#sk-container-id-3 label.sk-toggleable__label-arrow:before {content: \"▸\";float: left;margin-right: 0.25em;color: #696969;}#sk-container-id-3 label.sk-toggleable__label-arrow:hover:before {color: black;}#sk-container-id-3 div.sk-estimator:hover label.sk-toggleable__label-arrow:before {color: black;}#sk-container-id-3 div.sk-toggleable__content {max-height: 0;max-width: 0;overflow: hidden;text-align: left;background-color: #f0f8ff;}#sk-container-id-3 div.sk-toggleable__content pre {margin: 0.2em;color: black;border-radius: 0.25em;background-color: #f0f8ff;}#sk-container-id-3 input.sk-toggleable__control:checked~div.sk-toggleable__content {max-height: 200px;max-width: 100%;overflow: auto;}#sk-container-id-3 input.sk-toggleable__control:checked~label.sk-toggleable__label-arrow:before {content: \"▾\";}#sk-container-id-3 div.sk-estimator input.sk-toggleable__control:checked~label.sk-toggleable__label {background-color: #d4ebff;}#sk-container-id-3 div.sk-label input.sk-toggleable__control:checked~label.sk-toggleable__label {background-color: #d4ebff;}#sk-container-id-3 input.sk-hidden--visually {border: 0;clip: rect(1px 1px 1px 1px);clip: rect(1px, 1px, 1px, 1px);height: 1px;margin: -1px;overflow: hidden;padding: 0;position: absolute;width: 1px;}#sk-container-id-3 div.sk-estimator {font-family: monospace;background-color: #f0f8ff;border: 1px dotted black;border-radius: 0.25em;box-sizing: border-box;margin-bottom: 0.5em;}#sk-container-id-3 div.sk-estimator:hover {background-color: #d4ebff;}#sk-container-id-3 div.sk-parallel-item::after {content: \"\";width: 100%;border-bottom: 1px solid gray;flex-grow: 1;}#sk-container-id-3 div.sk-label:hover label.sk-toggleable__label {background-color: #d4ebff;}#sk-container-id-3 div.sk-serial::before {content: \"\";position: absolute;border-left: 1px solid gray;box-sizing: border-box;top: 0;bottom: 0;left: 50%;z-index: 0;}#sk-container-id-3 div.sk-serial {display: flex;flex-direction: column;align-items: center;background-color: white;padding-right: 0.2em;padding-left: 0.2em;position: relative;}#sk-container-id-3 div.sk-item {position: relative;z-index: 1;}#sk-container-id-3 div.sk-parallel {display: flex;align-items: stretch;justify-content: center;background-color: white;position: relative;}#sk-container-id-3 div.sk-item::before, #sk-container-id-3 div.sk-parallel-item::before {content: \"\";position: absolute;border-left: 1px solid gray;box-sizing: border-box;top: 0;bottom: 0;left: 50%;z-index: -1;}#sk-container-id-3 div.sk-parallel-item {display: flex;flex-direction: column;z-index: 1;position: relative;background-color: white;}#sk-container-id-3 div.sk-parallel-item:first-child::after {align-self: flex-end;width: 50%;}#sk-container-id-3 div.sk-parallel-item:last-child::after {align-self: flex-start;width: 50%;}#sk-container-id-3 div.sk-parallel-item:only-child::after {width: 0;}#sk-container-id-3 div.sk-dashed-wrapped {border: 1px dashed gray;margin: 0 0.4em 0.5em 0.4em;box-sizing: border-box;padding-bottom: 0.4em;background-color: white;}#sk-container-id-3 div.sk-label label {font-family: monospace;font-weight: bold;display: inline-block;line-height: 1.2em;}#sk-container-id-3 div.sk-label-container {text-align: center;}#sk-container-id-3 div.sk-container {/* jupyter's `normalize.less` sets `[hidden] { display: none; }` but bootstrap.min.css set `[hidden] { display: none !important; }` so we also need the `!important` here to be able to override the default hidden behavior on the sphinx rendered scikit-learn.org. See: https://github.com/scikit-learn/scikit-learn/issues/21755 */display: inline-block !important;position: relative;}#sk-container-id-3 div.sk-text-repr-fallback {display: none;}</style><div id=\"sk-container-id-3\" class=\"sk-top-container\"><div class=\"sk-text-repr-fallback\"><pre>RandomForestRegressor(max_depth=14, n_estimators=70, random_state=1234)</pre><b>In a Jupyter environment, please rerun this cell to show the HTML representation or trust the notebook. <br />On GitHub, the HTML representation is unable to render, please try loading this page with nbviewer.org.</b></div><div class=\"sk-container\" hidden><div class=\"sk-item\"><div class=\"sk-estimator sk-toggleable\"><input class=\"sk-toggleable__control sk-hidden--visually\" id=\"sk-estimator-id-3\" type=\"checkbox\" checked><label for=\"sk-estimator-id-3\" class=\"sk-toggleable__label sk-toggleable__label-arrow\">RandomForestRegressor</label><div class=\"sk-toggleable__content\"><pre>RandomForestRegressor(max_depth=14, n_estimators=70, random_state=1234)</pre></div></div></div></div></div>"
     },
     "execution_count": 55,
     "metadata": {},
     "output_type": "execute_result"
    }
   ],
   "source": [
    "%%time\n",
    "model = RandomForestRegressor(max_depth=14, n_estimators=70, random_state=1234)\n",
    "model.fit(features_train, target_train)"
   ]
  },
  {
   "cell_type": "code",
   "execution_count": 58,
   "metadata": {},
   "outputs": [
    {
     "name": "stdout",
     "output_type": "stream",
     "text": [
      "CPU times: total: 0 ns\n",
      "Wall time: 0 ns\n",
      "RMSE модели на тестовой выборке: 1681.114541844128\n"
     ]
    }
   ],
   "source": [
    "%time\n",
    "predictions = model.predict(features_test)\n",
    "rmse =  rMSE(target_test, predictions)\n",
    "print(\"RMSE модели на тестовой выборке:\", rmse)"
   ]
  },
  {
   "cell_type": "markdown",
   "metadata": {
    "id": "fZAjPNTY765o"
   },
   "source": [
    "RMSE: 1681, время обучения: 1min 23s, время предсказания: 3 µs"
   ]
  },
  {
   "cell_type": "markdown",
   "metadata": {
    "id": "vif4YHW2lk-J"
   },
   "source": [
    "### LGBMRegressor"
   ]
  },
  {
   "cell_type": "code",
   "execution_count": 59,
   "metadata": {
    "colab": {
     "base_uri": "https://localhost:8080/"
    },
    "id": "FTaNY00Ulk-J",
    "outputId": "ff772437-f062-41bc-a5d8-f8c27772190f"
   },
   "outputs": [
    {
     "name": "stdout",
     "output_type": "stream",
     "text": [
      "CPU times: total: 3.7 s\n",
      "Wall time: 1.13 s\n"
     ]
    },
    {
     "data": {
      "text/plain": "LGBMRegressor(learning_rate=0.3, max_depth=8, n_estimators=150,\n              random_state=12345)",
      "text/html": "<style>#sk-container-id-4 {color: black;background-color: white;}#sk-container-id-4 pre{padding: 0;}#sk-container-id-4 div.sk-toggleable {background-color: white;}#sk-container-id-4 label.sk-toggleable__label {cursor: pointer;display: block;width: 100%;margin-bottom: 0;padding: 0.3em;box-sizing: border-box;text-align: center;}#sk-container-id-4 label.sk-toggleable__label-arrow:before {content: \"▸\";float: left;margin-right: 0.25em;color: #696969;}#sk-container-id-4 label.sk-toggleable__label-arrow:hover:before {color: black;}#sk-container-id-4 div.sk-estimator:hover label.sk-toggleable__label-arrow:before {color: black;}#sk-container-id-4 div.sk-toggleable__content {max-height: 0;max-width: 0;overflow: hidden;text-align: left;background-color: #f0f8ff;}#sk-container-id-4 div.sk-toggleable__content pre {margin: 0.2em;color: black;border-radius: 0.25em;background-color: #f0f8ff;}#sk-container-id-4 input.sk-toggleable__control:checked~div.sk-toggleable__content {max-height: 200px;max-width: 100%;overflow: auto;}#sk-container-id-4 input.sk-toggleable__control:checked~label.sk-toggleable__label-arrow:before {content: \"▾\";}#sk-container-id-4 div.sk-estimator input.sk-toggleable__control:checked~label.sk-toggleable__label {background-color: #d4ebff;}#sk-container-id-4 div.sk-label input.sk-toggleable__control:checked~label.sk-toggleable__label {background-color: #d4ebff;}#sk-container-id-4 input.sk-hidden--visually {border: 0;clip: rect(1px 1px 1px 1px);clip: rect(1px, 1px, 1px, 1px);height: 1px;margin: -1px;overflow: hidden;padding: 0;position: absolute;width: 1px;}#sk-container-id-4 div.sk-estimator {font-family: monospace;background-color: #f0f8ff;border: 1px dotted black;border-radius: 0.25em;box-sizing: border-box;margin-bottom: 0.5em;}#sk-container-id-4 div.sk-estimator:hover {background-color: #d4ebff;}#sk-container-id-4 div.sk-parallel-item::after {content: \"\";width: 100%;border-bottom: 1px solid gray;flex-grow: 1;}#sk-container-id-4 div.sk-label:hover label.sk-toggleable__label {background-color: #d4ebff;}#sk-container-id-4 div.sk-serial::before {content: \"\";position: absolute;border-left: 1px solid gray;box-sizing: border-box;top: 0;bottom: 0;left: 50%;z-index: 0;}#sk-container-id-4 div.sk-serial {display: flex;flex-direction: column;align-items: center;background-color: white;padding-right: 0.2em;padding-left: 0.2em;position: relative;}#sk-container-id-4 div.sk-item {position: relative;z-index: 1;}#sk-container-id-4 div.sk-parallel {display: flex;align-items: stretch;justify-content: center;background-color: white;position: relative;}#sk-container-id-4 div.sk-item::before, #sk-container-id-4 div.sk-parallel-item::before {content: \"\";position: absolute;border-left: 1px solid gray;box-sizing: border-box;top: 0;bottom: 0;left: 50%;z-index: -1;}#sk-container-id-4 div.sk-parallel-item {display: flex;flex-direction: column;z-index: 1;position: relative;background-color: white;}#sk-container-id-4 div.sk-parallel-item:first-child::after {align-self: flex-end;width: 50%;}#sk-container-id-4 div.sk-parallel-item:last-child::after {align-self: flex-start;width: 50%;}#sk-container-id-4 div.sk-parallel-item:only-child::after {width: 0;}#sk-container-id-4 div.sk-dashed-wrapped {border: 1px dashed gray;margin: 0 0.4em 0.5em 0.4em;box-sizing: border-box;padding-bottom: 0.4em;background-color: white;}#sk-container-id-4 div.sk-label label {font-family: monospace;font-weight: bold;display: inline-block;line-height: 1.2em;}#sk-container-id-4 div.sk-label-container {text-align: center;}#sk-container-id-4 div.sk-container {/* jupyter's `normalize.less` sets `[hidden] { display: none; }` but bootstrap.min.css set `[hidden] { display: none !important; }` so we also need the `!important` here to be able to override the default hidden behavior on the sphinx rendered scikit-learn.org. See: https://github.com/scikit-learn/scikit-learn/issues/21755 */display: inline-block !important;position: relative;}#sk-container-id-4 div.sk-text-repr-fallback {display: none;}</style><div id=\"sk-container-id-4\" class=\"sk-top-container\"><div class=\"sk-text-repr-fallback\"><pre>LGBMRegressor(learning_rate=0.3, max_depth=8, n_estimators=150,\n              random_state=12345)</pre><b>In a Jupyter environment, please rerun this cell to show the HTML representation or trust the notebook. <br />On GitHub, the HTML representation is unable to render, please try loading this page with nbviewer.org.</b></div><div class=\"sk-container\" hidden><div class=\"sk-item\"><div class=\"sk-estimator sk-toggleable\"><input class=\"sk-toggleable__control sk-hidden--visually\" id=\"sk-estimator-id-4\" type=\"checkbox\" checked><label for=\"sk-estimator-id-4\" class=\"sk-toggleable__label sk-toggleable__label-arrow\">LGBMRegressor</label><div class=\"sk-toggleable__content\"><pre>LGBMRegressor(learning_rate=0.3, max_depth=8, n_estimators=150,\n              random_state=12345)</pre></div></div></div></div></div>"
     },
     "execution_count": 59,
     "metadata": {},
     "output_type": "execute_result"
    }
   ],
   "source": [
    "%%time\n",
    "model = lgb.LGBMRegressor(random_state=12345, n_estimators=150, max_depth=8, learning_rate=0.3)\n",
    "model.fit(boost_features_train, boost_target_train)"
   ]
  },
  {
   "cell_type": "code",
   "execution_count": 63,
   "metadata": {},
   "outputs": [
    {
     "name": "stdout",
     "output_type": "stream",
     "text": [
      "RMSE модели на тестовой выборке: 1575.4151338834524\n",
      "CPU times: total: 844 ms\n",
      "Wall time: 127 ms\n"
     ]
    }
   ],
   "source": [
    "%%time\n",
    "predictions = model.predict(boost_features_test)\n",
    "rmse =  rMSE(boost_target_test, predictions)\n",
    "print(\"RMSE модели на тестовой выборке:\", rmse)"
   ]
  },
  {
   "cell_type": "markdown",
   "metadata": {
    "id": "dgQJbWUq7iJF"
   },
   "source": [
    "RMSE: 1576, время обучения: 3.52 s, время предсказания: 787 ms"
   ]
  },
  {
   "cell_type": "markdown",
   "metadata": {
    "id": "08P55ifPO-a7"
   },
   "source": [
    "Модель с параметрами, предложенными GridSearchCV"
   ]
  },
  {
   "cell_type": "code",
   "execution_count": 64,
   "metadata": {
    "colab": {
     "base_uri": "https://localhost:8080/"
    },
    "id": "YyVCqyOQHUU9",
    "outputId": "a082bddd-5993-4dce-b255-4617f59d3e7d"
   },
   "outputs": [
    {
     "name": "stdout",
     "output_type": "stream",
     "text": [
      "CPU times: total: 3.89 s\n",
      "Wall time: 987 ms\n"
     ]
    },
    {
     "data": {
      "text/plain": "LGBMRegressor(learning_rate=0.2, max_depth=10, n_estimators=160,\n              random_state=12345)",
      "text/html": "<style>#sk-container-id-6 {color: black;background-color: white;}#sk-container-id-6 pre{padding: 0;}#sk-container-id-6 div.sk-toggleable {background-color: white;}#sk-container-id-6 label.sk-toggleable__label {cursor: pointer;display: block;width: 100%;margin-bottom: 0;padding: 0.3em;box-sizing: border-box;text-align: center;}#sk-container-id-6 label.sk-toggleable__label-arrow:before {content: \"▸\";float: left;margin-right: 0.25em;color: #696969;}#sk-container-id-6 label.sk-toggleable__label-arrow:hover:before {color: black;}#sk-container-id-6 div.sk-estimator:hover label.sk-toggleable__label-arrow:before {color: black;}#sk-container-id-6 div.sk-toggleable__content {max-height: 0;max-width: 0;overflow: hidden;text-align: left;background-color: #f0f8ff;}#sk-container-id-6 div.sk-toggleable__content pre {margin: 0.2em;color: black;border-radius: 0.25em;background-color: #f0f8ff;}#sk-container-id-6 input.sk-toggleable__control:checked~div.sk-toggleable__content {max-height: 200px;max-width: 100%;overflow: auto;}#sk-container-id-6 input.sk-toggleable__control:checked~label.sk-toggleable__label-arrow:before {content: \"▾\";}#sk-container-id-6 div.sk-estimator input.sk-toggleable__control:checked~label.sk-toggleable__label {background-color: #d4ebff;}#sk-container-id-6 div.sk-label input.sk-toggleable__control:checked~label.sk-toggleable__label {background-color: #d4ebff;}#sk-container-id-6 input.sk-hidden--visually {border: 0;clip: rect(1px 1px 1px 1px);clip: rect(1px, 1px, 1px, 1px);height: 1px;margin: -1px;overflow: hidden;padding: 0;position: absolute;width: 1px;}#sk-container-id-6 div.sk-estimator {font-family: monospace;background-color: #f0f8ff;border: 1px dotted black;border-radius: 0.25em;box-sizing: border-box;margin-bottom: 0.5em;}#sk-container-id-6 div.sk-estimator:hover {background-color: #d4ebff;}#sk-container-id-6 div.sk-parallel-item::after {content: \"\";width: 100%;border-bottom: 1px solid gray;flex-grow: 1;}#sk-container-id-6 div.sk-label:hover label.sk-toggleable__label {background-color: #d4ebff;}#sk-container-id-6 div.sk-serial::before {content: \"\";position: absolute;border-left: 1px solid gray;box-sizing: border-box;top: 0;bottom: 0;left: 50%;z-index: 0;}#sk-container-id-6 div.sk-serial {display: flex;flex-direction: column;align-items: center;background-color: white;padding-right: 0.2em;padding-left: 0.2em;position: relative;}#sk-container-id-6 div.sk-item {position: relative;z-index: 1;}#sk-container-id-6 div.sk-parallel {display: flex;align-items: stretch;justify-content: center;background-color: white;position: relative;}#sk-container-id-6 div.sk-item::before, #sk-container-id-6 div.sk-parallel-item::before {content: \"\";position: absolute;border-left: 1px solid gray;box-sizing: border-box;top: 0;bottom: 0;left: 50%;z-index: -1;}#sk-container-id-6 div.sk-parallel-item {display: flex;flex-direction: column;z-index: 1;position: relative;background-color: white;}#sk-container-id-6 div.sk-parallel-item:first-child::after {align-self: flex-end;width: 50%;}#sk-container-id-6 div.sk-parallel-item:last-child::after {align-self: flex-start;width: 50%;}#sk-container-id-6 div.sk-parallel-item:only-child::after {width: 0;}#sk-container-id-6 div.sk-dashed-wrapped {border: 1px dashed gray;margin: 0 0.4em 0.5em 0.4em;box-sizing: border-box;padding-bottom: 0.4em;background-color: white;}#sk-container-id-6 div.sk-label label {font-family: monospace;font-weight: bold;display: inline-block;line-height: 1.2em;}#sk-container-id-6 div.sk-label-container {text-align: center;}#sk-container-id-6 div.sk-container {/* jupyter's `normalize.less` sets `[hidden] { display: none; }` but bootstrap.min.css set `[hidden] { display: none !important; }` so we also need the `!important` here to be able to override the default hidden behavior on the sphinx rendered scikit-learn.org. See: https://github.com/scikit-learn/scikit-learn/issues/21755 */display: inline-block !important;position: relative;}#sk-container-id-6 div.sk-text-repr-fallback {display: none;}</style><div id=\"sk-container-id-6\" class=\"sk-top-container\"><div class=\"sk-text-repr-fallback\"><pre>LGBMRegressor(learning_rate=0.2, max_depth=10, n_estimators=160,\n              random_state=12345)</pre><b>In a Jupyter environment, please rerun this cell to show the HTML representation or trust the notebook. <br />On GitHub, the HTML representation is unable to render, please try loading this page with nbviewer.org.</b></div><div class=\"sk-container\" hidden><div class=\"sk-item\"><div class=\"sk-estimator sk-toggleable\"><input class=\"sk-toggleable__control sk-hidden--visually\" id=\"sk-estimator-id-6\" type=\"checkbox\" checked><label for=\"sk-estimator-id-6\" class=\"sk-toggleable__label sk-toggleable__label-arrow\">LGBMRegressor</label><div class=\"sk-toggleable__content\"><pre>LGBMRegressor(learning_rate=0.2, max_depth=10, n_estimators=160,\n              random_state=12345)</pre></div></div></div></div></div>"
     },
     "execution_count": 64,
     "metadata": {},
     "output_type": "execute_result"
    }
   ],
   "source": [
    "%%time\n",
    "model = lgb.LGBMRegressor(random_state=12345, learning_rate= 0.2, max_depth= 10, n_estimators= 160)\n",
    "model.fit(boost_features_train, boost_target_train)"
   ]
  },
  {
   "cell_type": "code",
   "execution_count": 65,
   "metadata": {},
   "outputs": [
    {
     "name": "stdout",
     "output_type": "stream",
     "text": [
      "RMSE модели на тестовой выборке: 1575.4151338834524\n",
      "CPU times: total: 875 ms\n",
      "Wall time: 207 ms\n"
     ]
    }
   ],
   "source": [
    "%%time\n",
    "predictions = model.predict(boost_features_test)\n",
    "rmse =  rMSE(boost_target_test, predictions)\n",
    "print(\"RMSE модели на тестовой выборке:\", rmse)"
   ]
  },
  {
   "cell_type": "markdown",
   "metadata": {
    "id": "-xMzwnuNPiFU"
   },
   "source": [
    "RMSE: 1579, время обучения: 4 s, время предсказания: 926 ms. Преимущества в качестве данная модель не дала, время обучения и предсказания, тоже увеличились."
   ]
  },
  {
   "cell_type": "markdown",
   "metadata": {
    "id": "7JUlqb1d8GMk"
   },
   "source": [
    "**Вывод:** \n",
    "<table>\n",
    "    <tr>\n",
    "        <th></th>\n",
    "        <th>RMSE</th>\n",
    "        <th>время обучения</th>\n",
    "        <th>время предсказания</th>\n",
    "    </tr>\n",
    "    <tr>\n",
    "        <th>Линейная регрессия</th>\n",
    "        <td>2638</td>\n",
    "        <td>815 ms</td>\n",
    "        <td>6 µs</td>\n",
    "    </tr>\n",
    "    <tr>\n",
    "        <th>Дерево решений</th>\n",
    "        <td>1900</td>\n",
    "        <td>1.87 s</td>\n",
    "        <td>4 µs</td>\n",
    "    </tr>\n",
    "    <tr>\n",
    "        <th>Случайный лес</th>\n",
    "        <td>1681</td>\n",
    "        <td>1min 23s</td>\n",
    "        <td>3 µs</td>\n",
    "    </tr>\n",
    "    <tr>\n",
    "        <th>LGBMRegresor</th>\n",
    "        <td>1576</td>\n",
    "        <td>3.52 s</td>\n",
    "        <td>787 ms</td>\n",
    "    </tr>\n",
    "</table>"
   ]
  },
  {
   "cell_type": "markdown",
   "metadata": {},
   "source": [
    "* Наиболее быстро (815 ms) обучается модель линейной регрессии, предсказания осуществляются мгновенно (менее 10 µs). Но эта модель показывает наихудшее значение RMSE (2638)\n",
    "* Дерево решений обучается в 2 раза дольше модели линейной регрессии (1.87 s), предсказания так же делаются мгновенно, а её RMSE на тестовой выборке равно 1900\n",
    "* Модель градиентного бустинга обучается в 4 раза дольше (3.52 s) модели линейной регрессии, время предсказания осуществляются более чем в 10^5 раз дольше, но при этом модель показывает наилучшее значение RMSE(1576)\n",
    "* Модель случайный лес обучается в 20раз дольше, чем модель град. бустинга (120с), предсказания делает мгновенно и показывает очень хороший результат RMSE (1681).\n",
    "\n",
    "Наиболее привлекательными выглядят модели случайный лес (max_depth=14, n_estimators=70, random_state=1234) и модель градиентный бустинг с параметрами (n_estimators=150, max_depth=8, learning_rate=0.3). Однако выбор лучшей модели зависит от требований бизнеса: от того, какой фактор является наиболее критичным (время обучения / время предсказания или точность предсказаний)."
   ]
  }
 ],
 "metadata": {
  "ExecuteTimeLog": [
   {
    "duration": 383,
    "start_time": "2022-05-27T11:40:26.183Z"
   },
   {
    "duration": 3914,
    "start_time": "2022-05-27T11:41:22.544Z"
   },
   {
    "duration": 4,
    "start_time": "2022-05-30T05:09:14.436Z"
   },
   {
    "duration": 1026,
    "start_time": "2022-05-30T05:09:16.537Z"
   },
   {
    "duration": 4,
    "start_time": "2022-05-30T05:09:25.349Z"
   },
   {
    "duration": 1971,
    "start_time": "2022-05-30T05:09:27.157Z"
   },
   {
    "duration": 26,
    "start_time": "2022-05-30T06:03:01.247Z"
   },
   {
    "duration": 46,
    "start_time": "2022-05-30T06:03:11.998Z"
   },
   {
    "duration": 7,
    "start_time": "2022-05-30T06:10:23.648Z"
   },
   {
    "duration": 31,
    "start_time": "2022-05-30T06:10:42.489Z"
   },
   {
    "duration": 35,
    "start_time": "2022-05-30T06:22:58.457Z"
   },
   {
    "duration": 59,
    "start_time": "2022-05-30T06:23:11.720Z"
   },
   {
    "duration": 54,
    "start_time": "2022-05-30T06:26:51.035Z"
   },
   {
    "duration": 51,
    "start_time": "2022-05-30T06:29:52.685Z"
   },
   {
    "duration": 86,
    "start_time": "2022-05-30T06:29:59.863Z"
   },
   {
    "duration": 135,
    "start_time": "2022-05-30T08:29:56.034Z"
   },
   {
    "duration": 42,
    "start_time": "2022-05-30T08:31:33.961Z"
   },
   {
    "duration": 176,
    "start_time": "2022-05-30T08:32:20.041Z"
   },
   {
    "duration": 42,
    "start_time": "2022-05-30T08:32:51.883Z"
   },
   {
    "duration": 183,
    "start_time": "2022-05-30T08:34:35.896Z"
   },
   {
    "duration": 41,
    "start_time": "2022-05-30T08:35:36.693Z"
   },
   {
    "duration": 48,
    "start_time": "2022-05-30T08:35:53.688Z"
   },
   {
    "duration": 209,
    "start_time": "2022-05-30T08:36:33.923Z"
   },
   {
    "duration": 42,
    "start_time": "2022-05-30T08:36:56.154Z"
   },
   {
    "duration": 32,
    "start_time": "2022-05-30T08:36:59.773Z"
   },
   {
    "duration": 28,
    "start_time": "2022-05-30T08:37:10.408Z"
   },
   {
    "duration": 196,
    "start_time": "2022-05-30T08:37:56.564Z"
   },
   {
    "duration": 195,
    "start_time": "2022-05-30T08:38:13.729Z"
   },
   {
    "duration": 221,
    "start_time": "2022-05-30T08:38:50.811Z"
   },
   {
    "duration": 34,
    "start_time": "2022-05-30T08:39:45.755Z"
   },
   {
    "duration": 210,
    "start_time": "2022-05-30T08:42:07.558Z"
   },
   {
    "duration": 20,
    "start_time": "2022-05-30T08:42:50.199Z"
   },
   {
    "duration": 27,
    "start_time": "2022-05-30T08:42:57.601Z"
   },
   {
    "duration": 166,
    "start_time": "2022-05-30T08:47:48.296Z"
   },
   {
    "duration": 149,
    "start_time": "2022-05-30T08:47:56.235Z"
   },
   {
    "duration": 169,
    "start_time": "2022-05-30T08:48:51.770Z"
   },
   {
    "duration": 164,
    "start_time": "2022-05-30T08:49:00.280Z"
   },
   {
    "duration": 157,
    "start_time": "2022-05-30T08:49:10.299Z"
   },
   {
    "duration": 9,
    "start_time": "2022-05-30T08:50:22.362Z"
   },
   {
    "duration": 20,
    "start_time": "2022-05-30T08:50:34.583Z"
   },
   {
    "duration": 22,
    "start_time": "2022-05-30T08:59:29.864Z"
   },
   {
    "duration": 30,
    "start_time": "2022-05-30T09:01:10.522Z"
   },
   {
    "duration": 37,
    "start_time": "2022-05-30T09:02:50.992Z"
   },
   {
    "duration": 23,
    "start_time": "2022-05-30T09:03:18.456Z"
   },
   {
    "duration": 15,
    "start_time": "2022-05-30T09:05:06.180Z"
   },
   {
    "duration": 54,
    "start_time": "2022-05-31T11:26:03.080Z"
   },
   {
    "duration": 6,
    "start_time": "2022-05-31T11:26:42.882Z"
   },
   {
    "duration": 428,
    "start_time": "2022-05-31T11:26:49.648Z"
   },
   {
    "duration": 2115,
    "start_time": "2022-05-31T11:26:50.078Z"
   },
   {
    "duration": 33,
    "start_time": "2022-05-31T11:26:52.194Z"
   },
   {
    "duration": 29,
    "start_time": "2022-05-31T11:26:52.228Z"
   },
   {
    "duration": 83,
    "start_time": "2022-05-31T11:26:52.259Z"
   },
   {
    "duration": 49,
    "start_time": "2022-05-31T11:26:52.345Z"
   },
   {
    "duration": 33,
    "start_time": "2022-05-31T11:26:54.349Z"
   },
   {
    "duration": 32,
    "start_time": "2022-05-31T11:27:43.438Z"
   },
   {
    "duration": 33,
    "start_time": "2022-05-31T11:30:17.711Z"
   },
   {
    "duration": 18,
    "start_time": "2022-05-31T11:31:28.342Z"
   },
   {
    "duration": 32,
    "start_time": "2022-05-31T11:32:32.610Z"
   },
   {
    "duration": 19,
    "start_time": "2022-05-31T11:32:55.543Z"
   },
   {
    "duration": 117,
    "start_time": "2022-05-31T11:33:30.093Z"
   },
   {
    "duration": 424,
    "start_time": "2022-05-31T11:34:26.123Z"
   },
   {
    "duration": 144,
    "start_time": "2022-05-31T11:34:44.366Z"
   },
   {
    "duration": 409,
    "start_time": "2022-05-31T11:34:57.843Z"
   },
   {
    "duration": 407,
    "start_time": "2022-05-31T11:35:05.423Z"
   },
   {
    "duration": 422,
    "start_time": "2022-05-31T11:35:27.307Z"
   },
   {
    "duration": 369,
    "start_time": "2022-05-31T11:35:53.249Z"
   },
   {
    "duration": 418,
    "start_time": "2022-05-31T11:36:33.159Z"
   },
   {
    "duration": 941,
    "start_time": "2022-05-31T11:40:54.012Z"
   },
   {
    "duration": 4,
    "start_time": "2022-05-31T11:41:15.983Z"
   },
   {
    "duration": 4,
    "start_time": "2022-05-31T11:41:40.495Z"
   },
   {
    "duration": 181,
    "start_time": "2022-05-31T11:42:41.038Z"
   },
   {
    "duration": 1462,
    "start_time": "2022-05-31T11:43:01.148Z"
   },
   {
    "duration": 330,
    "start_time": "2022-05-31T11:44:08.346Z"
   },
   {
    "duration": 16,
    "start_time": "2022-05-31T11:44:51.652Z"
   },
   {
    "duration": 17,
    "start_time": "2022-05-31T11:44:57.580Z"
   },
   {
    "duration": 17,
    "start_time": "2022-05-31T11:45:10.714Z"
   },
   {
    "duration": 18,
    "start_time": "2022-05-31T11:46:00.654Z"
   },
   {
    "duration": 72,
    "start_time": "2022-05-31T11:48:18.363Z"
   },
   {
    "duration": 306,
    "start_time": "2022-05-31T11:48:23.706Z"
   },
   {
    "duration": 372,
    "start_time": "2022-05-31T11:48:33.526Z"
   },
   {
    "duration": 3,
    "start_time": "2022-05-31T11:52:07.003Z"
   },
   {
    "duration": 61,
    "start_time": "2022-05-31T11:52:11.271Z"
   },
   {
    "duration": 394,
    "start_time": "2022-05-31T12:12:36.563Z"
   },
   {
    "duration": 0,
    "start_time": "2022-05-31T12:14:49.139Z"
   },
   {
    "duration": 214,
    "start_time": "2022-05-31T12:14:56.119Z"
   },
   {
    "duration": 20,
    "start_time": "2022-05-31T12:15:37.330Z"
   },
   {
    "duration": 29,
    "start_time": "2022-05-31T12:16:29.253Z"
   },
   {
    "duration": 21,
    "start_time": "2022-05-31T12:16:43.008Z"
   },
   {
    "duration": 23,
    "start_time": "2022-05-31T12:17:00.261Z"
   },
   {
    "duration": 22,
    "start_time": "2022-05-31T12:17:08.815Z"
   },
   {
    "duration": 22,
    "start_time": "2022-05-31T12:17:14.709Z"
   },
   {
    "duration": 23,
    "start_time": "2022-05-31T12:17:22.845Z"
   },
   {
    "duration": 22,
    "start_time": "2022-05-31T12:17:38.074Z"
   },
   {
    "duration": 278,
    "start_time": "2022-05-31T12:18:46.904Z"
   },
   {
    "duration": 275,
    "start_time": "2022-05-31T12:19:11.696Z"
   },
   {
    "duration": 24,
    "start_time": "2022-05-31T12:19:50.198Z"
   },
   {
    "duration": 9,
    "start_time": "2022-05-31T12:21:11.702Z"
   },
   {
    "duration": 22,
    "start_time": "2022-05-31T12:22:44.906Z"
   },
   {
    "duration": 16,
    "start_time": "2022-05-31T12:22:52.967Z"
   },
   {
    "duration": 22,
    "start_time": "2022-05-31T12:22:59.904Z"
   },
   {
    "duration": 13,
    "start_time": "2022-05-31T12:25:28.250Z"
   },
   {
    "duration": 21,
    "start_time": "2022-05-31T12:26:24.812Z"
   },
   {
    "duration": 22,
    "start_time": "2022-05-31T12:26:36.746Z"
   },
   {
    "duration": 21,
    "start_time": "2022-05-31T12:27:43.356Z"
   },
   {
    "duration": 20,
    "start_time": "2022-05-31T12:27:52.093Z"
   },
   {
    "duration": 25,
    "start_time": "2022-05-31T12:28:51.038Z"
   },
   {
    "duration": 407,
    "start_time": "2022-05-31T12:30:31.101Z"
   },
   {
    "duration": 226,
    "start_time": "2022-05-31T12:30:40.094Z"
   },
   {
    "duration": 10,
    "start_time": "2022-05-31T12:32:31.972Z"
   },
   {
    "duration": 19,
    "start_time": "2022-05-31T12:35:15.750Z"
   },
   {
    "duration": 9,
    "start_time": "2022-05-31T12:35:43.678Z"
   },
   {
    "duration": 8,
    "start_time": "2022-05-31T12:35:50.808Z"
   },
   {
    "duration": 31,
    "start_time": "2022-05-31T12:36:38.211Z"
   },
   {
    "duration": 68,
    "start_time": "2022-05-31T12:39:25.351Z"
   },
   {
    "duration": 4,
    "start_time": "2022-05-31T12:39:39.201Z"
   },
   {
    "duration": 316,
    "start_time": "2022-05-31T12:40:17.089Z"
   },
   {
    "duration": 51,
    "start_time": "2022-06-01T04:38:50.389Z"
   },
   {
    "duration": 804,
    "start_time": "2022-06-01T04:38:55.566Z"
   },
   {
    "duration": 1931,
    "start_time": "2022-06-01T04:38:56.372Z"
   },
   {
    "duration": 423,
    "start_time": "2022-06-01T04:38:58.305Z"
   },
   {
    "duration": 30,
    "start_time": "2022-06-01T04:38:58.730Z"
   },
   {
    "duration": 31,
    "start_time": "2022-06-01T04:38:58.763Z"
   },
   {
    "duration": 29,
    "start_time": "2022-06-01T04:38:58.796Z"
   },
   {
    "duration": 15,
    "start_time": "2022-06-01T04:38:58.826Z"
   },
   {
    "duration": 30,
    "start_time": "2022-06-01T04:38:58.843Z"
   },
   {
    "duration": 14,
    "start_time": "2022-06-01T04:38:58.891Z"
   },
   {
    "duration": 30,
    "start_time": "2022-06-01T04:38:58.907Z"
   },
   {
    "duration": 17,
    "start_time": "2022-06-01T04:38:58.939Z"
   },
   {
    "duration": 50,
    "start_time": "2022-06-01T04:38:58.957Z"
   },
   {
    "duration": 16,
    "start_time": "2022-06-01T04:38:59.009Z"
   },
   {
    "duration": 122,
    "start_time": "2022-06-01T04:38:59.027Z"
   },
   {
    "duration": 15,
    "start_time": "2022-06-01T04:38:59.150Z"
   },
   {
    "duration": 26,
    "start_time": "2022-06-01T04:38:59.167Z"
   },
   {
    "duration": 63,
    "start_time": "2022-06-01T04:38:59.194Z"
   },
   {
    "duration": 3,
    "start_time": "2022-06-01T04:38:59.259Z"
   },
   {
    "duration": 5,
    "start_time": "2022-06-01T04:39:51.307Z"
   },
   {
    "duration": 1623,
    "start_time": "2022-06-01T04:39:51.316Z"
   },
   {
    "duration": 381,
    "start_time": "2022-06-01T04:39:52.941Z"
   },
   {
    "duration": 31,
    "start_time": "2022-06-01T04:39:53.323Z"
   },
   {
    "duration": 17,
    "start_time": "2022-06-01T04:39:53.356Z"
   },
   {
    "duration": 44,
    "start_time": "2022-06-01T04:39:53.374Z"
   },
   {
    "duration": 17,
    "start_time": "2022-06-01T04:39:53.419Z"
   },
   {
    "duration": 33,
    "start_time": "2022-06-01T04:39:53.437Z"
   },
   {
    "duration": 33,
    "start_time": "2022-06-01T04:39:53.471Z"
   },
   {
    "duration": 33,
    "start_time": "2022-06-01T04:39:53.506Z"
   },
   {
    "duration": 15,
    "start_time": "2022-06-01T04:39:53.542Z"
   },
   {
    "duration": 52,
    "start_time": "2022-06-01T04:39:53.559Z"
   },
   {
    "duration": 16,
    "start_time": "2022-06-01T04:39:53.613Z"
   },
   {
    "duration": 122,
    "start_time": "2022-06-01T04:39:53.630Z"
   },
   {
    "duration": 15,
    "start_time": "2022-06-01T04:39:53.754Z"
   },
   {
    "duration": 25,
    "start_time": "2022-06-01T04:39:53.771Z"
   },
   {
    "duration": 68,
    "start_time": "2022-06-01T04:39:53.798Z"
   },
   {
    "duration": 4,
    "start_time": "2022-06-01T04:39:53.868Z"
   },
   {
    "duration": 374,
    "start_time": "2022-06-01T04:39:57.013Z"
   },
   {
    "duration": 139,
    "start_time": "2022-06-01T04:40:27.073Z"
   },
   {
    "duration": 3,
    "start_time": "2022-06-01T04:41:16.474Z"
   },
   {
    "duration": 21,
    "start_time": "2022-06-01T04:41:20.347Z"
   },
   {
    "duration": 9,
    "start_time": "2022-06-01T04:43:22.537Z"
   },
   {
    "duration": 53,
    "start_time": "2022-06-01T04:43:55.559Z"
   },
   {
    "duration": 4,
    "start_time": "2022-06-01T04:43:58.978Z"
   },
   {
    "duration": 304,
    "start_time": "2022-06-01T04:44:03.901Z"
   },
   {
    "duration": 196,
    "start_time": "2022-06-01T04:44:22.796Z"
   },
   {
    "duration": 6,
    "start_time": "2022-06-01T04:46:37.103Z"
   },
   {
    "duration": 29,
    "start_time": "2022-06-01T04:49:05.374Z"
   },
   {
    "duration": 73,
    "start_time": "2022-06-01T04:49:35.492Z"
   },
   {
    "duration": 17,
    "start_time": "2022-06-01T04:49:46.629Z"
   },
   {
    "duration": 18,
    "start_time": "2022-06-01T04:50:08.325Z"
   },
   {
    "duration": 17,
    "start_time": "2022-06-01T04:50:42.723Z"
   },
   {
    "duration": 203,
    "start_time": "2022-06-01T04:56:29.619Z"
   },
   {
    "duration": 8,
    "start_time": "2022-06-01T04:57:27.973Z"
   },
   {
    "duration": 307,
    "start_time": "2022-06-01T04:57:57.097Z"
   },
   {
    "duration": 30,
    "start_time": "2022-06-01T04:59:35.071Z"
   },
   {
    "duration": 13,
    "start_time": "2022-06-01T04:59:45.395Z"
   },
   {
    "duration": 9,
    "start_time": "2022-06-01T05:00:00.697Z"
   },
   {
    "duration": 9,
    "start_time": "2022-06-01T05:00:16.578Z"
   },
   {
    "duration": 10,
    "start_time": "2022-06-01T05:00:23.059Z"
   },
   {
    "duration": 11,
    "start_time": "2022-06-01T05:00:29.958Z"
   },
   {
    "duration": 9,
    "start_time": "2022-06-01T05:00:36.186Z"
   },
   {
    "duration": 11,
    "start_time": "2022-06-01T05:00:43.602Z"
   },
   {
    "duration": 11,
    "start_time": "2022-06-01T05:01:01.550Z"
   },
   {
    "duration": 8,
    "start_time": "2022-06-01T05:01:12.654Z"
   },
   {
    "duration": 49,
    "start_time": "2022-06-01T05:02:38.836Z"
   },
   {
    "duration": 325,
    "start_time": "2022-06-01T05:02:45.505Z"
   },
   {
    "duration": 18,
    "start_time": "2022-06-01T05:03:14.299Z"
   },
   {
    "duration": 30,
    "start_time": "2022-06-01T05:03:39.646Z"
   },
   {
    "duration": 610,
    "start_time": "2022-06-01T05:06:52.416Z"
   },
   {
    "duration": 1886,
    "start_time": "2022-06-01T05:06:53.028Z"
   },
   {
    "duration": 494,
    "start_time": "2022-06-01T05:06:54.916Z"
   },
   {
    "duration": 33,
    "start_time": "2022-06-01T05:06:55.413Z"
   },
   {
    "duration": 17,
    "start_time": "2022-06-01T05:06:55.448Z"
   },
   {
    "duration": 43,
    "start_time": "2022-06-01T05:06:55.467Z"
   },
   {
    "duration": 15,
    "start_time": "2022-06-01T05:06:55.512Z"
   },
   {
    "duration": 36,
    "start_time": "2022-06-01T05:06:55.528Z"
   },
   {
    "duration": 30,
    "start_time": "2022-06-01T05:06:55.565Z"
   },
   {
    "duration": 33,
    "start_time": "2022-06-01T05:06:55.597Z"
   },
   {
    "duration": 16,
    "start_time": "2022-06-01T05:06:55.631Z"
   },
   {
    "duration": 61,
    "start_time": "2022-06-01T05:06:55.649Z"
   },
   {
    "duration": 23,
    "start_time": "2022-06-01T05:06:55.712Z"
   },
   {
    "duration": 117,
    "start_time": "2022-06-01T05:06:55.736Z"
   },
   {
    "duration": 15,
    "start_time": "2022-06-01T05:06:55.854Z"
   },
   {
    "duration": 28,
    "start_time": "2022-06-01T05:06:55.870Z"
   },
   {
    "duration": 66,
    "start_time": "2022-06-01T05:06:55.899Z"
   },
   {
    "duration": 4,
    "start_time": "2022-06-01T05:06:55.967Z"
   },
   {
    "duration": 253,
    "start_time": "2022-06-01T05:06:55.972Z"
   },
   {
    "duration": 312,
    "start_time": "2022-06-01T05:06:56.226Z"
   },
   {
    "duration": 9,
    "start_time": "2022-06-01T05:06:56.539Z"
   },
   {
    "duration": 22,
    "start_time": "2022-06-01T05:07:09.321Z"
   },
   {
    "duration": 8,
    "start_time": "2022-06-01T05:10:03.745Z"
   },
   {
    "duration": 61,
    "start_time": "2022-06-01T05:10:28.269Z"
   },
   {
    "duration": 326,
    "start_time": "2022-06-01T05:12:09.211Z"
   },
   {
    "duration": 13,
    "start_time": "2022-06-01T05:12:41.799Z"
   },
   {
    "duration": 73,
    "start_time": "2022-06-01T05:13:00.913Z"
   },
   {
    "duration": 211,
    "start_time": "2022-06-01T05:13:04.212Z"
   },
   {
    "duration": 19,
    "start_time": "2022-06-01T05:14:36.533Z"
   },
   {
    "duration": 96,
    "start_time": "2022-06-01T05:17:09.356Z"
   },
   {
    "duration": 66,
    "start_time": "2022-06-01T05:17:17.661Z"
   },
   {
    "duration": 11,
    "start_time": "2022-06-01T05:19:12.202Z"
   },
   {
    "duration": 780,
    "start_time": "2022-06-01T05:19:17.350Z"
   },
   {
    "duration": 9650,
    "start_time": "2022-06-01T05:19:21.385Z"
   },
   {
    "duration": 868,
    "start_time": "2022-06-01T05:20:41.070Z"
   },
   {
    "duration": 32,
    "start_time": "2022-06-01T05:25:24.216Z"
   },
   {
    "duration": 9,
    "start_time": "2022-06-01T05:51:26.874Z"
   },
   {
    "duration": 44,
    "start_time": "2022-06-01T05:59:44.425Z"
   },
   {
    "duration": 57,
    "start_time": "2022-06-01T06:04:14.726Z"
   },
   {
    "duration": 33,
    "start_time": "2022-06-01T06:05:02.042Z"
   },
   {
    "duration": 57,
    "start_time": "2022-06-01T06:05:40.712Z"
   },
   {
    "duration": 1073,
    "start_time": "2022-06-01T06:05:54.737Z"
   },
   {
    "duration": 1903,
    "start_time": "2022-06-01T06:05:55.812Z"
   },
   {
    "duration": 479,
    "start_time": "2022-06-01T06:05:57.717Z"
   },
   {
    "duration": 31,
    "start_time": "2022-06-01T06:05:58.198Z"
   },
   {
    "duration": 26,
    "start_time": "2022-06-01T06:05:58.231Z"
   },
   {
    "duration": 63,
    "start_time": "2022-06-01T06:05:58.259Z"
   },
   {
    "duration": 16,
    "start_time": "2022-06-01T06:05:58.324Z"
   },
   {
    "duration": 33,
    "start_time": "2022-06-01T06:05:58.341Z"
   },
   {
    "duration": 40,
    "start_time": "2022-06-01T06:05:58.376Z"
   },
   {
    "duration": 49,
    "start_time": "2022-06-01T06:05:58.419Z"
   },
   {
    "duration": 35,
    "start_time": "2022-06-01T06:05:58.470Z"
   },
   {
    "duration": 30,
    "start_time": "2022-06-01T06:05:58.506Z"
   },
   {
    "duration": 21,
    "start_time": "2022-06-01T06:05:58.538Z"
   },
   {
    "duration": 131,
    "start_time": "2022-06-01T06:05:58.561Z"
   },
   {
    "duration": 19,
    "start_time": "2022-06-01T06:05:58.694Z"
   },
   {
    "duration": 10,
    "start_time": "2022-06-01T06:05:58.714Z"
   },
   {
    "duration": 96,
    "start_time": "2022-06-01T06:05:58.725Z"
   },
   {
    "duration": 3,
    "start_time": "2022-06-01T06:05:58.823Z"
   },
   {
    "duration": 266,
    "start_time": "2022-06-01T06:05:58.828Z"
   },
   {
    "duration": 402,
    "start_time": "2022-06-01T06:05:59.096Z"
   },
   {
    "duration": 14,
    "start_time": "2022-06-01T06:05:59.500Z"
   },
   {
    "duration": 77,
    "start_time": "2022-06-01T06:05:59.515Z"
   },
   {
    "duration": 246,
    "start_time": "2022-06-01T06:05:59.593Z"
   },
   {
    "duration": 21,
    "start_time": "2022-06-01T06:05:59.841Z"
   },
   {
    "duration": 6,
    "start_time": "2022-06-01T06:05:59.864Z"
   },
   {
    "duration": 38,
    "start_time": "2022-06-01T06:05:59.872Z"
   },
   {
    "duration": 19,
    "start_time": "2022-06-01T06:05:59.912Z"
   },
   {
    "duration": 8,
    "start_time": "2022-06-01T06:05:59.933Z"
   },
   {
    "duration": 54,
    "start_time": "2022-06-01T06:05:59.943Z"
   },
   {
    "duration": 39,
    "start_time": "2022-06-01T06:13:45.683Z"
   },
   {
    "duration": 123,
    "start_time": "2022-06-01T06:18:30.503Z"
   },
   {
    "duration": 152,
    "start_time": "2022-06-01T06:18:50.103Z"
   },
   {
    "duration": 749,
    "start_time": "2022-06-01T06:20:24.963Z"
   },
   {
    "duration": 1106,
    "start_time": "2022-06-01T06:21:02.686Z"
   },
   {
    "duration": 2004,
    "start_time": "2022-06-01T06:21:03.794Z"
   },
   {
    "duration": 523,
    "start_time": "2022-06-01T06:21:05.800Z"
   },
   {
    "duration": 36,
    "start_time": "2022-06-01T06:21:06.326Z"
   },
   {
    "duration": 31,
    "start_time": "2022-06-01T06:21:06.364Z"
   },
   {
    "duration": 33,
    "start_time": "2022-06-01T06:21:06.397Z"
   },
   {
    "duration": 21,
    "start_time": "2022-06-01T06:21:06.432Z"
   },
   {
    "duration": 53,
    "start_time": "2022-06-01T06:21:06.455Z"
   },
   {
    "duration": 17,
    "start_time": "2022-06-01T06:21:06.510Z"
   },
   {
    "duration": 37,
    "start_time": "2022-06-01T06:21:06.531Z"
   },
   {
    "duration": 31,
    "start_time": "2022-06-01T06:21:06.570Z"
   },
   {
    "duration": 33,
    "start_time": "2022-06-01T06:21:06.603Z"
   },
   {
    "duration": 26,
    "start_time": "2022-06-01T06:21:06.638Z"
   },
   {
    "duration": 151,
    "start_time": "2022-06-01T06:21:06.666Z"
   },
   {
    "duration": 20,
    "start_time": "2022-06-01T06:21:06.819Z"
   },
   {
    "duration": 11,
    "start_time": "2022-06-01T06:21:06.841Z"
   },
   {
    "duration": 106,
    "start_time": "2022-06-01T06:21:06.853Z"
   },
   {
    "duration": 6,
    "start_time": "2022-06-01T06:21:06.961Z"
   },
   {
    "duration": 276,
    "start_time": "2022-06-01T06:21:06.969Z"
   },
   {
    "duration": 408,
    "start_time": "2022-06-01T06:21:07.247Z"
   },
   {
    "duration": 14,
    "start_time": "2022-06-01T06:21:07.656Z"
   },
   {
    "duration": 121,
    "start_time": "2022-06-01T06:21:07.673Z"
   },
   {
    "duration": 282,
    "start_time": "2022-06-01T06:21:07.796Z"
   },
   {
    "duration": 31,
    "start_time": "2022-06-01T06:21:08.081Z"
   },
   {
    "duration": 8,
    "start_time": "2022-06-01T06:21:08.114Z"
   },
   {
    "duration": 29,
    "start_time": "2022-06-01T06:21:08.124Z"
   },
   {
    "duration": 41,
    "start_time": "2022-06-01T06:21:08.155Z"
   },
   {
    "duration": 12,
    "start_time": "2022-06-01T06:21:08.199Z"
   },
   {
    "duration": 36,
    "start_time": "2022-06-01T06:21:08.212Z"
   },
   {
    "duration": 66,
    "start_time": "2022-06-01T06:21:08.250Z"
   },
   {
    "duration": 199,
    "start_time": "2022-06-01T06:21:08.318Z"
   },
   {
    "duration": 838,
    "start_time": "2022-06-01T06:21:08.520Z"
   },
   {
    "duration": 329,
    "start_time": "2022-06-01T06:21:09.361Z"
   },
   {
    "duration": 235,
    "start_time": "2022-06-01T06:28:58.577Z"
   },
   {
    "duration": 715,
    "start_time": "2022-06-01T06:29:03.108Z"
   },
   {
    "duration": 393,
    "start_time": "2022-06-01T06:31:02.528Z"
   },
   {
    "duration": 1617,
    "start_time": "2022-06-01T06:31:07.702Z"
   },
   {
    "duration": 6,
    "start_time": "2022-06-01T06:31:34.241Z"
   },
   {
    "duration": 5,
    "start_time": "2022-06-01T06:31:43.950Z"
   },
   {
    "duration": 1839,
    "start_time": "2022-06-01T06:31:50.627Z"
   },
   {
    "duration": 1832,
    "start_time": "2022-06-01T06:33:01.617Z"
   },
   {
    "duration": 4,
    "start_time": "2022-06-01T06:34:46.936Z"
   },
   {
    "duration": 1633,
    "start_time": "2022-06-01T06:34:51.147Z"
   },
   {
    "duration": 1949,
    "start_time": "2022-06-01T06:34:59.873Z"
   },
   {
    "duration": 18,
    "start_time": "2022-06-01T06:35:26.639Z"
   },
   {
    "duration": 1246,
    "start_time": "2022-06-01T06:35:52.191Z"
   },
   {
    "duration": 1887,
    "start_time": "2022-06-01T06:35:53.438Z"
   },
   {
    "duration": 484,
    "start_time": "2022-06-01T06:35:55.327Z"
   },
   {
    "duration": 41,
    "start_time": "2022-06-01T06:35:55.814Z"
   },
   {
    "duration": 20,
    "start_time": "2022-06-01T06:35:55.857Z"
   },
   {
    "duration": 66,
    "start_time": "2022-06-01T06:35:55.879Z"
   },
   {
    "duration": 30,
    "start_time": "2022-06-01T06:35:55.949Z"
   },
   {
    "duration": 57,
    "start_time": "2022-06-01T06:35:55.981Z"
   },
   {
    "duration": 32,
    "start_time": "2022-06-01T06:35:56.040Z"
   },
   {
    "duration": 65,
    "start_time": "2022-06-01T06:35:56.076Z"
   },
   {
    "duration": 19,
    "start_time": "2022-06-01T06:35:56.142Z"
   },
   {
    "duration": 70,
    "start_time": "2022-06-01T06:35:56.163Z"
   },
   {
    "duration": 26,
    "start_time": "2022-06-01T06:35:56.235Z"
   },
   {
    "duration": 144,
    "start_time": "2022-06-01T06:35:56.263Z"
   },
   {
    "duration": 18,
    "start_time": "2022-06-01T06:35:56.409Z"
   },
   {
    "duration": 12,
    "start_time": "2022-06-01T06:35:56.429Z"
   },
   {
    "duration": 103,
    "start_time": "2022-06-01T06:35:56.442Z"
   },
   {
    "duration": 5,
    "start_time": "2022-06-01T06:35:56.548Z"
   },
   {
    "duration": 260,
    "start_time": "2022-06-01T06:35:56.555Z"
   },
   {
    "duration": 372,
    "start_time": "2022-06-01T06:35:56.817Z"
   },
   {
    "duration": 14,
    "start_time": "2022-06-01T06:35:57.191Z"
   },
   {
    "duration": 97,
    "start_time": "2022-06-01T06:35:57.207Z"
   },
   {
    "duration": 278,
    "start_time": "2022-06-01T06:35:57.307Z"
   },
   {
    "duration": 24,
    "start_time": "2022-06-01T06:35:57.587Z"
   },
   {
    "duration": 6,
    "start_time": "2022-06-01T06:35:57.613Z"
   },
   {
    "duration": 25,
    "start_time": "2022-06-01T06:35:57.621Z"
   },
   {
    "duration": 46,
    "start_time": "2022-06-01T06:35:57.648Z"
   },
   {
    "duration": 9,
    "start_time": "2022-06-01T06:35:57.698Z"
   },
   {
    "duration": 44,
    "start_time": "2022-06-01T06:35:57.710Z"
   },
   {
    "duration": 89,
    "start_time": "2022-06-01T06:35:57.757Z"
   },
   {
    "duration": 247,
    "start_time": "2022-06-01T06:35:57.849Z"
   },
   {
    "duration": 924,
    "start_time": "2022-06-01T06:35:58.098Z"
   },
   {
    "duration": 883,
    "start_time": "2022-06-01T06:35:59.025Z"
   },
   {
    "duration": 1943,
    "start_time": "2022-06-01T06:35:59.910Z"
   },
   {
    "duration": 1722,
    "start_time": "2022-06-01T06:36:25.388Z"
   },
   {
    "duration": 15,
    "start_time": "2022-06-01T06:39:04.093Z"
   },
   {
    "duration": 1284,
    "start_time": "2022-06-01T06:39:10.667Z"
   },
   {
    "duration": 1802,
    "start_time": "2022-06-01T06:39:11.953Z"
   },
   {
    "duration": 438,
    "start_time": "2022-06-01T06:39:13.757Z"
   },
   {
    "duration": 46,
    "start_time": "2022-06-01T06:39:14.198Z"
   },
   {
    "duration": 28,
    "start_time": "2022-06-01T06:39:14.246Z"
   },
   {
    "duration": 35,
    "start_time": "2022-06-01T06:39:14.292Z"
   },
   {
    "duration": 18,
    "start_time": "2022-06-01T06:39:14.329Z"
   },
   {
    "duration": 47,
    "start_time": "2022-06-01T06:39:14.349Z"
   },
   {
    "duration": 16,
    "start_time": "2022-06-01T06:39:14.398Z"
   },
   {
    "duration": 32,
    "start_time": "2022-06-01T06:39:14.417Z"
   },
   {
    "duration": 17,
    "start_time": "2022-06-01T06:39:14.450Z"
   },
   {
    "duration": 70,
    "start_time": "2022-06-01T06:39:14.469Z"
   },
   {
    "duration": 16,
    "start_time": "2022-06-01T06:39:14.541Z"
   },
   {
    "duration": 135,
    "start_time": "2022-06-01T06:39:14.559Z"
   },
   {
    "duration": 16,
    "start_time": "2022-06-01T06:39:14.695Z"
   },
   {
    "duration": 10,
    "start_time": "2022-06-01T06:39:14.713Z"
   },
   {
    "duration": 91,
    "start_time": "2022-06-01T06:39:14.724Z"
   },
   {
    "duration": 4,
    "start_time": "2022-06-01T06:39:14.817Z"
   },
   {
    "duration": 272,
    "start_time": "2022-06-01T06:39:14.823Z"
   },
   {
    "duration": 348,
    "start_time": "2022-06-01T06:39:15.097Z"
   },
   {
    "duration": 12,
    "start_time": "2022-06-01T06:39:15.447Z"
   },
   {
    "duration": 70,
    "start_time": "2022-06-01T06:39:15.461Z"
   },
   {
    "duration": 241,
    "start_time": "2022-06-01T06:39:15.533Z"
   },
   {
    "duration": 32,
    "start_time": "2022-06-01T06:39:15.776Z"
   },
   {
    "duration": 7,
    "start_time": "2022-06-01T06:39:15.809Z"
   },
   {
    "duration": 19,
    "start_time": "2022-06-01T06:39:15.817Z"
   },
   {
    "duration": 20,
    "start_time": "2022-06-01T06:39:15.838Z"
   },
   {
    "duration": 38,
    "start_time": "2022-06-01T06:39:15.862Z"
   },
   {
    "duration": 22,
    "start_time": "2022-06-01T06:39:15.902Z"
   },
   {
    "duration": 44,
    "start_time": "2022-06-01T06:39:15.926Z"
   },
   {
    "duration": 160,
    "start_time": "2022-06-01T06:39:15.994Z"
   },
   {
    "duration": 798,
    "start_time": "2022-06-01T06:39:16.155Z"
   },
   {
    "duration": 829,
    "start_time": "2022-06-01T06:39:16.955Z"
   },
   {
    "duration": 24212,
    "start_time": "2022-06-01T06:39:17.786Z"
   },
   {
    "duration": 120,
    "start_time": "2022-06-01T10:54:52.584Z"
   },
   {
    "duration": 1238,
    "start_time": "2022-06-01T10:55:19.499Z"
   },
   {
    "duration": 1891,
    "start_time": "2022-06-01T10:55:20.739Z"
   },
   {
    "duration": 511,
    "start_time": "2022-06-01T10:55:22.631Z"
   },
   {
    "duration": 34,
    "start_time": "2022-06-01T10:55:23.145Z"
   },
   {
    "duration": 28,
    "start_time": "2022-06-01T10:55:23.192Z"
   },
   {
    "duration": 42,
    "start_time": "2022-06-01T10:55:23.222Z"
   },
   {
    "duration": 35,
    "start_time": "2022-06-01T10:55:23.265Z"
   },
   {
    "duration": 37,
    "start_time": "2022-06-01T10:55:23.302Z"
   },
   {
    "duration": 18,
    "start_time": "2022-06-01T10:55:23.341Z"
   },
   {
    "duration": 60,
    "start_time": "2022-06-01T10:55:23.362Z"
   },
   {
    "duration": 18,
    "start_time": "2022-06-01T10:55:23.424Z"
   },
   {
    "duration": 52,
    "start_time": "2022-06-01T10:55:23.444Z"
   },
   {
    "duration": 17,
    "start_time": "2022-06-01T10:55:23.498Z"
   },
   {
    "duration": 134,
    "start_time": "2022-06-01T10:55:23.517Z"
   },
   {
    "duration": 21,
    "start_time": "2022-06-01T10:55:23.653Z"
   },
   {
    "duration": 23,
    "start_time": "2022-06-01T10:55:23.676Z"
   },
   {
    "duration": 73,
    "start_time": "2022-06-01T10:55:23.701Z"
   },
   {
    "duration": 17,
    "start_time": "2022-06-01T10:55:23.776Z"
   },
   {
    "duration": 290,
    "start_time": "2022-06-01T10:55:23.794Z"
   },
   {
    "duration": 313,
    "start_time": "2022-06-01T10:55:24.091Z"
   },
   {
    "duration": 14,
    "start_time": "2022-06-01T10:55:24.406Z"
   },
   {
    "duration": 71,
    "start_time": "2022-06-01T10:55:24.421Z"
   },
   {
    "duration": 242,
    "start_time": "2022-06-01T10:55:24.494Z"
   },
   {
    "duration": 20,
    "start_time": "2022-06-01T10:55:24.737Z"
   },
   {
    "duration": 7,
    "start_time": "2022-06-01T10:55:24.759Z"
   },
   {
    "duration": 39,
    "start_time": "2022-06-01T10:55:24.768Z"
   },
   {
    "duration": 17,
    "start_time": "2022-06-01T10:55:24.809Z"
   },
   {
    "duration": 9,
    "start_time": "2022-06-01T10:55:24.830Z"
   },
   {
    "duration": 23,
    "start_time": "2022-06-01T10:55:24.840Z"
   },
   {
    "duration": 62,
    "start_time": "2022-06-01T10:55:24.864Z"
   },
   {
    "duration": 165,
    "start_time": "2022-06-01T10:55:24.927Z"
   },
   {
    "duration": 32,
    "start_time": "2022-06-01T10:55:25.093Z"
   },
   {
    "duration": 767,
    "start_time": "2022-06-01T10:55:25.127Z"
   },
   {
    "duration": 815,
    "start_time": "2022-06-01T10:55:25.896Z"
   },
   {
    "duration": 117,
    "start_time": "2022-06-01T10:55:26.713Z"
   },
   {
    "duration": 0,
    "start_time": "2022-06-01T10:55:26.831Z"
   },
   {
    "duration": 4,
    "start_time": "2022-06-01T10:57:45.565Z"
   },
   {
    "duration": 4,
    "start_time": "2022-06-01T10:57:52.107Z"
   },
   {
    "duration": 13,
    "start_time": "2022-06-01T11:03:12.197Z"
   },
   {
    "duration": 10,
    "start_time": "2022-06-01T11:03:32.314Z"
   },
   {
    "duration": 1215,
    "start_time": "2022-06-01T11:04:00.727Z"
   },
   {
    "duration": 1756,
    "start_time": "2022-06-01T11:04:01.944Z"
   },
   {
    "duration": 467,
    "start_time": "2022-06-01T11:04:03.701Z"
   },
   {
    "duration": 41,
    "start_time": "2022-06-01T11:04:04.169Z"
   },
   {
    "duration": 17,
    "start_time": "2022-06-01T11:04:04.211Z"
   },
   {
    "duration": 30,
    "start_time": "2022-06-01T11:04:04.229Z"
   },
   {
    "duration": 38,
    "start_time": "2022-06-01T11:04:04.261Z"
   },
   {
    "duration": 39,
    "start_time": "2022-06-01T11:04:04.301Z"
   },
   {
    "duration": 17,
    "start_time": "2022-06-01T11:04:04.341Z"
   },
   {
    "duration": 40,
    "start_time": "2022-06-01T11:04:04.360Z"
   },
   {
    "duration": 15,
    "start_time": "2022-06-01T11:04:04.401Z"
   },
   {
    "duration": 31,
    "start_time": "2022-06-01T11:04:04.418Z"
   },
   {
    "duration": 15,
    "start_time": "2022-06-01T11:04:04.451Z"
   },
   {
    "duration": 139,
    "start_time": "2022-06-01T11:04:04.468Z"
   },
   {
    "duration": 20,
    "start_time": "2022-06-01T11:04:04.609Z"
   },
   {
    "duration": 10,
    "start_time": "2022-06-01T11:04:04.634Z"
   },
   {
    "duration": 93,
    "start_time": "2022-06-01T11:04:04.645Z"
   },
   {
    "duration": 4,
    "start_time": "2022-06-01T11:04:04.740Z"
   },
   {
    "duration": 250,
    "start_time": "2022-06-01T11:04:04.745Z"
   },
   {
    "duration": 326,
    "start_time": "2022-06-01T11:04:04.997Z"
   },
   {
    "duration": 12,
    "start_time": "2022-06-01T11:04:05.325Z"
   },
   {
    "duration": 66,
    "start_time": "2022-06-01T11:04:05.339Z"
   },
   {
    "duration": 238,
    "start_time": "2022-06-01T11:04:05.407Z"
   },
   {
    "duration": 19,
    "start_time": "2022-06-01T11:04:05.646Z"
   },
   {
    "duration": 5,
    "start_time": "2022-06-01T11:04:05.666Z"
   },
   {
    "duration": 31,
    "start_time": "2022-06-01T11:04:05.673Z"
   },
   {
    "duration": 17,
    "start_time": "2022-06-01T11:04:05.705Z"
   },
   {
    "duration": 8,
    "start_time": "2022-06-01T11:04:05.726Z"
   },
   {
    "duration": 24,
    "start_time": "2022-06-01T11:04:05.735Z"
   },
   {
    "duration": 67,
    "start_time": "2022-06-01T11:04:05.761Z"
   },
   {
    "duration": 158,
    "start_time": "2022-06-01T11:04:05.830Z"
   },
   {
    "duration": 30,
    "start_time": "2022-06-01T11:04:10.447Z"
   },
   {
    "duration": 30,
    "start_time": "2022-06-01T11:04:17.017Z"
   },
   {
    "duration": 29,
    "start_time": "2022-06-01T11:04:37.663Z"
   },
   {
    "duration": 206,
    "start_time": "2022-06-01T11:05:31.130Z"
   },
   {
    "duration": 29,
    "start_time": "2022-06-01T11:05:57.035Z"
   },
   {
    "duration": 4,
    "start_time": "2022-06-01T11:06:02.940Z"
   },
   {
    "duration": 6,
    "start_time": "2022-06-01T11:06:24.975Z"
   },
   {
    "duration": 6,
    "start_time": "2022-06-01T11:06:34.331Z"
   },
   {
    "duration": 7,
    "start_time": "2022-06-01T11:06:39.348Z"
   },
   {
    "duration": 6,
    "start_time": "2022-06-01T11:07:04.653Z"
   },
   {
    "duration": 1812,
    "start_time": "2022-06-02T11:08:17.062Z"
   },
   {
    "duration": 2762,
    "start_time": "2022-06-02T11:08:48.037Z"
   },
   {
    "duration": 278,
    "start_time": "2022-06-02T11:08:55.689Z"
   },
   {
    "duration": 22,
    "start_time": "2022-06-02T11:10:13.292Z"
   },
   {
    "duration": 2282,
    "start_time": "2022-06-02T11:10:17.945Z"
   },
   {
    "duration": 7,
    "start_time": "2022-06-02T11:10:20.229Z"
   },
   {
    "duration": 2625,
    "start_time": "2022-06-02T11:10:20.238Z"
   },
   {
    "duration": 537,
    "start_time": "2022-06-02T11:10:22.866Z"
   },
   {
    "duration": 33,
    "start_time": "2022-06-02T11:10:23.406Z"
   },
   {
    "duration": 34,
    "start_time": "2022-06-02T11:10:23.441Z"
   },
   {
    "duration": 34,
    "start_time": "2022-06-02T11:10:23.479Z"
   },
   {
    "duration": 21,
    "start_time": "2022-06-02T11:10:23.515Z"
   },
   {
    "duration": 51,
    "start_time": "2022-06-02T11:10:23.539Z"
   },
   {
    "duration": 29,
    "start_time": "2022-06-02T11:10:23.593Z"
   },
   {
    "duration": 51,
    "start_time": "2022-06-02T11:10:23.624Z"
   },
   {
    "duration": 18,
    "start_time": "2022-06-02T11:10:23.677Z"
   },
   {
    "duration": 39,
    "start_time": "2022-06-02T11:10:23.697Z"
   },
   {
    "duration": 41,
    "start_time": "2022-06-02T11:10:23.738Z"
   },
   {
    "duration": 132,
    "start_time": "2022-06-02T11:10:23.782Z"
   },
   {
    "duration": 21,
    "start_time": "2022-06-02T11:10:23.916Z"
   },
   {
    "duration": 19,
    "start_time": "2022-06-02T11:10:23.940Z"
   },
   {
    "duration": 84,
    "start_time": "2022-06-02T11:10:23.975Z"
   },
   {
    "duration": 15,
    "start_time": "2022-06-02T11:10:24.061Z"
   },
   {
    "duration": 300,
    "start_time": "2022-06-02T11:10:24.078Z"
   },
   {
    "duration": 335,
    "start_time": "2022-06-02T11:10:24.381Z"
   },
   {
    "duration": 14,
    "start_time": "2022-06-02T11:10:24.718Z"
   },
   {
    "duration": 72,
    "start_time": "2022-06-02T11:10:24.733Z"
   },
   {
    "duration": 266,
    "start_time": "2022-06-02T11:10:24.807Z"
   },
   {
    "duration": 20,
    "start_time": "2022-06-02T11:10:25.075Z"
   },
   {
    "duration": 7,
    "start_time": "2022-06-02T11:10:25.098Z"
   },
   {
    "duration": 20,
    "start_time": "2022-06-02T11:10:25.106Z"
   },
   {
    "duration": 52,
    "start_time": "2022-06-02T11:10:25.130Z"
   },
   {
    "duration": 10,
    "start_time": "2022-06-02T11:10:25.183Z"
   },
   {
    "duration": 24,
    "start_time": "2022-06-02T11:10:25.194Z"
   },
   {
    "duration": 64,
    "start_time": "2022-06-02T11:10:25.220Z"
   },
   {
    "duration": 167,
    "start_time": "2022-06-02T11:10:25.286Z"
   },
   {
    "duration": 146,
    "start_time": "2022-06-02T11:10:25.455Z"
   },
   {
    "duration": 762,
    "start_time": "2022-06-02T11:10:30.928Z"
   },
   {
    "duration": 796,
    "start_time": "2022-06-02T11:10:52.374Z"
   },
   {
    "duration": 727,
    "start_time": "2022-06-02T11:11:10.324Z"
   },
   {
    "duration": 733,
    "start_time": "2022-06-02T11:12:25.619Z"
   },
   {
    "duration": 745,
    "start_time": "2022-06-02T11:12:43.887Z"
   },
   {
    "duration": 709,
    "start_time": "2022-06-02T11:12:46.862Z"
   },
   {
    "duration": 82,
    "start_time": "2022-06-02T11:22:38.231Z"
   },
   {
    "duration": 147,
    "start_time": "2022-06-02T11:22:51.789Z"
   },
   {
    "duration": 160,
    "start_time": "2022-06-02T11:23:06.129Z"
   },
   {
    "duration": 5,
    "start_time": "2022-06-02T11:23:36.725Z"
   },
   {
    "duration": 16,
    "start_time": "2022-06-02T11:23:56.039Z"
   },
   {
    "duration": 92,
    "start_time": "2022-06-03T04:54:45.404Z"
   },
   {
    "duration": 50,
    "start_time": "2022-06-03T04:54:50.198Z"
   },
   {
    "duration": 1491,
    "start_time": "2022-06-03T04:54:58.143Z"
   },
   {
    "duration": 50,
    "start_time": "2022-06-03T04:55:28.497Z"
   },
   {
    "duration": 13,
    "start_time": "2022-06-03T04:55:32.029Z"
   },
   {
    "duration": 3377,
    "start_time": "2022-06-03T04:56:10.967Z"
   },
   {
    "duration": 73,
    "start_time": "2022-06-03T04:56:14.346Z"
   },
   {
    "duration": 2313,
    "start_time": "2022-06-03T04:56:14.421Z"
   },
   {
    "duration": 473,
    "start_time": "2022-06-03T04:56:16.736Z"
   },
   {
    "duration": 41,
    "start_time": "2022-06-03T04:56:17.210Z"
   },
   {
    "duration": 43,
    "start_time": "2022-06-03T04:56:17.255Z"
   },
   {
    "duration": 61,
    "start_time": "2022-06-03T04:56:17.300Z"
   },
   {
    "duration": 19,
    "start_time": "2022-06-03T04:56:17.363Z"
   },
   {
    "duration": 46,
    "start_time": "2022-06-03T04:56:17.384Z"
   },
   {
    "duration": 16,
    "start_time": "2022-06-03T04:56:17.433Z"
   },
   {
    "duration": 38,
    "start_time": "2022-06-03T04:56:17.451Z"
   },
   {
    "duration": 38,
    "start_time": "2022-06-03T04:56:17.491Z"
   },
   {
    "duration": 45,
    "start_time": "2022-06-03T04:56:17.531Z"
   },
   {
    "duration": 97,
    "start_time": "2022-06-03T04:56:17.578Z"
   },
   {
    "duration": 133,
    "start_time": "2022-06-03T04:56:17.677Z"
   },
   {
    "duration": 24,
    "start_time": "2022-06-03T04:56:17.812Z"
   },
   {
    "duration": 11,
    "start_time": "2022-06-03T04:56:17.838Z"
   },
   {
    "duration": 92,
    "start_time": "2022-06-03T04:56:17.851Z"
   },
   {
    "duration": 4,
    "start_time": "2022-06-03T04:56:17.945Z"
   },
   {
    "duration": 295,
    "start_time": "2022-06-03T04:56:17.951Z"
   },
   {
    "duration": 359,
    "start_time": "2022-06-03T04:56:18.248Z"
   },
   {
    "duration": 19,
    "start_time": "2022-06-03T04:56:18.609Z"
   },
   {
    "duration": 53,
    "start_time": "2022-06-03T04:56:18.630Z"
   },
   {
    "duration": 282,
    "start_time": "2022-06-03T04:56:18.685Z"
   },
   {
    "duration": 18,
    "start_time": "2022-06-03T04:56:18.969Z"
   },
   {
    "duration": 6,
    "start_time": "2022-06-03T04:56:18.989Z"
   },
   {
    "duration": 43,
    "start_time": "2022-06-03T04:56:18.996Z"
   },
   {
    "duration": 18,
    "start_time": "2022-06-03T04:56:19.043Z"
   },
   {
    "duration": 13,
    "start_time": "2022-06-03T04:56:19.062Z"
   },
   {
    "duration": 40,
    "start_time": "2022-06-03T04:56:19.077Z"
   },
   {
    "duration": 41,
    "start_time": "2022-06-03T04:56:19.127Z"
   },
   {
    "duration": 35,
    "start_time": "2022-06-03T04:56:19.169Z"
   },
   {
    "duration": 0,
    "start_time": "2022-06-03T04:56:19.206Z"
   },
   {
    "duration": 0,
    "start_time": "2022-06-03T04:56:19.227Z"
   },
   {
    "duration": 0,
    "start_time": "2022-06-03T04:56:19.229Z"
   },
   {
    "duration": 0,
    "start_time": "2022-06-03T04:56:19.230Z"
   },
   {
    "duration": 4,
    "start_time": "2022-06-03T04:56:35.386Z"
   },
   {
    "duration": 100,
    "start_time": "2022-06-03T04:56:44.939Z"
   },
   {
    "duration": 175,
    "start_time": "2022-06-03T04:56:48.730Z"
   },
   {
    "duration": 184,
    "start_time": "2022-06-03T04:56:53.987Z"
   },
   {
    "duration": 201,
    "start_time": "2022-06-03T04:56:56.720Z"
   },
   {
    "duration": 735,
    "start_time": "2022-06-03T04:57:03.989Z"
   },
   {
    "duration": 4,
    "start_time": "2022-06-03T04:57:09.338Z"
   },
   {
    "duration": 3369,
    "start_time": "2022-06-03T04:58:03.472Z"
   },
   {
    "duration": 49,
    "start_time": "2022-06-03T05:03:16.531Z"
   },
   {
    "duration": 82,
    "start_time": "2022-06-03T05:04:00.945Z"
   },
   {
    "duration": 61683,
    "start_time": "2022-06-03T05:04:17.971Z"
   },
   {
    "duration": 101,
    "start_time": "2022-06-03T05:06:04.334Z"
   },
   {
    "duration": 59444,
    "start_time": "2022-06-03T05:06:17.153Z"
   },
   {
    "duration": 4,
    "start_time": "2022-06-03T05:09:14.480Z"
   },
   {
    "duration": 2698,
    "start_time": "2022-06-03T05:09:47.031Z"
   },
   {
    "duration": 59184,
    "start_time": "2022-06-03T05:10:39.355Z"
   },
   {
    "duration": 1942,
    "start_time": "2022-06-03T05:12:11.583Z"
   },
   {
    "duration": 324607,
    "start_time": "2022-06-03T05:14:23.685Z"
   },
   {
    "duration": 0,
    "start_time": "2022-06-03T05:19:48.294Z"
   },
   {
    "duration": 61550,
    "start_time": "2022-06-03T05:19:53.497Z"
   },
   {
    "duration": 1955,
    "start_time": "2022-06-03T05:21:19.453Z"
   },
   {
    "duration": 759489,
    "start_time": "2022-06-03T05:25:06.874Z"
   },
   {
    "duration": 1475638,
    "start_time": "2022-06-03T05:44:25.339Z"
   },
   {
    "duration": 42,
    "start_time": "2022-06-03T06:09:00.982Z"
   },
   {
    "duration": 7,
    "start_time": "2022-06-03T06:09:08.677Z"
   },
   {
    "duration": 2484578,
    "start_time": "2022-06-03T06:09:34.940Z"
   },
   {
    "duration": 32072,
    "start_time": "2022-06-03T07:44:13.330Z"
   },
   {
    "duration": 134686,
    "start_time": "2022-06-03T07:44:49.029Z"
   },
   {
    "duration": 3508899,
    "start_time": "2022-06-03T07:47:19.653Z"
   },
   {
    "duration": 97717,
    "start_time": "2022-06-03T08:49:45.300Z"
   },
   {
    "duration": 50,
    "start_time": "2022-06-03T11:40:24.631Z"
   },
   {
    "duration": 13,
    "start_time": "2022-06-03T11:40:36.435Z"
   },
   {
    "duration": 5,
    "start_time": "2022-06-03T11:40:55.916Z"
   },
   {
    "duration": 375639,
    "start_time": "2022-06-03T11:40:59.500Z"
   },
   {
    "duration": 375470,
    "start_time": "2022-06-03T11:48:27.358Z"
   },
   {
    "duration": 45,
    "start_time": "2022-06-03T12:08:26.725Z"
   },
   {
    "duration": 13,
    "start_time": "2022-06-03T12:08:35.623Z"
   },
   {
    "duration": 11,
    "start_time": "2022-06-03T12:08:52.455Z"
   },
   {
    "duration": 56,
    "start_time": "2022-06-03T12:09:52.186Z"
   },
   {
    "duration": 12,
    "start_time": "2022-06-03T12:09:55.607Z"
   },
   {
    "duration": 3376,
    "start_time": "2022-06-05T10:32:03.498Z"
   },
   {
    "duration": 1728,
    "start_time": "2022-06-05T10:32:06.877Z"
   },
   {
    "duration": 2351,
    "start_time": "2022-06-05T10:32:08.606Z"
   },
   {
    "duration": 522,
    "start_time": "2022-06-05T10:32:10.959Z"
   },
   {
    "duration": 58,
    "start_time": "2022-06-05T10:32:11.483Z"
   },
   {
    "duration": 20,
    "start_time": "2022-06-05T10:32:11.542Z"
   },
   {
    "duration": 34,
    "start_time": "2022-06-05T10:32:11.563Z"
   },
   {
    "duration": 17,
    "start_time": "2022-06-05T10:32:11.599Z"
   },
   {
    "duration": 52,
    "start_time": "2022-06-05T10:32:11.618Z"
   },
   {
    "duration": 21,
    "start_time": "2022-06-05T10:32:11.674Z"
   },
   {
    "duration": 53,
    "start_time": "2022-06-05T10:32:11.697Z"
   },
   {
    "duration": 16,
    "start_time": "2022-06-05T10:32:11.752Z"
   },
   {
    "duration": 44,
    "start_time": "2022-06-05T10:32:11.770Z"
   },
   {
    "duration": 37,
    "start_time": "2022-06-05T10:32:11.816Z"
   },
   {
    "duration": 149,
    "start_time": "2022-06-05T10:32:11.854Z"
   },
   {
    "duration": 40,
    "start_time": "2022-06-05T10:32:12.005Z"
   },
   {
    "duration": 13,
    "start_time": "2022-06-05T10:32:12.047Z"
   },
   {
    "duration": 99,
    "start_time": "2022-06-05T10:32:12.062Z"
   },
   {
    "duration": 4,
    "start_time": "2022-06-05T10:32:12.164Z"
   },
   {
    "duration": 307,
    "start_time": "2022-06-05T10:32:12.170Z"
   },
   {
    "duration": 383,
    "start_time": "2022-06-05T10:32:12.478Z"
   },
   {
    "duration": 13,
    "start_time": "2022-06-05T10:32:12.863Z"
   },
   {
    "duration": 75,
    "start_time": "2022-06-05T10:32:12.877Z"
   },
   {
    "duration": 258,
    "start_time": "2022-06-05T10:32:12.954Z"
   },
   {
    "duration": 32,
    "start_time": "2022-06-05T10:32:13.214Z"
   },
   {
    "duration": 6,
    "start_time": "2022-06-05T10:32:13.247Z"
   },
   {
    "duration": 49,
    "start_time": "2022-06-05T10:32:13.254Z"
   },
   {
    "duration": 18,
    "start_time": "2022-06-05T10:32:13.307Z"
   },
   {
    "duration": 38,
    "start_time": "2022-06-05T10:32:13.327Z"
   },
   {
    "duration": 34,
    "start_time": "2022-06-05T10:32:13.367Z"
   },
   {
    "duration": 65,
    "start_time": "2022-06-05T10:32:13.402Z"
   },
   {
    "duration": 97,
    "start_time": "2022-06-05T10:32:13.469Z"
   },
   {
    "duration": 189,
    "start_time": "2022-06-05T10:32:13.567Z"
   },
   {
    "duration": 194,
    "start_time": "2022-06-05T10:32:13.757Z"
   },
   {
    "duration": 184,
    "start_time": "2022-06-05T10:32:13.953Z"
   },
   {
    "duration": 744,
    "start_time": "2022-06-05T10:32:14.146Z"
   },
   {
    "duration": 4,
    "start_time": "2022-06-05T10:32:14.892Z"
   },
   {
    "duration": 154,
    "start_time": "2022-06-05T10:32:14.897Z"
   },
   {
    "duration": 6801,
    "start_time": "2022-06-05T10:32:15.053Z"
   },
   {
    "duration": 1740,
    "start_time": "2022-06-05T10:32:21.856Z"
   },
   {
    "duration": 3521525,
    "start_time": "2022-06-05T10:32:23.598Z"
   },
   {
    "duration": 107112,
    "start_time": "2022-06-05T11:31:05.125Z"
   },
   {
    "duration": 91,
    "start_time": "2022-06-05T11:32:52.242Z"
   },
   {
    "duration": 86,
    "start_time": "2022-06-05T11:32:52.342Z"
   },
   {
    "duration": 2952,
    "start_time": "2022-06-07T04:56:49.787Z"
   },
   {
    "duration": 1639,
    "start_time": "2022-06-07T04:56:52.741Z"
   },
   {
    "duration": 4070,
    "start_time": "2022-06-07T04:56:54.384Z"
   },
   {
    "duration": 504,
    "start_time": "2022-06-07T04:56:58.456Z"
   },
   {
    "duration": 31,
    "start_time": "2022-06-07T04:56:58.961Z"
   },
   {
    "duration": 20,
    "start_time": "2022-06-07T04:56:58.994Z"
   },
   {
    "duration": 51,
    "start_time": "2022-06-07T04:56:59.015Z"
   },
   {
    "duration": 18,
    "start_time": "2022-06-07T04:56:59.068Z"
   },
   {
    "duration": 65,
    "start_time": "2022-06-07T04:56:59.088Z"
   },
   {
    "duration": 19,
    "start_time": "2022-06-07T04:56:59.156Z"
   },
   {
    "duration": 36,
    "start_time": "2022-06-07T04:56:59.177Z"
   },
   {
    "duration": 19,
    "start_time": "2022-06-07T04:56:59.229Z"
   },
   {
    "duration": 36,
    "start_time": "2022-06-07T04:56:59.249Z"
   },
   {
    "duration": 22,
    "start_time": "2022-06-07T04:56:59.287Z"
   },
   {
    "duration": 121,
    "start_time": "2022-06-07T04:56:59.329Z"
   },
   {
    "duration": 17,
    "start_time": "2022-06-07T04:56:59.452Z"
   },
   {
    "duration": 10,
    "start_time": "2022-06-07T04:56:59.471Z"
   },
   {
    "duration": 109,
    "start_time": "2022-06-07T04:56:59.483Z"
   },
   {
    "duration": 4,
    "start_time": "2022-06-07T04:56:59.593Z"
   },
   {
    "duration": 280,
    "start_time": "2022-06-07T04:56:59.598Z"
   },
   {
    "duration": 350,
    "start_time": "2022-06-07T04:56:59.879Z"
   },
   {
    "duration": 15,
    "start_time": "2022-06-07T04:57:00.230Z"
   },
   {
    "duration": 61,
    "start_time": "2022-06-07T04:57:00.246Z"
   },
   {
    "duration": 318,
    "start_time": "2022-06-07T04:57:00.309Z"
   },
   {
    "duration": 22,
    "start_time": "2022-06-07T04:57:00.629Z"
   },
   {
    "duration": 6,
    "start_time": "2022-06-07T04:57:00.653Z"
   },
   {
    "duration": 33,
    "start_time": "2022-06-07T04:57:00.661Z"
   },
   {
    "duration": 39,
    "start_time": "2022-06-07T04:57:00.698Z"
   },
   {
    "duration": 10,
    "start_time": "2022-06-07T04:57:00.739Z"
   },
   {
    "duration": 40,
    "start_time": "2022-06-07T04:57:00.751Z"
   },
   {
    "duration": 55,
    "start_time": "2022-06-07T04:57:00.793Z"
   },
   {
    "duration": 113,
    "start_time": "2022-06-07T04:57:00.850Z"
   },
   {
    "duration": 208,
    "start_time": "2022-06-07T04:57:00.965Z"
   },
   {
    "duration": 183,
    "start_time": "2022-06-07T04:57:01.175Z"
   },
   {
    "duration": 193,
    "start_time": "2022-06-07T04:57:01.360Z"
   },
   {
    "duration": 784,
    "start_time": "2022-06-07T04:57:01.555Z"
   },
   {
    "duration": 4,
    "start_time": "2022-06-07T04:57:02.341Z"
   },
   {
    "duration": 182,
    "start_time": "2022-06-07T04:57:02.347Z"
   },
   {
    "duration": 3,
    "start_time": "2022-06-07T04:57:02.530Z"
   },
   {
    "duration": 2369,
    "start_time": "2022-06-07T04:57:02.534Z"
   },
   {
    "duration": 3,
    "start_time": "2022-06-07T04:57:04.905Z"
   },
   {
    "duration": 95429,
    "start_time": "2022-06-07T04:57:04.910Z"
   },
   {
    "duration": 71,
    "start_time": "2022-06-07T04:58:40.341Z"
   },
   {
    "duration": 60,
    "start_time": "2022-06-07T04:58:47.831Z"
   },
   {
    "duration": 71,
    "start_time": "2022-06-07T04:59:02.768Z"
   },
   {
    "duration": 66,
    "start_time": "2022-06-07T04:59:06.207Z"
   },
   {
    "duration": 50,
    "start_time": "2022-06-07T05:00:52.447Z"
   },
   {
    "duration": 18,
    "start_time": "2022-06-07T05:01:32.775Z"
   },
   {
    "duration": 80,
    "start_time": "2022-06-07T05:02:19.621Z"
   },
   {
    "duration": 13,
    "start_time": "2022-06-07T05:02:34.457Z"
   },
   {
    "duration": 11,
    "start_time": "2022-06-07T05:02:42.976Z"
   },
   {
    "duration": 43,
    "start_time": "2022-06-07T05:05:56.868Z"
   },
   {
    "duration": 24,
    "start_time": "2022-06-07T05:06:05.018Z"
   },
   {
    "duration": 36,
    "start_time": "2022-06-07T05:11:52.161Z"
   },
   {
    "duration": 31,
    "start_time": "2022-06-07T05:12:03.578Z"
   },
   {
    "duration": 27,
    "start_time": "2022-06-07T05:12:18.799Z"
   },
   {
    "duration": 23,
    "start_time": "2022-06-07T05:12:49.016Z"
   },
   {
    "duration": 23,
    "start_time": "2022-06-07T05:13:18.587Z"
   },
   {
    "duration": 12,
    "start_time": "2022-06-07T05:37:01.159Z"
   },
   {
    "duration": 24,
    "start_time": "2022-06-07T05:37:05.531Z"
   },
   {
    "duration": 2436,
    "start_time": "2022-06-07T05:56:20.723Z"
   },
   {
    "duration": 13,
    "start_time": "2022-06-07T05:56:23.161Z"
   },
   {
    "duration": 2033,
    "start_time": "2022-06-07T05:56:23.176Z"
   },
   {
    "duration": 520,
    "start_time": "2022-06-07T05:56:25.212Z"
   },
   {
    "duration": 36,
    "start_time": "2022-06-07T05:56:25.734Z"
   },
   {
    "duration": 29,
    "start_time": "2022-06-07T05:56:25.771Z"
   },
   {
    "duration": 58,
    "start_time": "2022-06-07T05:56:25.802Z"
   },
   {
    "duration": 24,
    "start_time": "2022-06-07T05:56:25.862Z"
   },
   {
    "duration": 50,
    "start_time": "2022-06-07T05:56:25.888Z"
   },
   {
    "duration": 23,
    "start_time": "2022-06-07T05:56:25.941Z"
   },
   {
    "duration": 43,
    "start_time": "2022-06-07T05:56:25.966Z"
   },
   {
    "duration": 24,
    "start_time": "2022-06-07T05:56:26.011Z"
   },
   {
    "duration": 41,
    "start_time": "2022-06-07T05:56:26.037Z"
   },
   {
    "duration": 30,
    "start_time": "2022-06-07T05:56:26.080Z"
   },
   {
    "duration": 143,
    "start_time": "2022-06-07T05:56:26.112Z"
   },
   {
    "duration": 18,
    "start_time": "2022-06-07T05:56:26.257Z"
   },
   {
    "duration": 13,
    "start_time": "2022-06-07T05:56:26.277Z"
   },
   {
    "duration": 85,
    "start_time": "2022-06-07T05:56:26.292Z"
   },
   {
    "duration": 4,
    "start_time": "2022-06-07T05:56:26.379Z"
   },
   {
    "duration": 297,
    "start_time": "2022-06-07T05:56:26.385Z"
   },
   {
    "duration": 382,
    "start_time": "2022-06-07T05:56:26.684Z"
   },
   {
    "duration": 14,
    "start_time": "2022-06-07T05:56:27.068Z"
   },
   {
    "duration": 67,
    "start_time": "2022-06-07T05:56:27.083Z"
   },
   {
    "duration": 486,
    "start_time": "2022-06-07T05:56:27.152Z"
   },
   {
    "duration": 21,
    "start_time": "2022-06-07T05:56:27.641Z"
   },
   {
    "duration": 9,
    "start_time": "2022-06-07T05:56:27.664Z"
   },
   {
    "duration": 28,
    "start_time": "2022-06-07T05:56:27.675Z"
   },
   {
    "duration": 20,
    "start_time": "2022-06-07T05:56:27.728Z"
   },
   {
    "duration": 9,
    "start_time": "2022-06-07T05:56:27.750Z"
   },
   {
    "duration": 28,
    "start_time": "2022-06-07T05:56:27.761Z"
   },
   {
    "duration": 91,
    "start_time": "2022-06-07T05:56:27.791Z"
   },
   {
    "duration": 122,
    "start_time": "2022-06-07T05:56:27.884Z"
   },
   {
    "duration": 171,
    "start_time": "2022-06-07T05:56:28.009Z"
   },
   {
    "duration": 192,
    "start_time": "2022-06-07T05:56:28.182Z"
   },
   {
    "duration": 156,
    "start_time": "2022-06-07T05:56:28.377Z"
   },
   {
    "duration": 691,
    "start_time": "2022-06-07T05:56:28.536Z"
   },
   {
    "duration": 3,
    "start_time": "2022-06-07T05:56:29.229Z"
   },
   {
    "duration": 47,
    "start_time": "2022-06-07T05:56:29.234Z"
   },
   {
    "duration": 3,
    "start_time": "2022-06-07T05:56:29.282Z"
   },
   {
    "duration": 2229,
    "start_time": "2022-06-07T05:56:29.286Z"
   },
   {
    "duration": 3,
    "start_time": "2022-06-07T05:56:31.517Z"
   },
   {
    "duration": 112161,
    "start_time": "2022-06-07T05:56:31.521Z"
   },
   {
    "duration": 32,
    "start_time": "2022-06-07T05:58:23.683Z"
   },
   {
    "duration": 88,
    "start_time": "2022-06-07T05:58:23.717Z"
   },
   {
    "duration": 72,
    "start_time": "2022-06-07T06:00:45.750Z"
   },
   {
    "duration": 45,
    "start_time": "2022-06-07T06:00:48.317Z"
   },
   {
    "duration": 80,
    "start_time": "2022-06-07T06:00:57.224Z"
   },
   {
    "duration": 155,
    "start_time": "2022-06-07T06:02:04.445Z"
   },
   {
    "duration": 125,
    "start_time": "2022-06-07T06:10:34.734Z"
   },
   {
    "duration": 13,
    "start_time": "2022-06-07T06:26:23.381Z"
   },
   {
    "duration": 139,
    "start_time": "2022-06-07T06:26:37.781Z"
   },
   {
    "duration": 71,
    "start_time": "2022-06-07T06:26:41.063Z"
   },
   {
    "duration": 381443,
    "start_time": "2022-06-07T06:26:43.605Z"
   },
   {
    "duration": 530068,
    "start_time": "2022-06-07T06:34:25.892Z"
   },
   {
    "duration": 108058,
    "start_time": "2022-06-07T06:47:03.497Z"
   },
   {
    "duration": 202407,
    "start_time": "2022-06-07T06:49:53.640Z"
   },
   {
    "duration": 19836,
    "start_time": "2022-06-07T07:36:59.019Z"
   },
   {
    "duration": 3064,
    "start_time": "2022-06-08T05:31:07.481Z"
   },
   {
    "duration": 1709,
    "start_time": "2022-06-08T05:31:10.547Z"
   },
   {
    "duration": 2359,
    "start_time": "2022-06-08T05:31:12.258Z"
   },
   {
    "duration": 492,
    "start_time": "2022-06-08T05:31:14.623Z"
   },
   {
    "duration": 34,
    "start_time": "2022-06-08T05:31:15.117Z"
   },
   {
    "duration": 17,
    "start_time": "2022-06-08T05:31:15.153Z"
   },
   {
    "duration": 30,
    "start_time": "2022-06-08T05:31:15.172Z"
   },
   {
    "duration": 17,
    "start_time": "2022-06-08T05:31:15.226Z"
   },
   {
    "duration": 37,
    "start_time": "2022-06-08T05:31:15.244Z"
   },
   {
    "duration": 16,
    "start_time": "2022-06-08T05:31:15.284Z"
   },
   {
    "duration": 52,
    "start_time": "2022-06-08T05:31:15.301Z"
   },
   {
    "duration": 21,
    "start_time": "2022-06-08T05:31:15.355Z"
   },
   {
    "duration": 37,
    "start_time": "2022-06-08T05:31:15.378Z"
   },
   {
    "duration": 20,
    "start_time": "2022-06-08T05:31:15.424Z"
   },
   {
    "duration": 133,
    "start_time": "2022-06-08T05:31:15.446Z"
   },
   {
    "duration": 16,
    "start_time": "2022-06-08T05:31:15.581Z"
   },
   {
    "duration": 25,
    "start_time": "2022-06-08T05:31:15.598Z"
   },
   {
    "duration": 74,
    "start_time": "2022-06-08T05:31:15.625Z"
   },
   {
    "duration": 4,
    "start_time": "2022-06-08T05:31:15.700Z"
   },
   {
    "duration": 292,
    "start_time": "2022-06-08T05:31:15.705Z"
   },
   {
    "duration": 333,
    "start_time": "2022-06-08T05:31:15.999Z"
   },
   {
    "duration": 14,
    "start_time": "2022-06-08T05:31:16.334Z"
   },
   {
    "duration": 77,
    "start_time": "2022-06-08T05:31:16.349Z"
   },
   {
    "duration": 257,
    "start_time": "2022-06-08T05:31:16.429Z"
   },
   {
    "duration": 17,
    "start_time": "2022-06-08T05:31:16.687Z"
   },
   {
    "duration": 18,
    "start_time": "2022-06-08T05:31:16.706Z"
   },
   {
    "duration": 16,
    "start_time": "2022-06-08T05:31:16.725Z"
   },
   {
    "duration": 17,
    "start_time": "2022-06-08T05:31:16.744Z"
   },
   {
    "duration": 10,
    "start_time": "2022-06-08T05:31:16.764Z"
   },
   {
    "duration": 54,
    "start_time": "2022-06-08T05:31:16.775Z"
   },
   {
    "duration": 44,
    "start_time": "2022-06-08T05:31:16.831Z"
   },
   {
    "duration": 15,
    "start_time": "2022-06-08T05:31:16.877Z"
   },
   {
    "duration": 100,
    "start_time": "2022-06-08T05:31:16.894Z"
   },
   {
    "duration": 174,
    "start_time": "2022-06-08T05:31:16.996Z"
   },
   {
    "duration": 175,
    "start_time": "2022-06-08T05:31:17.172Z"
   },
   {
    "duration": 149,
    "start_time": "2022-06-08T05:31:17.349Z"
   },
   {
    "duration": 710,
    "start_time": "2022-06-08T05:31:17.500Z"
   },
   {
    "duration": 3,
    "start_time": "2022-06-08T05:31:18.211Z"
   },
   {
    "duration": 2229,
    "start_time": "2022-06-08T05:31:18.216Z"
   },
   {
    "duration": 3,
    "start_time": "2022-06-08T05:31:20.447Z"
   },
   {
    "duration": 1937,
    "start_time": "2022-06-08T05:31:20.451Z"
   },
   {
    "duration": 2,
    "start_time": "2022-06-08T05:31:22.390Z"
   },
   {
    "duration": 89265,
    "start_time": "2022-06-08T05:31:22.394Z"
   },
   {
    "duration": 136,
    "start_time": "2022-06-08T05:32:51.660Z"
   },
   {
    "duration": 11,
    "start_time": "2022-06-08T05:35:29.266Z"
   },
   {
    "duration": 41,
    "start_time": "2022-06-08T05:35:31.441Z"
   },
   {
    "duration": 31,
    "start_time": "2022-06-08T05:36:35.041Z"
   },
   {
    "duration": 133,
    "start_time": "2022-06-08T05:36:54.205Z"
   },
   {
    "duration": 15,
    "start_time": "2022-06-08T05:37:14.695Z"
   },
   {
    "duration": 10,
    "start_time": "2022-06-08T05:37:36.676Z"
   },
   {
    "duration": 9,
    "start_time": "2022-06-08T05:37:55.336Z"
   },
   {
    "duration": 7,
    "start_time": "2022-06-08T06:14:00.442Z"
   },
   {
    "duration": 1154,
    "start_time": "2022-06-08T06:14:40.284Z"
   },
   {
    "duration": 1306,
    "start_time": "2022-06-08T06:22:29.179Z"
   },
   {
    "duration": 8,
    "start_time": "2022-06-08T06:23:42.604Z"
   },
   {
    "duration": 8,
    "start_time": "2022-06-08T06:23:53.507Z"
   },
   {
    "duration": 1189,
    "start_time": "2022-06-08T06:23:56.460Z"
   },
   {
    "duration": 5,
    "start_time": "2022-06-08T06:24:37.856Z"
   },
   {
    "duration": 6,
    "start_time": "2022-06-08T06:27:14.572Z"
   },
   {
    "duration": 1339,
    "start_time": "2022-06-08T06:27:19.259Z"
   },
   {
    "duration": 6,
    "start_time": "2022-06-08T06:31:40.313Z"
   },
   {
    "duration": 113849,
    "start_time": "2022-06-08T06:31:49.803Z"
   },
   {
    "duration": 0,
    "start_time": "2022-06-08T06:33:43.654Z"
   },
   {
    "duration": 989656,
    "start_time": "2022-06-08T06:49:53.818Z"
   },
   {
    "duration": 7,
    "start_time": "2022-06-08T08:36:46.919Z"
   },
   {
    "duration": 8,
    "start_time": "2022-06-08T08:38:01.869Z"
   },
   {
    "duration": 36,
    "start_time": "2022-06-08T08:38:29.464Z"
   },
   {
    "duration": 37,
    "start_time": "2022-06-08T08:38:38.827Z"
   },
   {
    "duration": 7,
    "start_time": "2022-06-08T08:39:06.057Z"
   },
   {
    "duration": 44,
    "start_time": "2022-06-08T08:39:12.544Z"
   },
   {
    "duration": 47,
    "start_time": "2022-06-08T08:39:47.032Z"
   },
   {
    "duration": 45,
    "start_time": "2022-06-08T08:40:03.747Z"
   },
   {
    "duration": 8,
    "start_time": "2022-06-08T08:40:28.272Z"
   },
   {
    "duration": 47,
    "start_time": "2022-06-08T08:40:33.175Z"
   },
   {
    "duration": 8,
    "start_time": "2022-06-08T08:40:52.388Z"
   },
   {
    "duration": 43,
    "start_time": "2022-06-08T08:40:57.913Z"
   },
   {
    "duration": 5,
    "start_time": "2022-06-08T08:41:28.384Z"
   },
   {
    "duration": 36,
    "start_time": "2022-06-08T08:41:31.389Z"
   },
   {
    "duration": 7,
    "start_time": "2022-06-08T08:42:03.947Z"
   },
   {
    "duration": 38,
    "start_time": "2022-06-08T08:42:07.227Z"
   },
   {
    "duration": 9,
    "start_time": "2022-06-08T08:45:02.443Z"
   },
   {
    "duration": 237630,
    "start_time": "2022-06-08T08:59:50.247Z"
   },
   {
    "duration": 4,
    "start_time": "2022-06-08T09:03:47.879Z"
   },
   {
    "duration": 50,
    "start_time": "2022-06-08T09:03:47.886Z"
   },
   {
    "duration": 116,
    "start_time": "2022-06-08T09:09:24.177Z"
   },
   {
    "duration": 132,
    "start_time": "2022-06-08T09:09:41.848Z"
   },
   {
    "duration": 2790,
    "start_time": "2022-06-10T04:02:07.878Z"
   },
   {
    "duration": 1615,
    "start_time": "2022-06-10T04:02:10.671Z"
   },
   {
    "duration": 2349,
    "start_time": "2022-06-10T04:02:12.288Z"
   },
   {
    "duration": 553,
    "start_time": "2022-06-10T04:02:14.640Z"
   },
   {
    "duration": 34,
    "start_time": "2022-06-10T04:02:15.195Z"
   },
   {
    "duration": 20,
    "start_time": "2022-06-10T04:02:15.231Z"
   },
   {
    "duration": 41,
    "start_time": "2022-06-10T04:02:15.265Z"
   },
   {
    "duration": 18,
    "start_time": "2022-06-10T04:02:15.308Z"
   },
   {
    "duration": 62,
    "start_time": "2022-06-10T04:02:15.327Z"
   },
   {
    "duration": 18,
    "start_time": "2022-06-10T04:02:15.391Z"
   },
   {
    "duration": 37,
    "start_time": "2022-06-10T04:02:15.410Z"
   },
   {
    "duration": 40,
    "start_time": "2022-06-10T04:02:15.449Z"
   },
   {
    "duration": 37,
    "start_time": "2022-06-10T04:02:15.490Z"
   },
   {
    "duration": 39,
    "start_time": "2022-06-10T04:02:15.528Z"
   },
   {
    "duration": 151,
    "start_time": "2022-06-10T04:02:15.569Z"
   },
   {
    "duration": 16,
    "start_time": "2022-06-10T04:02:15.721Z"
   },
   {
    "duration": 99,
    "start_time": "2022-06-10T04:02:43.799Z"
   },
   {
    "duration": 81,
    "start_time": "2022-06-10T04:05:11.664Z"
   },
   {
    "duration": 2095,
    "start_time": "2022-06-10T04:05:51.463Z"
   },
   {
    "duration": 1462,
    "start_time": "2022-06-10T04:05:53.560Z"
   },
   {
    "duration": 1989,
    "start_time": "2022-06-10T04:05:55.024Z"
   },
   {
    "duration": 489,
    "start_time": "2022-06-10T04:05:57.015Z"
   },
   {
    "duration": 34,
    "start_time": "2022-06-10T04:05:57.506Z"
   },
   {
    "duration": 37,
    "start_time": "2022-06-10T04:05:57.541Z"
   },
   {
    "duration": 36,
    "start_time": "2022-06-10T04:05:57.581Z"
   },
   {
    "duration": 17,
    "start_time": "2022-06-10T04:05:57.619Z"
   },
   {
    "duration": 55,
    "start_time": "2022-06-10T04:05:57.638Z"
   },
   {
    "duration": 18,
    "start_time": "2022-06-10T04:05:57.696Z"
   },
   {
    "duration": 51,
    "start_time": "2022-06-10T04:05:57.715Z"
   },
   {
    "duration": 24,
    "start_time": "2022-06-10T04:05:57.768Z"
   },
   {
    "duration": 40,
    "start_time": "2022-06-10T04:05:57.794Z"
   },
   {
    "duration": 37,
    "start_time": "2022-06-10T04:05:57.836Z"
   },
   {
    "duration": 136,
    "start_time": "2022-06-10T04:05:57.874Z"
   },
   {
    "duration": 17,
    "start_time": "2022-06-10T04:05:58.012Z"
   },
   {
    "duration": 77,
    "start_time": "2022-06-10T04:06:01.478Z"
   },
   {
    "duration": 273,
    "start_time": "2022-06-10T04:16:25.018Z"
   },
   {
    "duration": 84,
    "start_time": "2022-06-10T04:19:11.258Z"
   },
   {
    "duration": 43,
    "start_time": "2022-06-10T04:19:52.251Z"
   },
   {
    "duration": 184,
    "start_time": "2022-06-10T04:20:48.152Z"
   },
   {
    "duration": 66,
    "start_time": "2022-06-10T04:21:11.376Z"
   },
   {
    "duration": 51,
    "start_time": "2022-06-10T04:22:20.441Z"
   },
   {
    "duration": 106,
    "start_time": "2022-06-10T04:23:55.236Z"
   },
   {
    "duration": 17,
    "start_time": "2022-06-10T04:24:09.532Z"
   },
   {
    "duration": 2210,
    "start_time": "2022-06-10T04:31:11.980Z"
   },
   {
    "duration": 1470,
    "start_time": "2022-06-10T04:31:14.192Z"
   },
   {
    "duration": 2219,
    "start_time": "2022-06-10T04:31:15.663Z"
   },
   {
    "duration": 557,
    "start_time": "2022-06-10T04:31:17.886Z"
   },
   {
    "duration": 52,
    "start_time": "2022-06-10T04:31:18.444Z"
   },
   {
    "duration": 19,
    "start_time": "2022-06-10T04:31:18.497Z"
   },
   {
    "duration": 54,
    "start_time": "2022-06-10T04:31:18.518Z"
   },
   {
    "duration": 26,
    "start_time": "2022-06-10T04:31:18.581Z"
   },
   {
    "duration": 40,
    "start_time": "2022-06-10T04:31:18.609Z"
   },
   {
    "duration": 37,
    "start_time": "2022-06-10T04:31:18.652Z"
   },
   {
    "duration": 36,
    "start_time": "2022-06-10T04:31:18.691Z"
   },
   {
    "duration": 19,
    "start_time": "2022-06-10T04:31:18.729Z"
   },
   {
    "duration": 46,
    "start_time": "2022-06-10T04:31:18.764Z"
   },
   {
    "duration": 20,
    "start_time": "2022-06-10T04:31:18.811Z"
   },
   {
    "duration": 192,
    "start_time": "2022-06-10T04:31:18.833Z"
   },
   {
    "duration": 19,
    "start_time": "2022-06-10T04:31:19.028Z"
   },
   {
    "duration": 125,
    "start_time": "2022-06-10T04:31:19.049Z"
   },
   {
    "duration": 13,
    "start_time": "2022-06-10T04:31:19.180Z"
   },
   {
    "duration": 0,
    "start_time": "2022-06-10T04:31:19.195Z"
   },
   {
    "duration": 0,
    "start_time": "2022-06-10T04:31:19.196Z"
   },
   {
    "duration": 239,
    "start_time": "2022-06-10T04:32:12.399Z"
   },
   {
    "duration": 141,
    "start_time": "2022-06-10T04:42:44.476Z"
   },
   {
    "duration": 9,
    "start_time": "2022-06-10T04:42:59.199Z"
   },
   {
    "duration": 77,
    "start_time": "2022-06-10T04:43:07.374Z"
   },
   {
    "duration": 2272,
    "start_time": "2022-06-10T04:44:00.978Z"
   },
   {
    "duration": 1455,
    "start_time": "2022-06-10T04:44:03.252Z"
   },
   {
    "duration": 2142,
    "start_time": "2022-06-10T04:44:04.708Z"
   },
   {
    "duration": 545,
    "start_time": "2022-06-10T04:44:06.852Z"
   },
   {
    "duration": 37,
    "start_time": "2022-06-10T04:44:07.399Z"
   },
   {
    "duration": 47,
    "start_time": "2022-06-10T04:44:07.438Z"
   },
   {
    "duration": 38,
    "start_time": "2022-06-10T04:44:07.490Z"
   },
   {
    "duration": 20,
    "start_time": "2022-06-10T04:44:07.530Z"
   },
   {
    "duration": 49,
    "start_time": "2022-06-10T04:44:07.552Z"
   },
   {
    "duration": 18,
    "start_time": "2022-06-10T04:44:07.603Z"
   },
   {
    "duration": 59,
    "start_time": "2022-06-10T04:44:07.623Z"
   },
   {
    "duration": 19,
    "start_time": "2022-06-10T04:44:07.683Z"
   },
   {
    "duration": 41,
    "start_time": "2022-06-10T04:44:07.703Z"
   },
   {
    "duration": 40,
    "start_time": "2022-06-10T04:44:07.746Z"
   },
   {
    "duration": 137,
    "start_time": "2022-06-10T04:44:07.788Z"
   },
   {
    "duration": 16,
    "start_time": "2022-06-10T04:44:07.927Z"
   },
   {
    "duration": 98,
    "start_time": "2022-06-10T04:44:07.945Z"
   },
   {
    "duration": 264,
    "start_time": "2022-06-10T04:44:08.045Z"
   },
   {
    "duration": 3,
    "start_time": "2022-06-10T04:44:08.311Z"
   },
   {
    "duration": 10,
    "start_time": "2022-06-10T04:44:08.316Z"
   },
   {
    "duration": 293,
    "start_time": "2022-06-10T04:44:08.328Z"
   },
   {
    "duration": 535,
    "start_time": "2022-06-10T04:44:08.622Z"
   },
   {
    "duration": 24,
    "start_time": "2022-06-10T04:44:09.160Z"
   },
   {
    "duration": 71,
    "start_time": "2022-06-10T04:44:09.192Z"
   },
   {
    "duration": 280,
    "start_time": "2022-06-10T04:44:09.266Z"
   },
   {
    "duration": 2,
    "start_time": "2022-06-10T04:44:09.549Z"
   },
   {
    "duration": 79,
    "start_time": "2022-06-10T04:44:11.096Z"
   },
   {
    "duration": 2289,
    "start_time": "2022-06-10T04:53:27.210Z"
   },
   {
    "duration": 7,
    "start_time": "2022-06-10T04:53:29.501Z"
   },
   {
    "duration": 2022,
    "start_time": "2022-06-10T04:53:29.509Z"
   },
   {
    "duration": 478,
    "start_time": "2022-06-10T04:53:31.532Z"
   },
   {
    "duration": 36,
    "start_time": "2022-06-10T04:53:32.012Z"
   },
   {
    "duration": 43,
    "start_time": "2022-06-10T04:53:32.050Z"
   },
   {
    "duration": 41,
    "start_time": "2022-06-10T04:53:32.095Z"
   },
   {
    "duration": 34,
    "start_time": "2022-06-10T04:53:32.138Z"
   },
   {
    "duration": 55,
    "start_time": "2022-06-10T04:53:32.175Z"
   },
   {
    "duration": 22,
    "start_time": "2022-06-10T04:53:32.233Z"
   },
   {
    "duration": 61,
    "start_time": "2022-06-10T04:53:32.257Z"
   },
   {
    "duration": 37,
    "start_time": "2022-06-10T04:53:32.321Z"
   },
   {
    "duration": 59,
    "start_time": "2022-06-10T04:53:32.360Z"
   },
   {
    "duration": 23,
    "start_time": "2022-06-10T04:53:32.420Z"
   },
   {
    "duration": 165,
    "start_time": "2022-06-10T04:53:32.445Z"
   },
   {
    "duration": 19,
    "start_time": "2022-06-10T04:53:32.611Z"
   },
   {
    "duration": 110,
    "start_time": "2022-06-10T04:53:32.632Z"
   },
   {
    "duration": 243,
    "start_time": "2022-06-10T04:53:32.744Z"
   },
   {
    "duration": 3,
    "start_time": "2022-06-10T04:53:32.989Z"
   },
   {
    "duration": 13,
    "start_time": "2022-06-10T04:53:32.994Z"
   },
   {
    "duration": 285,
    "start_time": "2022-06-10T04:53:33.008Z"
   },
   {
    "duration": 513,
    "start_time": "2022-06-10T04:53:33.295Z"
   },
   {
    "duration": 13,
    "start_time": "2022-06-10T04:53:33.809Z"
   },
   {
    "duration": 72,
    "start_time": "2022-06-10T04:53:33.823Z"
   },
   {
    "duration": 267,
    "start_time": "2022-06-10T04:53:33.897Z"
   },
   {
    "duration": 12,
    "start_time": "2022-06-10T04:53:34.166Z"
   },
   {
    "duration": 103,
    "start_time": "2022-06-10T04:53:34.182Z"
   },
   {
    "duration": 3,
    "start_time": "2022-06-10T04:53:34.288Z"
   },
   {
    "duration": 30,
    "start_time": "2022-06-10T04:53:34.293Z"
   },
   {
    "duration": 28,
    "start_time": "2022-06-10T04:53:34.324Z"
   },
   {
    "duration": 4,
    "start_time": "2022-06-10T04:55:07.795Z"
   },
   {
    "duration": 4,
    "start_time": "2022-06-10T04:55:26.322Z"
   },
   {
    "duration": 2203,
    "start_time": "2022-06-10T04:56:33.708Z"
   },
   {
    "duration": 7,
    "start_time": "2022-06-10T04:56:35.913Z"
   },
   {
    "duration": 2012,
    "start_time": "2022-06-10T04:56:35.921Z"
   },
   {
    "duration": 492,
    "start_time": "2022-06-10T04:56:37.935Z"
   },
   {
    "duration": 52,
    "start_time": "2022-06-10T04:56:38.429Z"
   },
   {
    "duration": 19,
    "start_time": "2022-06-10T04:56:38.482Z"
   },
   {
    "duration": 45,
    "start_time": "2022-06-10T04:56:38.502Z"
   },
   {
    "duration": 28,
    "start_time": "2022-06-10T04:56:38.548Z"
   },
   {
    "duration": 37,
    "start_time": "2022-06-10T04:56:38.582Z"
   },
   {
    "duration": 21,
    "start_time": "2022-06-10T04:56:38.621Z"
   },
   {
    "duration": 42,
    "start_time": "2022-06-10T04:56:38.643Z"
   },
   {
    "duration": 17,
    "start_time": "2022-06-10T04:56:38.687Z"
   },
   {
    "duration": 37,
    "start_time": "2022-06-10T04:56:38.705Z"
   },
   {
    "duration": 42,
    "start_time": "2022-06-10T04:56:38.744Z"
   },
   {
    "duration": 173,
    "start_time": "2022-06-10T04:56:38.788Z"
   },
   {
    "duration": 19,
    "start_time": "2022-06-10T04:56:38.968Z"
   },
   {
    "duration": 87,
    "start_time": "2022-06-10T04:56:38.989Z"
   },
   {
    "duration": 246,
    "start_time": "2022-06-10T04:56:39.078Z"
   },
   {
    "duration": 2,
    "start_time": "2022-06-10T04:56:39.326Z"
   },
   {
    "duration": 7,
    "start_time": "2022-06-10T04:56:39.329Z"
   },
   {
    "duration": 263,
    "start_time": "2022-06-10T04:56:39.338Z"
   },
   {
    "duration": 330,
    "start_time": "2022-06-10T04:56:39.602Z"
   },
   {
    "duration": 14,
    "start_time": "2022-06-10T04:56:39.934Z"
   },
   {
    "duration": 65,
    "start_time": "2022-06-10T04:56:39.964Z"
   },
   {
    "duration": 275,
    "start_time": "2022-06-10T04:56:40.031Z"
   },
   {
    "duration": 3,
    "start_time": "2022-06-10T04:56:40.308Z"
   },
   {
    "duration": 96,
    "start_time": "2022-06-10T04:56:40.312Z"
   },
   {
    "duration": 3,
    "start_time": "2022-06-10T04:56:40.412Z"
   },
   {
    "duration": 8,
    "start_time": "2022-06-10T04:56:40.417Z"
   },
   {
    "duration": 17,
    "start_time": "2022-06-10T04:56:40.426Z"
   },
   {
    "duration": 33,
    "start_time": "2022-06-10T04:56:40.472Z"
   },
   {
    "duration": 12,
    "start_time": "2022-06-10T04:56:40.506Z"
   },
   {
    "duration": 15,
    "start_time": "2022-06-10T04:56:40.520Z"
   },
   {
    "duration": 47,
    "start_time": "2022-06-10T04:56:40.537Z"
   },
   {
    "duration": 14,
    "start_time": "2022-06-10T04:56:40.586Z"
   },
   {
    "duration": 66,
    "start_time": "2022-06-10T04:56:40.602Z"
   },
   {
    "duration": 159,
    "start_time": "2022-06-10T04:56:40.670Z"
   },
   {
    "duration": 223,
    "start_time": "2022-06-10T04:56:40.831Z"
   },
   {
    "duration": 0,
    "start_time": "2022-06-10T04:56:41.055Z"
   },
   {
    "duration": 0,
    "start_time": "2022-06-10T04:56:41.057Z"
   },
   {
    "duration": 0,
    "start_time": "2022-06-10T04:56:41.066Z"
   },
   {
    "duration": 0,
    "start_time": "2022-06-10T04:56:41.067Z"
   },
   {
    "duration": 157,
    "start_time": "2022-06-10T04:56:59.781Z"
   },
   {
    "duration": 132,
    "start_time": "2022-06-10T04:57:27.065Z"
   },
   {
    "duration": 653,
    "start_time": "2022-06-10T04:57:33.509Z"
   },
   {
    "duration": 3,
    "start_time": "2022-06-10T04:57:54.649Z"
   },
   {
    "duration": 1023,
    "start_time": "2022-06-10T04:57:56.258Z"
   },
   {
    "duration": 41029,
    "start_time": "2022-06-10T04:58:17.919Z"
   },
   {
    "duration": 2229165,
    "start_time": "2022-06-10T05:02:02.229Z"
   },
   {
    "duration": 16,
    "start_time": "2022-06-10T05:39:33.018Z"
   },
   {
    "duration": 149,
    "start_time": "2022-06-10T05:39:38.813Z"
   },
   {
    "duration": 44,
    "start_time": "2022-06-10T05:39:41.779Z"
   },
   {
    "duration": 5,
    "start_time": "2022-06-10T05:39:44.228Z"
   },
   {
    "duration": 480004,
    "start_time": "2022-06-10T05:39:49.312Z"
   },
   {
    "duration": 352499,
    "start_time": "2022-06-10T05:48:43.241Z"
   },
   {
    "duration": 963138,
    "start_time": "2022-06-10T06:28:40.574Z"
   },
   {
    "duration": 7559591,
    "start_time": "2022-06-10T06:46:48.799Z"
   },
   {
    "duration": 1066,
    "start_time": "2022-06-10T08:52:56.022Z"
   },
   {
    "duration": 15,
    "start_time": "2022-06-10T08:53:06.942Z"
   },
   {
    "duration": 1293,
    "start_time": "2022-06-10T08:53:11.103Z"
   },
   {
    "duration": 39,
    "start_time": "2022-06-10T08:53:19.856Z"
   },
   {
    "duration": 66408,
    "start_time": "2022-06-10T08:53:25.731Z"
   },
   {
    "duration": 54967,
    "start_time": "2022-06-10T09:21:00.199Z"
   },
   {
    "duration": 5866,
    "start_time": "2022-06-10T09:24:23.406Z"
   },
   {
    "duration": 672,
    "start_time": "2022-06-10T09:24:36.907Z"
   }
  ],
  "colab": {
   "collapsed_sections": [],
   "name": "1d1fd3e2-6000-4ebf-817c-61710d58ea16.ipynb",
   "provenance": [],
   "toc_visible": true
  },
  "kernelspec": {
   "display_name": "Python 3 (ipykernel)",
   "language": "python",
   "name": "python3"
  },
  "language_info": {
   "codemirror_mode": {
    "name": "ipython",
    "version": 3
   },
   "file_extension": ".py",
   "mimetype": "text/x-python",
   "name": "python",
   "nbconvert_exporter": "python",
   "pygments_lexer": "ipython3",
   "version": "3.9.5"
  },
  "toc": {
   "base_numbering": 1,
   "nav_menu": {},
   "number_sections": true,
   "sideBar": true,
   "skip_h1_title": true,
   "title_cell": "Table of Contents",
   "title_sidebar": "Contents",
   "toc_cell": false,
   "toc_position": {
    "height": "calc(100% - 180px)",
    "left": "10px",
    "top": "150px",
    "width": "379px"
   },
   "toc_section_display": true,
   "toc_window_display": true
  }
 },
 "nbformat": 4,
 "nbformat_minor": 1
}
