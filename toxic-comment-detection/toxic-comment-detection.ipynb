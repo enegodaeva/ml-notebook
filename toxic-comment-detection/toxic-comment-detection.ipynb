{
 "cells": [
  {
   "cell_type": "markdown",
   "source": [
    "# Поиск \"токсичных\" комментариев"
   ],
   "metadata": {
    "collapsed": false
   }
  },
  {
   "cell_type": "markdown",
   "source": [
    "## Описание проекта\n",
    "\n",
    "Интернет-магазин запускает новый сервис, позволяющий пользователям редактировать\n",
    "и дополнять описание товаров. Клиенты предлагают свои правки и комментируют изменения других.\n",
    "Необходимо разработать инструмент, который будет искать токсичные комментарии и отправлять их на модерацию."
   ],
   "metadata": {
    "collapsed": false
   }
  },
  {
   "cell_type": "markdown",
   "source": [
    "## План выполнения проекта:\n",
    "\n",
    "1. Обзор и подготовка данных:\n",
    "  *  Удаление не значимых столбцов\n",
    "  *  Приведение текстов к нижнему регистру\n",
    "  *  Удаление символов отличных от латинских букв\n",
    "  *  Лемматизация текстов\n",
    "  *  Деление на тестовую и обучающую выборку, выделение целевого признака\n",
    "2. Подбор параметров моделей:\n",
    "  *  Линейная регрессия\n",
    "  *  Дерево решений\n",
    "  *  Случайный лес\n",
    "  *  Модель градиентного бустинга\n",
    "3. Обучение модели, показавшей наилучшую метрику на этапе подбора параметров, и расчёт метрики качества на тестовой выборке"
   ],
   "metadata": {
    "collapsed": false
   }
  },
  {
   "cell_type": "code",
   "execution_count": 1,
   "metadata": {
    "colab": {
     "base_uri": "https://localhost:8080/"
    },
    "id": "ybaVm_rPzobo",
    "outputId": "6769d675-9e51-4b01-c054-2ccc6ba13467"
   },
   "outputs": [
    {
     "name": "stderr",
     "output_type": "stream",
     "text": [
      "[nltk_data] Downloading package wordnet to\n",
      "[nltk_data]     C:\\Users\\User\\AppData\\Roaming\\nltk_data...\n",
      "[nltk_data]   Package wordnet is already up-to-date!\n",
      "[nltk_data] Downloading package omw-1.4 to\n",
      "[nltk_data]     C:\\Users\\User\\AppData\\Roaming\\nltk_data...\n",
      "[nltk_data]   Package omw-1.4 is already up-to-date!\n",
      "[nltk_data] Downloading package stopwords to\n",
      "[nltk_data]     C:\\Users\\User\\AppData\\Roaming\\nltk_data...\n",
      "[nltk_data]   Package stopwords is already up-to-date!\n"
     ]
    }
   ],
   "source": [
    "import pandas as pd\n",
    "import numpy as np\n",
    "import matplotlib.pyplot as plt\n",
    "import re\n",
    "\n",
    "from sklearn.linear_model import LogisticRegression\n",
    "from sklearn.tree import DecisionTreeClassifier\n",
    "from sklearn.ensemble import RandomForestClassifier\n",
    "from lightgbm import LGBMClassifier\n",
    "\n",
    "import nltk \n",
    "nltk.download('wordnet')\n",
    "nltk.download('omw-1.4')\n",
    "nltk.download('stopwords')\n",
    "from nltk.stem import WordNetLemmatizer\n",
    "from nltk.corpus import stopwords as nltk_stopwords\n",
    "from spellchecker import SpellChecker\n",
    "\n",
    "from sklearn.feature_extraction.text import TfidfVectorizer \n",
    "from sklearn.pipeline import Pipeline\n",
    "\n",
    "from sklearn.model_selection import train_test_split, cross_val_score, GridSearchCV\n",
    "from sklearn.metrics import accuracy_score, f1_score\n",
    "\n",
    "from matplotlib.ticker import FixedLocator, FixedFormatter"
   ]
  },
  {
   "cell_type": "markdown",
   "metadata": {
    "id": "IbwQBjixyE9w"
   },
   "source": [
    "## Подготовка"
   ]
  },
  {
   "cell_type": "code",
   "execution_count": 2,
   "metadata": {
    "colab": {
     "base_uri": "https://localhost:8080/",
     "height": 202
    },
    "id": "NVkO3RluzsNC",
    "outputId": "d04102ea-1d02-4140-a6f8-61fea7ed51f6"
   },
   "outputs": [
    {
     "data": {
      "text/plain": "   Unnamed: 0                                               text  toxic\n0           0  Explanation\\nWhy the edits made under my usern...      0\n1           1  D'aww! He matches this background colour I'm s...      0\n2           2  Hey man, I'm really not trying to edit war. It...      0\n3           3  \"\\nMore\\nI can't make any real suggestions on ...      0\n4           4  You, sir, are my hero. Any chance you remember...      0",
      "text/html": "<div>\n<style scoped>\n    .dataframe tbody tr th:only-of-type {\n        vertical-align: middle;\n    }\n\n    .dataframe tbody tr th {\n        vertical-align: top;\n    }\n\n    .dataframe thead th {\n        text-align: right;\n    }\n</style>\n<table border=\"1\" class=\"dataframe\">\n  <thead>\n    <tr style=\"text-align: right;\">\n      <th></th>\n      <th>Unnamed: 0</th>\n      <th>text</th>\n      <th>toxic</th>\n    </tr>\n  </thead>\n  <tbody>\n    <tr>\n      <th>0</th>\n      <td>0</td>\n      <td>Explanation\\nWhy the edits made under my usern...</td>\n      <td>0</td>\n    </tr>\n    <tr>\n      <th>1</th>\n      <td>1</td>\n      <td>D'aww! He matches this background colour I'm s...</td>\n      <td>0</td>\n    </tr>\n    <tr>\n      <th>2</th>\n      <td>2</td>\n      <td>Hey man, I'm really not trying to edit war. It...</td>\n      <td>0</td>\n    </tr>\n    <tr>\n      <th>3</th>\n      <td>3</td>\n      <td>\"\\nMore\\nI can't make any real suggestions on ...</td>\n      <td>0</td>\n    </tr>\n    <tr>\n      <th>4</th>\n      <td>4</td>\n      <td>You, sir, are my hero. Any chance you remember...</td>\n      <td>0</td>\n    </tr>\n  </tbody>\n</table>\n</div>"
     },
     "execution_count": 2,
     "metadata": {},
     "output_type": "execute_result"
    }
   ],
   "source": [
    "data = pd.read_csv('../datasets/toxic_comments.csv')\n",
    "data.head()"
   ]
  },
  {
   "cell_type": "code",
   "execution_count": 3,
   "outputs": [
    {
     "data": {
      "text/plain": "Index(['Unnamed: 0', 'text', 'toxic'], dtype='object')"
     },
     "execution_count": 3,
     "metadata": {},
     "output_type": "execute_result"
    }
   ],
   "source": [
    "data.columns"
   ],
   "metadata": {
    "collapsed": false
   }
  },
  {
   "cell_type": "markdown",
   "source": [
    "Удалим столбец 'Unnamed: 0'"
   ],
   "metadata": {
    "collapsed": false
   }
  },
  {
   "cell_type": "code",
   "execution_count": 4,
   "outputs": [
    {
     "data": {
      "text/plain": "Index(['text', 'toxic'], dtype='object')"
     },
     "execution_count": 4,
     "metadata": {},
     "output_type": "execute_result"
    }
   ],
   "source": [
    "data = data.drop(['Unnamed: 0'], axis=1)\n",
    "data.columns"
   ],
   "metadata": {
    "collapsed": false
   }
  },
  {
   "cell_type": "markdown",
   "metadata": {
    "id": "mxWkQU0XQgOb"
   },
   "source": [
    "Приведем все тексты к нижнему регистру, уберем все символы кроме латинских букв и лемматизируем данные"
   ]
  },
  {
   "cell_type": "code",
   "execution_count": 5,
   "metadata": {
    "id": "DhmoIdKsyE9w"
   },
   "outputs": [],
   "source": [
    "lemmatizer = WordNetLemmatizer()\n",
    "spell = SpellChecker()\n",
    "\n",
    "def clear_text(text):\n",
    "  text = re.sub(r'[^a-zA-Z ]', ' ', text) \n",
    "  words = text.split() \n",
    "  return \" \".join(words)\n",
    "\n",
    "def spell_check(text):\n",
    "    result = []\n",
    "    for word in text:\n",
    "        correct_word = spell.correction(word)\n",
    "        result.append(correct_word)\n",
    "    \n",
    "    return \" \".join(result)\n",
    "\n",
    "def lemmatize_raw_text(text):\n",
    "    text = text.lower()\n",
    "    text = clear_text(text)\n",
    "    \n",
    "    result = []\n",
    "    for word in text.split():\n",
    "        lemma = lemmatizer.lemmatize(word)\n",
    "        result.append(lemma)\n",
    "    \n",
    "    return \" \".join(result)\n",
    "\n",
    "data['text'] = data['text'].str.lower()\n",
    "data['lemm_text'] = data['text'].apply(\n",
    "    lambda x: lemmatize_raw_text(x))\n"
   ]
  },
  {
   "cell_type": "markdown",
   "metadata": {
    "id": "S_MRpPBKRB3g"
   },
   "source": [
    "Выделим целевой признак. Разобьем данные на тестовую и обучающую выборку."
   ]
  },
  {
   "cell_type": "code",
   "execution_count": 6,
   "metadata": {},
   "outputs": [],
   "source": [
    "features = data['lemm_text']\n",
    "target = data['toxic']\n",
    "\n",
    "features_train, features_test, target_train, target_test = train_test_split(\n",
    "    features, target, test_size=0.25, random_state=12345\n",
    ")"
   ]
  },
  {
   "cell_type": "code",
   "execution_count": 7,
   "metadata": {},
   "outputs": [],
   "source": [
    "stopwords = set(nltk_stopwords.words('english'))\n",
    "tf_idf_vect = TfidfVectorizer(stop_words=stopwords)\n",
    "\n",
    "def get_pipeline(model):\n",
    "    pipeline = Pipeline([\n",
    "        ('tf_idf', tf_idf_vect),\n",
    "        ('mod', model)\n",
    "    ])\n",
    "    return pipeline"
   ]
  },
  {
   "cell_type": "markdown",
   "source": [
    "**Вывод** Данные очищены и лемматизированы. Построена матрица значений TF-IDF."
   ],
   "metadata": {
    "collapsed": false
   }
  },
  {
   "cell_type": "markdown",
   "source": [
    "## Обучение"
   ],
   "metadata": {
    "collapsed": false
   }
  },
  {
   "cell_type": "markdown",
   "source": [
    "### Логистическая регрессия"
   ],
   "metadata": {
    "collapsed": false
   }
  },
  {
   "cell_type": "markdown",
   "source": [
    "Посмотрим баланс классов"
   ],
   "metadata": {
    "collapsed": false
   }
  },
  {
   "cell_type": "code",
   "execution_count": 8,
   "outputs": [
    {
     "data": {
      "text/plain": "<Figure size 640x480 with 1 Axes>",
      "image/png": "[encoded data removed]"
     },
     "metadata": {},
     "output_type": "display_data"
    }
   ],
   "source": [
    "fig, ax = plt.subplots()\n",
    "data.plot(kind='hist', y='toxic', ax=ax, bins=2)\n",
    "ax.xaxis.set_major_locator(FixedLocator([0, 1]))\n",
    "ax.xaxis.set_major_formatter(FixedFormatter(['позитивные', 'негативные']))\n",
    "plt.title(\"Распределение классов сообщений\", fontsize=12)\n",
    "plt.xlabel(\"класс\")\n",
    "plt.ylabel(\"количество сообщений (шт)\")\n",
    "plt.show()"
   ],
   "metadata": {
    "collapsed": false
   }
  },
  {
   "cell_type": "markdown",
   "source": [
    "Классы не сбалансированы, класс 1 встречается рее примерно в 7 раз. Обучим модель задав параметр class_weight='balanced'"
   ],
   "metadata": {
    "collapsed": false
   }
  },
  {
   "cell_type": "code",
   "execution_count": 9,
   "outputs": [
    {
     "name": "stdout",
     "output_type": "stream",
     "text": [
      "Усреднённая f1:  0.742043272829016\n"
     ]
    }
   ],
   "source": [
    "model = LogisticRegression(random_state=12345, solver='liblinear', class_weight='balanced')\n",
    "pipeline = get_pipeline(model)\n",
    "\n",
    "mean_f1 = cross_val_score(pipeline, features_train, target_train, scoring='f1', cv=5).mean()\n",
    "print('Усреднённая f1: ', mean_f1)"
   ],
   "metadata": {
    "collapsed": false
   }
  },
  {
   "cell_type": "markdown",
   "source": [
    "Усреднённая метрика f1 для модели логистическая регрессия равна 0.74"
   ],
   "metadata": {
    "collapsed": false
   }
  },
  {
   "cell_type": "markdown",
   "source": [
    "### Дерево решений"
   ],
   "metadata": {
    "collapsed": false
   }
  },
  {
   "cell_type": "code",
   "execution_count": 10,
   "metadata": {
    "collapsed": true
   },
   "outputs": [
    {
     "name": "stdout",
     "output_type": "stream",
     "text": [
      "Fitting 3 folds for each of 10 candidates, totalling 30 fits\n",
      "[CV 1/3; 1/10] START mod__criterion=gini, mod__max_depth=1......................\n",
      "[CV 1/3; 1/10] END mod__criterion=gini, mod__max_depth=1;, score=0.270 total time=   3.6s\n",
      "[CV 2/3; 1/10] START mod__criterion=gini, mod__max_depth=1......................\n",
      "[CV 2/3; 1/10] END mod__criterion=gini, mod__max_depth=1;, score=0.273 total time=   3.5s\n",
      "[CV 3/3; 1/10] START mod__criterion=gini, mod__max_depth=1......................\n",
      "[CV 3/3; 1/10] END mod__criterion=gini, mod__max_depth=1;, score=0.275 total time=   3.5s\n",
      "[CV 1/3; 2/10] START mod__criterion=gini, mod__max_depth=3......................\n",
      "[CV 1/3; 2/10] END mod__criterion=gini, mod__max_depth=3;, score=0.370 total time=   4.1s\n",
      "[CV 2/3; 2/10] START mod__criterion=gini, mod__max_depth=3......................\n",
      "[CV 2/3; 2/10] END mod__criterion=gini, mod__max_depth=3;, score=0.370 total time=   4.1s\n",
      "[CV 3/3; 2/10] START mod__criterion=gini, mod__max_depth=3......................\n",
      "[CV 3/3; 2/10] END mod__criterion=gini, mod__max_depth=3;, score=0.369 total time=   4.1s\n",
      "[CV 1/3; 3/10] START mod__criterion=gini, mod__max_depth=5......................\n",
      "[CV 1/3; 3/10] END mod__criterion=gini, mod__max_depth=5;, score=0.468 total time=   4.8s\n",
      "[CV 2/3; 3/10] START mod__criterion=gini, mod__max_depth=5......................\n",
      "[CV 2/3; 3/10] END mod__criterion=gini, mod__max_depth=5;, score=0.241 total time=   4.8s\n",
      "[CV 3/3; 3/10] START mod__criterion=gini, mod__max_depth=5......................\n",
      "[CV 3/3; 3/10] END mod__criterion=gini, mod__max_depth=5;, score=0.459 total time=   4.8s\n",
      "[CV 1/3; 4/10] START mod__criterion=gini, mod__max_depth=7......................\n",
      "[CV 1/3; 4/10] END mod__criterion=gini, mod__max_depth=7;, score=0.525 total time=   5.5s\n",
      "[CV 2/3; 4/10] START mod__criterion=gini, mod__max_depth=7......................\n",
      "[CV 2/3; 4/10] END mod__criterion=gini, mod__max_depth=7;, score=0.513 total time=   5.5s\n",
      "[CV 3/3; 4/10] START mod__criterion=gini, mod__max_depth=7......................\n",
      "[CV 3/3; 4/10] END mod__criterion=gini, mod__max_depth=7;, score=0.497 total time=   5.4s\n",
      "[CV 1/3; 5/10] START mod__criterion=gini, mod__max_depth=9......................\n",
      "[CV 1/3; 5/10] END mod__criterion=gini, mod__max_depth=9;, score=0.540 total time=   6.3s\n",
      "[CV 2/3; 5/10] START mod__criterion=gini, mod__max_depth=9......................\n",
      "[CV 2/3; 5/10] END mod__criterion=gini, mod__max_depth=9;, score=0.541 total time=   6.4s\n",
      "[CV 3/3; 5/10] START mod__criterion=gini, mod__max_depth=9......................\n",
      "[CV 3/3; 5/10] END mod__criterion=gini, mod__max_depth=9;, score=0.533 total time=   6.2s\n",
      "[CV 1/3; 6/10] START mod__criterion=entropy, mod__max_depth=1...................\n",
      "[CV 1/3; 6/10] END mod__criterion=entropy, mod__max_depth=1;, score=0.270 total time=   3.6s\n",
      "[CV 2/3; 6/10] START mod__criterion=entropy, mod__max_depth=1...................\n",
      "[CV 2/3; 6/10] END mod__criterion=entropy, mod__max_depth=1;, score=0.273 total time=   3.6s\n",
      "[CV 3/3; 6/10] START mod__criterion=entropy, mod__max_depth=1...................\n",
      "[CV 3/3; 6/10] END mod__criterion=entropy, mod__max_depth=1;, score=0.275 total time=   3.6s\n",
      "[CV 1/3; 7/10] START mod__criterion=entropy, mod__max_depth=3...................\n",
      "[CV 1/3; 7/10] END mod__criterion=entropy, mod__max_depth=3;, score=0.370 total time=   4.3s\n",
      "[CV 2/3; 7/10] START mod__criterion=entropy, mod__max_depth=3...................\n",
      "[CV 2/3; 7/10] END mod__criterion=entropy, mod__max_depth=3;, score=0.375 total time=   4.3s\n",
      "[CV 3/3; 7/10] START mod__criterion=entropy, mod__max_depth=3...................\n",
      "[CV 3/3; 7/10] END mod__criterion=entropy, mod__max_depth=3;, score=0.369 total time=   4.3s\n",
      "[CV 1/3; 8/10] START mod__criterion=entropy, mod__max_depth=5...................\n",
      "[CV 1/3; 8/10] END mod__criterion=entropy, mod__max_depth=5;, score=0.467 total time=   5.1s\n",
      "[CV 2/3; 8/10] START mod__criterion=entropy, mod__max_depth=5...................\n",
      "[CV 2/3; 8/10] END mod__criterion=entropy, mod__max_depth=5;, score=0.471 total time=   5.2s\n",
      "[CV 3/3; 8/10] START mod__criterion=entropy, mod__max_depth=5...................\n",
      "[CV 3/3; 8/10] END mod__criterion=entropy, mod__max_depth=5;, score=0.458 total time=   5.1s\n",
      "[CV 1/3; 9/10] START mod__criterion=entropy, mod__max_depth=7...................\n",
      "[CV 1/3; 9/10] END mod__criterion=entropy, mod__max_depth=7;, score=0.523 total time=   6.1s\n",
      "[CV 2/3; 9/10] START mod__criterion=entropy, mod__max_depth=7...................\n",
      "[CV 2/3; 9/10] END mod__criterion=entropy, mod__max_depth=7;, score=0.512 total time=   6.1s\n",
      "[CV 3/3; 9/10] START mod__criterion=entropy, mod__max_depth=7...................\n",
      "[CV 3/3; 9/10] END mod__criterion=entropy, mod__max_depth=7;, score=0.516 total time=   6.0s\n",
      "[CV 1/3; 10/10] START mod__criterion=entropy, mod__max_depth=9..................\n",
      "[CV 1/3; 10/10] END mod__criterion=entropy, mod__max_depth=9;, score=0.530 total time=   7.1s\n",
      "[CV 2/3; 10/10] START mod__criterion=entropy, mod__max_depth=9..................\n",
      "[CV 2/3; 10/10] END mod__criterion=entropy, mod__max_depth=9;, score=0.561 total time=   7.1s\n",
      "[CV 3/3; 10/10] START mod__criterion=entropy, mod__max_depth=9..................\n",
      "[CV 3/3; 10/10] END mod__criterion=entropy, mod__max_depth=9;, score=0.537 total time=   7.0s\n",
      "Лучшие параметры {'mod__criterion': 'entropy', 'mod__max_depth': 9}\n",
      "Усреднённая f1 0.5429932136772946\n"
     ]
    }
   ],
   "source": [
    "model = DecisionTreeClassifier(random_state=1234, class_weight='balanced') \n",
    "pipeline = get_pipeline(model)\n",
    "\n",
    "parameters = {'mod__max_depth': range (1, 10, 2), 'mod__criterion': ['gini', 'entropy']}\n",
    "\n",
    "grid = GridSearchCV(pipeline, parameters, scoring ='f1', cv=3, verbose=10)\n",
    "grid.fit(features_train, np.array(target_train))\n",
    "\n",
    "print('Лучшие параметры', grid.best_params_)\n",
    "print('Усреднённая f1', grid.best_score_)"
   ]
  },
  {
   "cell_type": "markdown",
   "metadata": {
    "id": "WnT6XGxJnVPa"
   },
   "source": [
    "Лучшие параметры для модели {'criterion': 'entropy', 'max_depth': 9} Усреднённая метрика f1 равна 0.54"
   ]
  },
  {
   "cell_type": "markdown",
   "metadata": {
    "id": "MXKiT1pQ39QH"
   },
   "source": [
    "### Случайный лес"
   ]
  },
  {
   "cell_type": "code",
   "execution_count": 11,
   "metadata": {
    "id": "Y7T3xNP54BXp"
   },
   "outputs": [
    {
     "name": "stdout",
     "output_type": "stream",
     "text": [
      "Fitting 3 folds for each of 18 candidates, totalling 54 fits\n",
      "[CV 1/3; 1/18] START mod__max_depth=10, mod__n_estimators=50....................\n",
      "[CV 1/3; 1/18] END mod__max_depth=10, mod__n_estimators=50;, score=0.346 total time=   5.1s\n",
      "[CV 2/3; 1/18] START mod__max_depth=10, mod__n_estimators=50....................\n",
      "[CV 2/3; 1/18] END mod__max_depth=10, mod__n_estimators=50;, score=0.349 total time=   5.2s\n",
      "[CV 3/3; 1/18] START mod__max_depth=10, mod__n_estimators=50....................\n",
      "[CV 3/3; 1/18] END mod__max_depth=10, mod__n_estimators=50;, score=0.354 total time=   5.0s\n",
      "[CV 1/3; 2/18] START mod__max_depth=10, mod__n_estimators=60....................\n",
      "[CV 1/3; 2/18] END mod__max_depth=10, mod__n_estimators=60;, score=0.346 total time=   5.2s\n",
      "[CV 2/3; 2/18] START mod__max_depth=10, mod__n_estimators=60....................\n",
      "[CV 2/3; 2/18] END mod__max_depth=10, mod__n_estimators=60;, score=0.346 total time=   5.7s\n",
      "[CV 3/3; 2/18] START mod__max_depth=10, mod__n_estimators=60....................\n",
      "[CV 3/3; 2/18] END mod__max_depth=10, mod__n_estimators=60;, score=0.355 total time=   5.6s\n",
      "[CV 1/3; 3/18] START mod__max_depth=10, mod__n_estimators=70....................\n",
      "[CV 1/3; 3/18] END mod__max_depth=10, mod__n_estimators=70;, score=0.348 total time=   6.3s\n",
      "[CV 2/3; 3/18] START mod__max_depth=10, mod__n_estimators=70....................\n",
      "[CV 2/3; 3/18] END mod__max_depth=10, mod__n_estimators=70;, score=0.352 total time=   6.4s\n",
      "[CV 3/3; 3/18] START mod__max_depth=10, mod__n_estimators=70....................\n",
      "[CV 3/3; 3/18] END mod__max_depth=10, mod__n_estimators=70;, score=0.360 total time=   5.8s\n",
      "[CV 1/3; 4/18] START mod__max_depth=10, mod__n_estimators=80....................\n",
      "[CV 1/3; 4/18] END mod__max_depth=10, mod__n_estimators=80;, score=0.352 total time=   6.0s\n",
      "[CV 2/3; 4/18] START mod__max_depth=10, mod__n_estimators=80....................\n",
      "[CV 2/3; 4/18] END mod__max_depth=10, mod__n_estimators=80;, score=0.352 total time=   6.3s\n",
      "[CV 3/3; 4/18] START mod__max_depth=10, mod__n_estimators=80....................\n",
      "[CV 3/3; 4/18] END mod__max_depth=10, mod__n_estimators=80;, score=0.373 total time=   6.1s\n",
      "[CV 1/3; 5/18] START mod__max_depth=10, mod__n_estimators=90....................\n",
      "[CV 1/3; 5/18] END mod__max_depth=10, mod__n_estimators=90;, score=0.361 total time=   6.4s\n",
      "[CV 2/3; 5/18] START mod__max_depth=10, mod__n_estimators=90....................\n",
      "[CV 2/3; 5/18] END mod__max_depth=10, mod__n_estimators=90;, score=0.354 total time=   6.5s\n",
      "[CV 3/3; 5/18] START mod__max_depth=10, mod__n_estimators=90....................\n",
      "[CV 3/3; 5/18] END mod__max_depth=10, mod__n_estimators=90;, score=0.372 total time=   6.4s\n",
      "[CV 1/3; 6/18] START mod__max_depth=10, mod__n_estimators=100...................\n",
      "[CV 1/3; 6/18] END mod__max_depth=10, mod__n_estimators=100;, score=0.358 total time=   6.7s\n",
      "[CV 2/3; 6/18] START mod__max_depth=10, mod__n_estimators=100...................\n",
      "[CV 2/3; 6/18] END mod__max_depth=10, mod__n_estimators=100;, score=0.353 total time=   7.0s\n",
      "[CV 3/3; 6/18] START mod__max_depth=10, mod__n_estimators=100...................\n",
      "[CV 3/3; 6/18] END mod__max_depth=10, mod__n_estimators=100;, score=0.376 total time=   6.8s\n",
      "[CV 1/3; 7/18] START mod__max_depth=12, mod__n_estimators=50....................\n",
      "[CV 1/3; 7/18] END mod__max_depth=12, mod__n_estimators=50;, score=0.358 total time=   5.6s\n",
      "[CV 2/3; 7/18] START mod__max_depth=12, mod__n_estimators=50....................\n",
      "[CV 2/3; 7/18] END mod__max_depth=12, mod__n_estimators=50;, score=0.362 total time=   5.9s\n",
      "[CV 3/3; 7/18] START mod__max_depth=12, mod__n_estimators=50....................\n",
      "[CV 3/3; 7/18] END mod__max_depth=12, mod__n_estimators=50;, score=0.361 total time=   5.6s\n",
      "[CV 1/3; 8/18] START mod__max_depth=12, mod__n_estimators=60....................\n",
      "[CV 1/3; 8/18] END mod__max_depth=12, mod__n_estimators=60;, score=0.356 total time=   6.2s\n",
      "[CV 2/3; 8/18] START mod__max_depth=12, mod__n_estimators=60....................\n",
      "[CV 2/3; 8/18] END mod__max_depth=12, mod__n_estimators=60;, score=0.363 total time=   6.4s\n",
      "[CV 3/3; 8/18] START mod__max_depth=12, mod__n_estimators=60....................\n",
      "[CV 3/3; 8/18] END mod__max_depth=12, mod__n_estimators=60;, score=0.364 total time=   6.0s\n",
      "[CV 1/3; 9/18] START mod__max_depth=12, mod__n_estimators=70....................\n",
      "[CV 1/3; 9/18] END mod__max_depth=12, mod__n_estimators=70;, score=0.356 total time=   6.5s\n",
      "[CV 2/3; 9/18] START mod__max_depth=12, mod__n_estimators=70....................\n",
      "[CV 2/3; 9/18] END mod__max_depth=12, mod__n_estimators=70;, score=0.366 total time=   7.0s\n",
      "[CV 3/3; 9/18] START mod__max_depth=12, mod__n_estimators=70....................\n",
      "[CV 3/3; 9/18] END mod__max_depth=12, mod__n_estimators=70;, score=0.370 total time=   6.6s\n",
      "[CV 1/3; 10/18] START mod__max_depth=12, mod__n_estimators=80...................\n",
      "[CV 1/3; 10/18] END mod__max_depth=12, mod__n_estimators=80;, score=0.367 total time=   6.9s\n",
      "[CV 2/3; 10/18] START mod__max_depth=12, mod__n_estimators=80...................\n",
      "[CV 2/3; 10/18] END mod__max_depth=12, mod__n_estimators=80;, score=0.362 total time=   7.4s\n",
      "[CV 3/3; 10/18] START mod__max_depth=12, mod__n_estimators=80...................\n",
      "[CV 3/3; 10/18] END mod__max_depth=12, mod__n_estimators=80;, score=0.378 total time=   6.9s\n",
      "[CV 1/3; 11/18] START mod__max_depth=12, mod__n_estimators=90...................\n",
      "[CV 1/3; 11/18] END mod__max_depth=12, mod__n_estimators=90;, score=0.372 total time=   7.4s\n",
      "[CV 2/3; 11/18] START mod__max_depth=12, mod__n_estimators=90...................\n",
      "[CV 2/3; 11/18] END mod__max_depth=12, mod__n_estimators=90;, score=0.365 total time=   7.8s\n",
      "[CV 3/3; 11/18] START mod__max_depth=12, mod__n_estimators=90...................\n",
      "[CV 3/3; 11/18] END mod__max_depth=12, mod__n_estimators=90;, score=0.376 total time=   7.4s\n",
      "[CV 1/3; 12/18] START mod__max_depth=12, mod__n_estimators=100..................\n",
      "[CV 1/3; 12/18] END mod__max_depth=12, mod__n_estimators=100;, score=0.370 total time=   7.9s\n",
      "[CV 2/3; 12/18] START mod__max_depth=12, mod__n_estimators=100..................\n",
      "[CV 2/3; 12/18] END mod__max_depth=12, mod__n_estimators=100;, score=0.363 total time=   8.5s\n",
      "[CV 3/3; 12/18] START mod__max_depth=12, mod__n_estimators=100..................\n",
      "[CV 3/3; 12/18] END mod__max_depth=12, mod__n_estimators=100;, score=0.381 total time=   7.9s\n",
      "[CV 1/3; 13/18] START mod__max_depth=14, mod__n_estimators=50...................\n",
      "[CV 1/3; 13/18] END mod__max_depth=14, mod__n_estimators=50;, score=0.375 total time=   6.7s\n",
      "[CV 2/3; 13/18] START mod__max_depth=14, mod__n_estimators=50...................\n",
      "[CV 2/3; 13/18] END mod__max_depth=14, mod__n_estimators=50;, score=0.367 total time=   6.6s\n",
      "[CV 3/3; 13/18] START mod__max_depth=14, mod__n_estimators=50...................\n",
      "[CV 3/3; 13/18] END mod__max_depth=14, mod__n_estimators=50;, score=0.375 total time=   6.3s\n",
      "[CV 1/3; 14/18] START mod__max_depth=14, mod__n_estimators=60...................\n",
      "[CV 1/3; 14/18] END mod__max_depth=14, mod__n_estimators=60;, score=0.375 total time=   7.2s\n",
      "[CV 2/3; 14/18] START mod__max_depth=14, mod__n_estimators=60...................\n",
      "[CV 2/3; 14/18] END mod__max_depth=14, mod__n_estimators=60;, score=0.367 total time=   7.3s\n",
      "[CV 3/3; 14/18] START mod__max_depth=14, mod__n_estimators=60...................\n",
      "[CV 3/3; 14/18] END mod__max_depth=14, mod__n_estimators=60;, score=0.377 total time=   6.9s\n",
      "[CV 1/3; 15/18] START mod__max_depth=14, mod__n_estimators=70...................\n",
      "[CV 1/3; 15/18] END mod__max_depth=14, mod__n_estimators=70;, score=0.375 total time=   8.5s\n",
      "[CV 2/3; 15/18] START mod__max_depth=14, mod__n_estimators=70...................\n",
      "[CV 2/3; 15/18] END mod__max_depth=14, mod__n_estimators=70;, score=0.370 total time=   7.9s\n",
      "[CV 3/3; 15/18] START mod__max_depth=14, mod__n_estimators=70...................\n",
      "[CV 3/3; 15/18] END mod__max_depth=14, mod__n_estimators=70;, score=0.380 total time=   7.4s\n",
      "[CV 1/3; 16/18] START mod__max_depth=14, mod__n_estimators=80...................\n",
      "[CV 1/3; 16/18] END mod__max_depth=14, mod__n_estimators=80;, score=0.383 total time=   8.5s\n",
      "[CV 2/3; 16/18] START mod__max_depth=14, mod__n_estimators=80...................\n",
      "[CV 2/3; 16/18] END mod__max_depth=14, mod__n_estimators=80;, score=0.374 total time=   8.6s\n",
      "[CV 3/3; 16/18] START mod__max_depth=14, mod__n_estimators=80...................\n",
      "[CV 3/3; 16/18] END mod__max_depth=14, mod__n_estimators=80;, score=0.389 total time=   8.0s\n",
      "[CV 1/3; 17/18] START mod__max_depth=14, mod__n_estimators=90...................\n",
      "[CV 1/3; 17/18] END mod__max_depth=14, mod__n_estimators=90;, score=0.386 total time=   9.2s\n",
      "[CV 2/3; 17/18] START mod__max_depth=14, mod__n_estimators=90...................\n",
      "[CV 2/3; 17/18] END mod__max_depth=14, mod__n_estimators=90;, score=0.373 total time=   9.1s\n",
      "[CV 3/3; 17/18] START mod__max_depth=14, mod__n_estimators=90...................\n",
      "[CV 3/3; 17/18] END mod__max_depth=14, mod__n_estimators=90;, score=0.396 total time=   8.5s\n",
      "[CV 1/3; 18/18] START mod__max_depth=14, mod__n_estimators=100..................\n",
      "[CV 1/3; 18/18] END mod__max_depth=14, mod__n_estimators=100;, score=0.383 total time=   9.6s\n",
      "[CV 2/3; 18/18] START mod__max_depth=14, mod__n_estimators=100..................\n",
      "[CV 2/3; 18/18] END mod__max_depth=14, mod__n_estimators=100;, score=0.370 total time=   9.9s\n",
      "[CV 3/3; 18/18] START mod__max_depth=14, mod__n_estimators=100..................\n",
      "[CV 3/3; 18/18] END mod__max_depth=14, mod__n_estimators=100;, score=0.397 total time=   9.1s\n",
      "Лучшие параметры {'mod__max_depth': 14, 'mod__n_estimators': 90}\n",
      "f1 0.3849623333590351\n"
     ]
    }
   ],
   "source": [
    "model = RandomForestClassifier(random_state=1234, class_weight='balanced')\n",
    "pipeline = get_pipeline(model)\n",
    "\n",
    "parameters = {'mod__n_estimators': range (50, 110, 10), 'mod__max_depth': range (10, 15, 2)}\n",
    "grid = GridSearchCV(pipeline, parameters, scoring ='f1', cv=3, verbose=10)\n",
    "grid.fit(features_train, target_train)\n",
    "\n",
    "print('Лучшие параметры', grid.best_params_)\n",
    "print('f1', grid.best_score_)"
   ]
  },
  {
   "cell_type": "markdown",
   "metadata": {
    "id": "8FlQ1Adkm2LU"
   },
   "source": [
    "Лучшие параметры для модели 'max_depth': 14, 'n_estimators': 90. Усреднённая метрика f1 равна 0.38"
   ]
  },
  {
   "cell_type": "markdown",
   "metadata": {
    "id": "zMHFpEAE6fMP"
   },
   "source": [
    "### Градиентный бустинг"
   ]
  },
  {
   "cell_type": "code",
   "execution_count": 12,
   "metadata": {
    "colab": {
     "base_uri": "https://localhost:8080/"
    },
    "id": "dXdsdMaU6mu0",
    "outputId": "6d6539da-9c5e-498c-90b4-29d6f8582daf"
   },
   "outputs": [
    {
     "name": "stdout",
     "output_type": "stream",
     "text": [
      "Fitting 2 folds for each of 4 candidates, totalling 8 fits\n",
      "{'mod__learning_rate': 0.3, 'mod__n_estimators': 150}\n",
      "f1 0.750394852862018\n"
     ]
    }
   ],
   "source": [
    "model = LGBMClassifier(random_state = 12345, max_depth=15)\n",
    "pipeline = get_pipeline(model)\n",
    "\n",
    "parameters = {\n",
    "    'mod__n_estimators': (100, 150),\n",
    "    'mod__learning_rate': (0.1, 0.3)}\n",
    "\n",
    "grid_lgbm = GridSearchCV(estimator = pipeline, param_grid = parameters, n_jobs = 3, scoring ='f1', cv=2, verbose=20)\n",
    "grid_lgbm.fit(features_train, target_train)\n",
    "print(grid_lgbm.best_params_)\n",
    "print('f1', grid_lgbm.best_score_)"
   ]
  },
  {
   "cell_type": "markdown",
   "metadata": {
    "id": "XTfOcb3Tnuaw"
   },
   "source": [
    "Лучшие параметры для модели Градиентный бустинг ('n_estimators': 150, , max_depth=15, 'learning_rate': 0.3). Усреднённая метрика f1 равна 0.75"
   ]
  },
  {
   "cell_type": "markdown",
   "metadata": {
    "id": "ru1n-MrzNBHk"
   },
   "source": [
    "**Вывод:**\n",
    "* Модель Градиентный бустинг('max_depth': 15, 'learning_rate': 0.3) f1=0.75 показала наилучший результат f1=0.75\n",
    "* На втором месте модель логистическая регрессия f1=0.74\n",
    "* На третьем месте модель Дерево решений ('criterion': 'entropy', 'max_depth': 9) f1=0.55\n",
    "* Модель Случайный лес показала самый плохой результат f1=0.35"
   ]
  },
  {
   "cell_type": "markdown",
   "source": [
    "## Тестирование"
   ],
   "metadata": {
    "collapsed": false
   }
  },
  {
   "cell_type": "code",
   "execution_count": 13,
   "outputs": [
    {
     "name": "stdout",
     "output_type": "stream",
     "text": [
      "accuracy: 0.9480953217989604\n",
      "f1:  0.7627138101251291\n"
     ]
    }
   ],
   "source": [
    "model = LGBMClassifier(random_state=1234, class_weight='balanced',n_estimators=150, max_depth=15, learning_rate=0.3 )\n",
    "pipeline = get_pipeline(model)\n",
    "pipeline.fit(features_train, target_train)\n",
    "\n",
    "predictions = pipeline.predict(features_test)\n",
    "accuracy = accuracy_score(predictions, target_test)\n",
    "score = f1_score(predictions, target_test)\n",
    "print(\"accuracy:\", accuracy)\n",
    "print('f1: ', score)"
   ],
   "metadata": {
    "collapsed": false
   }
  },
  {
   "cell_type": "markdown",
   "source": [
    "Метрика f1 на тестовых данных для модели Градиентный бустинг('n_estimators'=150, 'max_depth': 15, 'learning_rate': 0.3) равна 0.75"
   ],
   "metadata": {
    "collapsed": false
   }
  },
  {
   "cell_type": "markdown",
   "source": [
    "## Общий вывод\n",
    "\n",
    "В процессе подготовки данных была проделана следующая работа:\n",
    "* удалён не значимый столбец\n",
    "* данные очищены и лемматизированы\n",
    "* построена матрица значений TF-IDF\n",
    "* выявлен дисбаланс классов\n",
    "\n",
    "Были рассмотрены 4 модели машинного обучения: логистическая регрессия, дерево решений, случайный лес, градиентный бустинг. При подборе параметров лучшее значение усредненной f1 показала модель градиентный бустинг ('n_estimators': 150, , max_depth=15, 'learning_rate': 0.3) (0.75). При тестировании данной модели метрика f1 = 0.75."
   ],
   "metadata": {
    "collapsed": false
   }
  }
 ],
 "metadata": {
  "ExecuteTimeLog": [
   {
    "duration": 2702,
    "start_time": "2022-06-15T11:59:37.713Z"
   },
   {
    "duration": 4582,
    "start_time": "2022-06-15T11:59:40.417Z"
   },
   {
    "duration": 135,
    "start_time": "2022-06-15T11:59:45.001Z"
   },
   {
    "duration": 0,
    "start_time": "2022-06-15T11:59:45.138Z"
   },
   {
    "duration": 0,
    "start_time": "2022-06-15T11:59:45.139Z"
   },
   {
    "duration": 0,
    "start_time": "2022-06-15T11:59:45.140Z"
   },
   {
    "duration": 0,
    "start_time": "2022-06-15T11:59:45.141Z"
   },
   {
    "duration": 0,
    "start_time": "2022-06-15T11:59:45.142Z"
   },
   {
    "duration": 0,
    "start_time": "2022-06-15T11:59:45.143Z"
   },
   {
    "duration": 11,
    "start_time": "2022-06-15T11:59:50.373Z"
   },
   {
    "duration": 16,
    "start_time": "2022-06-15T11:59:56.450Z"
   },
   {
    "duration": 4,
    "start_time": "2022-06-15T12:00:15.491Z"
   },
   {
    "duration": 11,
    "start_time": "2022-06-15T12:00:18.148Z"
   },
   {
    "duration": 19,
    "start_time": "2022-06-15T12:00:26.150Z"
   },
   {
    "duration": 9,
    "start_time": "2022-06-15T12:00:56.239Z"
   },
   {
    "duration": 16,
    "start_time": "2022-06-15T12:01:08.978Z"
   },
   {
    "duration": 14,
    "start_time": "2022-06-15T12:01:14.715Z"
   },
   {
    "duration": 2428,
    "start_time": "2022-06-15T12:02:18.492Z"
   },
   {
    "duration": 4697,
    "start_time": "2022-06-15T12:02:20.980Z"
   },
   {
    "duration": 34,
    "start_time": "2022-06-15T12:02:33.007Z"
   },
   {
    "duration": 5,
    "start_time": "2022-06-15T12:02:42.277Z"
   },
   {
    "duration": 17,
    "start_time": "2022-06-15T12:02:46.576Z"
   },
   {
    "duration": 53,
    "start_time": "2022-06-15T12:04:12.540Z"
   },
   {
    "duration": 9,
    "start_time": "2022-06-15T12:04:43.758Z"
   },
   {
    "duration": 81,
    "start_time": "2022-06-15T12:04:51.016Z"
   },
   {
    "duration": 3,
    "start_time": "2022-06-15T12:13:36.171Z"
   },
   {
    "duration": 15,
    "start_time": "2022-06-15T12:13:38.791Z"
   },
   {
    "duration": 4,
    "start_time": "2022-06-15T12:15:59.169Z"
   },
   {
    "duration": 16,
    "start_time": "2022-06-15T12:16:01.277Z"
   },
   {
    "duration": 4,
    "start_time": "2022-06-15T12:16:19.504Z"
   },
   {
    "duration": 16,
    "start_time": "2022-06-15T12:16:36.912Z"
   },
   {
    "duration": 4,
    "start_time": "2022-06-15T12:19:26.201Z"
   },
   {
    "duration": 38,
    "start_time": "2022-06-15T12:19:40.491Z"
   },
   {
    "duration": 10,
    "start_time": "2022-06-15T12:22:57.069Z"
   },
   {
    "duration": 6,
    "start_time": "2022-06-15T12:23:19.982Z"
   },
   {
    "duration": 14,
    "start_time": "2022-06-15T12:23:38.185Z"
   },
   {
    "duration": 38,
    "start_time": "2022-06-15T12:23:47.715Z"
   },
   {
    "duration": 232706,
    "start_time": "2022-06-15T12:25:39.675Z"
   },
   {
    "duration": 47,
    "start_time": "2022-06-15T12:30:13.843Z"
   },
   {
    "duration": 13801,
    "start_time": "2022-06-15T12:30:54.075Z"
   },
   {
    "duration": 13197,
    "start_time": "2022-06-15T12:35:11.656Z"
   },
   {
    "duration": 397509,
    "start_time": "2022-06-15T12:37:05.722Z"
   },
   {
    "duration": 0,
    "start_time": "2022-06-15T12:43:43.233Z"
   },
   {
    "duration": 20024,
    "start_time": "2022-06-15T12:47:22.614Z"
   },
   {
    "duration": 0,
    "start_time": "2022-06-15T12:47:42.640Z"
   },
   {
    "duration": 2173,
    "start_time": "2022-06-15T12:47:44.169Z"
   },
   {
    "duration": 145172,
    "start_time": "2022-06-15T12:47:54.641Z"
   },
   {
    "duration": 6,
    "start_time": "2022-06-15T12:51:50.767Z"
   },
   {
    "duration": 4,
    "start_time": "2022-06-15T12:53:09.442Z"
   },
   {
    "duration": 4,
    "start_time": "2022-06-15T12:54:45.508Z"
   },
   {
    "duration": 116,
    "start_time": "2022-06-15T12:54:56.712Z"
   },
   {
    "duration": 8,
    "start_time": "2022-06-15T12:54:59.856Z"
   },
   {
    "duration": 762,
    "start_time": "2022-06-15T12:55:20.707Z"
   },
   {
    "duration": 106,
    "start_time": "2022-06-15T12:55:24.622Z"
   },
   {
    "duration": 8,
    "start_time": "2022-06-15T12:55:27.933Z"
   },
   {
    "duration": 107,
    "start_time": "2022-06-15T12:56:06.932Z"
   },
   {
    "duration": 759,
    "start_time": "2022-06-15T12:56:10.441Z"
   },
   {
    "duration": 105,
    "start_time": "2022-06-15T12:56:13.920Z"
   },
   {
    "duration": 4,
    "start_time": "2022-06-15T12:56:16.729Z"
   },
   {
    "duration": 5404,
    "start_time": "2022-06-15T12:56:31.470Z"
   },
   {
    "duration": 737,
    "start_time": "2022-06-15T12:56:51.487Z"
   },
   {
    "duration": 31843,
    "start_time": "2022-06-15T12:56:54.381Z"
   },
   {
    "duration": 5,
    "start_time": "2022-06-15T12:57:47.819Z"
   }
  ],
  "colab": {
   "collapsed_sections": [],
   "name": "fe3663ac-1d5f-458d-8d89-2df09be50987.ipynb",
   "provenance": [],
   "toc_visible": true
  },
  "kernelspec": {
   "display_name": "Python 3 (ipykernel)",
   "language": "python",
   "name": "python3"
  },
  "language_info": {
   "codemirror_mode": {
    "name": "ipython",
    "version": 3
   },
   "file_extension": ".py",
   "mimetype": "text/x-python",
   "name": "python",
   "nbconvert_exporter": "python",
   "pygments_lexer": "ipython3",
   "version": "3.9.5"
  },
  "toc": {
   "base_numbering": 1,
   "nav_menu": {},
   "number_sections": true,
   "sideBar": true,
   "skip_h1_title": true,
   "title_cell": "Содержание",
   "title_sidebar": "Contents",
   "toc_cell": true,
   "toc_position": {
    "height": "calc(100% - 180px)",
    "left": "10px",
    "top": "150px",
    "width": "302.391px"
   },
   "toc_section_display": true,
   "toc_window_display": true
  }
 },
 "nbformat": 4,
 "nbformat_minor": 1
}
